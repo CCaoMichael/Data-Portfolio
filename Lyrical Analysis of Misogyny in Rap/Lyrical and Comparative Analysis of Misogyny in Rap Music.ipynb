{
  "cells": [
    {
      "cell_type": "markdown",
      "metadata": {
        "id": "juj8e298gX33"
      },
      "source": [
        "# Lyrical and Comparative Analysis of Misogyny in Rap Music"
      ]
    },
    {
      "cell_type": "markdown",
      "metadata": {},
      "source": [
        "## Data"
      ]
    },
    {
      "cell_type": "markdown",
      "metadata": {
        "id": "89ecf26T2MVq"
      },
      "source": [
        "Import dataset"
      ]
    },
    {
      "cell_type": "code",
      "execution_count": null,
      "metadata": {
        "id": "4NAdFdThUZSl"
      },
      "outputs": [],
      "source": [
        "import numpy as np\n",
        "import pandas as pd\n",
        "import os\n",
        "from wordcloud import WordCloud\n",
        "import matplotlib.pyplot as plt\n",
        "import re\n",
        "import string\n",
        "import nltk\n",
        "import itertools\n",
        "import scipy.stats\n",
        "\n",
        "nltk.download('stopwords')"
      ]
    },
    {
      "cell_type": "markdown",
      "metadata": {},
      "source": [
        "File import & iteration"
      ]
    },
    {
      "cell_type": "code",
      "execution_count": null,
      "metadata": {
        "id": "_w8csjedJmoY"
      },
      "outputs": [],
      "source": [
        "# Pathnames of files\n",
        "\n",
        "for dirname, _, filenames in os.walk('/content/drive/MyDrive/QTM340 Final Project/lyrics/'):\n",
        "    for filename in filenames:\n",
        "        print(os.path.join(dirname, filename))"
      ]
    },
    {
      "cell_type": "code",
      "execution_count": null,
      "metadata": {
        "colab": {
          "base_uri": "https://localhost:8080/"
        },
        "id": "Xy-B535vJ6V0",
        "outputId": "000b6242-16ff-406a-d0fe-99f6fdab8705"
      },
      "outputs": [
        {
          "name": "stdout",
          "output_type": "stream",
          "text": [
            "Mounted at /content/drive\n"
          ]
        }
      ],
      "source": [
        "# Connect colab to drive\n",
        "from google.colab import drive\n",
        "drive.mount('/content/drive')"
      ]
    },
    {
      "cell_type": "code",
      "execution_count": null,
      "metadata": {
        "id": "gWTg1LQvWo06"
      },
      "outputs": [],
      "source": [
        "data = {}\n",
        "frames = []\n",
        "for dirname, _, filenames in os.walk('/content/drive/MyDrive/QTM340 Final Project/lyrics/'):\n",
        "\n",
        "    for filename in filenames:\n",
        "        rapper = os.path.join(dirname, filename)[51:-11]\n",
        "        with open(os.path.join(dirname, filename), encoding='latin1') as f:\n",
        "            content = f.read().splitlines()\n",
        "            for i in range(len(content)-2, -1, -1):\n",
        "                if not content[i] == '':\n",
        "                    content[i] = content[i] + ' ' + content.pop(i+1)\n",
        "            data['rapper'], data['verse'] = rapper, content[1::2]\n",
        "            df_temp = pd.DataFrame(data)\n",
        "            frames.append(df_temp)\n",
        "            df = pd.concat(frames)\n",
        "\n",
        "pd.set_option('max_colwidth', None)"
      ]
    },
    {
      "cell_type": "markdown",
      "metadata": {
        "id": "UMuUtEYx2iHa"
      },
      "source": [
        "## EDA"
      ]
    },
    {
      "cell_type": "code",
      "execution_count": null,
      "metadata": {
        "colab": {
          "base_uri": "https://localhost:8080/"
        },
        "id": "nsxIcl6ZMeMj",
        "outputId": "43bbbec8-af94-4f65-8231-55cb16d6a608"
      },
      "outputs": [
        {
          "name": "stdout",
          "output_type": "stream",
          "text": [
            "5094\n",
            "4578\n"
          ]
        }
      ],
      "source": [
        "# check df\n",
        "print(len(df))\n",
        "\n",
        "# Drop Duplicates\n",
        "df = df.drop_duplicates(subset=['verse'])\n",
        "print(len(df))"
      ]
    },
    {
      "cell_type": "code",
      "execution_count": null,
      "metadata": {
        "colab": {
          "base_uri": "https://localhost:8080/",
          "height": 202
        },
        "id": "fEaxNvICw8Bs",
        "outputId": "8e41dc1b-d9b8-4dbf-f752-2e361ce4b210"
      },
      "outputs": [
        {
          "data": {
            "text/html": [
              "\n",
              "  <div id=\"df-553da31e-c11f-473b-90a6-5e3ac1b9e1b1\" class=\"colab-df-container\">\n",
              "    <div>\n",
              "<style scoped>\n",
              "    .dataframe tbody tr th:only-of-type {\n",
              "        vertical-align: middle;\n",
              "    }\n",
              "\n",
              "    .dataframe tbody tr th {\n",
              "        vertical-align: top;\n",
              "    }\n",
              "\n",
              "    .dataframe thead th {\n",
              "        text-align: right;\n",
              "    }\n",
              "</style>\n",
              "<table border=\"1\" class=\"dataframe\">\n",
              "  <thead>\n",
              "    <tr style=\"text-align: right;\">\n",
              "      <th></th>\n",
              "      <th>rapper</th>\n",
              "      <th>verse</th>\n",
              "    </tr>\n",
              "  </thead>\n",
              "  <tbody>\n",
              "    <tr>\n",
              "      <th>0</th>\n",
              "      <td>A$AP Ant</td>\n",
              "      <td>Chickens in the sink Crack on the stove Triple beam for the weight Cut the middle man tryna get 8 white bitches Snorting off the plate coke from Colombia Riding round in the Benz looking like a trap star Flipping raw day and night Tryna get my money right naw I ain't living rite Fucking bitches all night kick 'em out the next day Everyday is pay day Hit me with a half bring it back in two days Living in Cali by the ocean Condo got em open Long dick stroke em I send 'em to the husband he over there fussing I'm over here fucking no loving Puffing on heavenly rock star 70's Slim pants ripped jeans Jeremy Scott wings Fucking heavily counting up cream Rolling on beans disobedient with trees Tatted from neck to ear bitches they want to stare Macking with hoes as I pose Hand in my draws henny out my pores As I pour hit the blunt too much you on the dash as I pass (Hook) Coke and White Bitches Coke and White Bitches Just Coke and White Bitches Coke and White Bitches Coke and White Bitches Just Coke and White Bitches Coke and White Bitches Coke and White Bitches</td>\n",
              "    </tr>\n",
              "  </tbody>\n",
              "</table>\n",
              "</div>\n",
              "    <div class=\"colab-df-buttons\">\n",
              "\n",
              "  <div class=\"colab-df-container\">\n",
              "    <button class=\"colab-df-convert\" onclick=\"convertToInteractive('df-553da31e-c11f-473b-90a6-5e3ac1b9e1b1')\"\n",
              "            title=\"Convert this dataframe to an interactive table.\"\n",
              "            style=\"display:none;\">\n",
              "\n",
              "  <svg xmlns=\"http://www.w3.org/2000/svg\" height=\"24px\" viewBox=\"0 -960 960 960\">\n",
              "    <path d=\"M120-120v-720h720v720H120Zm60-500h600v-160H180v160Zm220 220h160v-160H400v160Zm0 220h160v-160H400v160ZM180-400h160v-160H180v160Zm440 0h160v-160H620v160ZM180-180h160v-160H180v160Zm440 0h160v-160H620v160Z\"/>\n",
              "  </svg>\n",
              "    </button>\n",
              "\n",
              "  <style>\n",
              "    .colab-df-container {\n",
              "      display:flex;\n",
              "      gap: 12px;\n",
              "    }\n",
              "\n",
              "    .colab-df-convert {\n",
              "      background-color: #E8F0FE;\n",
              "      border: none;\n",
              "      border-radius: 50%;\n",
              "      cursor: pointer;\n",
              "      display: none;\n",
              "      fill: #1967D2;\n",
              "      height: 32px;\n",
              "      padding: 0 0 0 0;\n",
              "      width: 32px;\n",
              "    }\n",
              "\n",
              "    .colab-df-convert:hover {\n",
              "      background-color: #E2EBFA;\n",
              "      box-shadow: 0px 1px 2px rgba(60, 64, 67, 0.3), 0px 1px 3px 1px rgba(60, 64, 67, 0.15);\n",
              "      fill: #174EA6;\n",
              "    }\n",
              "\n",
              "    .colab-df-buttons div {\n",
              "      margin-bottom: 4px;\n",
              "    }\n",
              "\n",
              "    [theme=dark] .colab-df-convert {\n",
              "      background-color: #3B4455;\n",
              "      fill: #D2E3FC;\n",
              "    }\n",
              "\n",
              "    [theme=dark] .colab-df-convert:hover {\n",
              "      background-color: #434B5C;\n",
              "      box-shadow: 0px 1px 3px 1px rgba(0, 0, 0, 0.15);\n",
              "      filter: drop-shadow(0px 1px 2px rgba(0, 0, 0, 0.3));\n",
              "      fill: #FFFFFF;\n",
              "    }\n",
              "  </style>\n",
              "\n",
              "    <script>\n",
              "      const buttonEl =\n",
              "        document.querySelector('#df-553da31e-c11f-473b-90a6-5e3ac1b9e1b1 button.colab-df-convert');\n",
              "      buttonEl.style.display =\n",
              "        google.colab.kernel.accessAllowed ? 'block' : 'none';\n",
              "\n",
              "      async function convertToInteractive(key) {\n",
              "        const element = document.querySelector('#df-553da31e-c11f-473b-90a6-5e3ac1b9e1b1');\n",
              "        const dataTable =\n",
              "          await google.colab.kernel.invokeFunction('convertToInteractive',\n",
              "                                                    [key], {});\n",
              "        if (!dataTable) return;\n",
              "\n",
              "        const docLinkHtml = 'Like what you see? Visit the ' +\n",
              "          '<a target=\"_blank\" href=https://colab.research.google.com/notebooks/data_table.ipynb>data table notebook</a>'\n",
              "          + ' to learn more about interactive tables.';\n",
              "        element.innerHTML = '';\n",
              "        dataTable['output_type'] = 'display_data';\n",
              "        await google.colab.output.renderOutput(dataTable, element);\n",
              "        const docLink = document.createElement('div');\n",
              "        docLink.innerHTML = docLinkHtml;\n",
              "        element.appendChild(docLink);\n",
              "      }\n",
              "    </script>\n",
              "  </div>\n",
              "\n",
              "    </div>\n",
              "  </div>\n"
            ],
            "text/plain": [
              "     rapper  \\\n",
              "0  A$AP Ant   \n",
              "\n",
              "                                                                                                                                                                                                                                                                                                                                                                                                                                                                                                                                                                                                                                                                                                                                                                                                                                                                                                                                                                                                                                                                                                            verse  \n",
              "0  Chickens in the sink Crack on the stove Triple beam for the weight Cut the middle man tryna get 8 white bitches Snorting off the plate coke from Colombia Riding round in the Benz looking like a trap star Flipping raw day and night Tryna get my money right naw I ain't living rite Fucking bitches all night kick 'em out the next day Everyday is pay day Hit me with a half bring it back in two days Living in Cali by the ocean Condo got em open Long dick stroke em I send 'em to the husband he over there fussing I'm over here fucking no loving Puffing on heavenly rock star 70's Slim pants ripped jeans Jeremy Scott wings Fucking heavily counting up cream Rolling on beans disobedient with trees Tatted from neck to ear bitches they want to stare Macking with hoes as I pose Hand in my draws henny out my pores As I pour hit the blunt too much you on the dash as I pass (Hook) Coke and White Bitches Coke and White Bitches Just Coke and White Bitches Coke and White Bitches Coke and White Bitches Just Coke and White Bitches Coke and White Bitches Coke and White Bitches   "
            ]
          },
          "execution_count": 6,
          "metadata": {},
          "output_type": "execute_result"
        }
      ],
      "source": [
        "df.head()"
      ]
    },
    {
      "cell_type": "code",
      "execution_count": null,
      "metadata": {
        "id": "bJhyFtCbXgtH"
      },
      "outputs": [],
      "source": [
        "# Remove non-English characters while keeping punctuations\n",
        "def remove_non_english(text):\n",
        "    return re.sub(r'[^a-zA-Z,!.?\\'\"\\-]', ' ', text)"
      ]
    },
    {
      "cell_type": "code",
      "execution_count": null,
      "metadata": {
        "id": "lhVoxHTiXkgF"
      },
      "outputs": [],
      "source": [
        "df['verse'] = df['verse'].apply(remove_non_english)"
      ]
    },
    {
      "cell_type": "code",
      "execution_count": null,
      "metadata": {
        "id": "jIvo6lrVT-YN"
      },
      "outputs": [],
      "source": [
        "# preprocess verses to lower case, remove line feed\n",
        "\n",
        "stopwords = nltk.corpus.stopwords.words('english')\n",
        "\n",
        "def preprocess_verse(verse, stopwords):\n",
        "\n",
        "    verse = verse.lower()\n",
        "    verse = verse.replace('\\n\\n',' ')\n",
        "    verse = ' '.join([word for word in verse.split() if word not in stopwords])\n",
        "    return verse"
      ]
    },
    {
      "cell_type": "code",
      "execution_count": null,
      "metadata": {
        "id": "KHnRi7b_ULmi"
      },
      "outputs": [],
      "source": [
        "df['verse_preprocessed'] = df['verse'].map(lambda x:preprocess_verse(x, stopwords))"
      ]
    },
    {
      "cell_type": "code",
      "execution_count": null,
      "metadata": {
        "colab": {
          "base_uri": "https://localhost:8080/",
          "height": 970
        },
        "id": "79IxNdRAOtnt",
        "outputId": "6a3a5912-94c4-4f1b-f483-e1aa7f721085"
      },
      "outputs": [
        {
          "data": {
            "text/html": [
              "\n",
              "  <div id=\"df-18235179-4868-4f9e-a74f-4f95ae7172a9\" class=\"colab-df-container\">\n",
              "    <div>\n",
              "<style scoped>\n",
              "    .dataframe tbody tr th:only-of-type {\n",
              "        vertical-align: middle;\n",
              "    }\n",
              "\n",
              "    .dataframe tbody tr th {\n",
              "        vertical-align: top;\n",
              "    }\n",
              "\n",
              "    .dataframe thead th {\n",
              "        text-align: right;\n",
              "    }\n",
              "</style>\n",
              "<table border=\"1\" class=\"dataframe\">\n",
              "  <thead>\n",
              "    <tr style=\"text-align: right;\">\n",
              "      <th></th>\n",
              "      <th>rapper</th>\n",
              "      <th>verse</th>\n",
              "      <th>verse_preprocessed</th>\n",
              "    </tr>\n",
              "  </thead>\n",
              "  <tbody>\n",
              "    <tr>\n",
              "      <th>0</th>\n",
              "      <td>Kendrick Lamar</td>\n",
              "      <td>Nobody pray for me It's been that day for me Waaaaay  yeah, yeah!</td>\n",
              "      <td>nobody pray day waaaaay yeah, yeah!</td>\n",
              "    </tr>\n",
              "    <tr>\n",
              "      <th>1</th>\n",
              "      <td>Kendrick Lamar</td>\n",
              "      <td>Bitch, be humble  hol    up, bitch  Sit down  hol    up, lil', hol    up, lil' bitch  Be humble  hol' up, bitch  Sit down  hol' up, sit down, lil   , sit down, lil' bitch  Be humble  hol' up, hol' up  Bitch, sit down  hol' up, hol' up, lil' bitch  Be humble  lil' bitch, hol' up, bitch  Sit down  hol' up, hol' up, hol' up, hol' up  Be humble  hol' up, hol' up  Sit down  hol' up, hol' up, lil', hol' up, lil' bitch  Be humble  hol' up, bitch  Sit down  hol' up, sit down, lil', sit down, lil' bitch  Be humble  hol' up, hol' up  Bitch, sit down  hol' up, hol' up, lil' bitch  Be humble  lil' bitch, hol' up, bitch  Sit down  hol' up, hol' up, hol' up, hol' up</td>\n",
              "      <td>bitch, humble hol up, bitch sit hol up, lil', hol up, lil' bitch humble hol' up, bitch sit hol' up, sit down, lil , sit down, lil' bitch humble hol' up, hol' bitch, sit hol' up, hol' up, lil' bitch humble lil' bitch, hol' up, bitch sit hol' up, hol' up, hol' up, hol' humble hol' up, hol' sit hol' up, hol' up, lil', hol' up, lil' bitch humble hol' up, bitch sit hol' up, sit down, lil', sit down, lil' bitch humble hol' up, hol' bitch, sit hol' up, hol' up, lil' bitch humble lil' bitch, hol' up, bitch sit hol' up, hol' up, hol' up, hol'</td>\n",
              "    </tr>\n",
              "    <tr>\n",
              "      <th>2</th>\n",
              "      <td>Kendrick Lamar</td>\n",
              "      <td>Bitch, be humble  hol' up, bitch  Sit down  hol' up, lil', hol' up, lil' bitch  Be humble  hol' up, bitch  Sit down  hol' up, sit down, lil', sit down, lil' bitch  Be humble  hol' up, hol' up  Bitch, sit down  hol' up, hol' up, lil' bitch  Be humble  lil' bitch, hol' up, bitch  Sit down  hol' up, hol' up, hol' up, hol' up  Be humble  hol' up, hol' up  Sit down  hol' up, hol' up, lil', hol' up, lil' bitch  Be humble  hol' up, bitch  Sit down  hol' up, sit down, lil', sit down, lil' bitch  Be humble  hol' up, hol' up  Bitch, sit down  hol' up, hol' up, lil' bitch  Be humble  lil' bitch, hol' up, bitch  Sit down  hol' up, hol' up, hol' up, hol' up  If Pirus and Crips all got along They'd probably gun me down by the end of this song Seem like the whole city go against me Every time I'm in the street, I hear    YAWK! YAWK! YAWK! YAWK!</td>\n",
              "      <td>bitch, humble hol' up, bitch sit hol' up, lil', hol' up, lil' bitch humble hol' up, bitch sit hol' up, sit down, lil', sit down, lil' bitch humble hol' up, hol' bitch, sit hol' up, hol' up, lil' bitch humble lil' bitch, hol' up, bitch sit hol' up, hol' up, hol' up, hol' humble hol' up, hol' sit hol' up, hol' up, lil', hol' up, lil' bitch humble hol' up, bitch sit hol' up, sit down, lil', sit down, lil' bitch humble hol' up, hol' bitch, sit hol' up, hol' up, lil' bitch humble lil' bitch, hol' up, bitch sit hol' up, hol' up, hol' up, hol' pirus crips got along they'd probably gun end song seem like whole city go every time i'm street, hear yawk! yawk! yawk! yawk!</td>\n",
              "    </tr>\n",
              "    <tr>\n",
              "      <th>3</th>\n",
              "      <td>Kendrick Lamar</td>\n",
              "      <td>Brace yourself, I'll take you on a trip down memory lane This is not a rap on how I'm slingin' crack or move cocaine This is cul-de-sac and plenty Cognac and major pain Not the drill sergeant, but the stress that weighin' on your brain It was me, L Boog, and Yan Yan, YG Lucky ride down Rosecrans It got ugly, wavin' yo' hand out the window     check yourself! Uh, Warriors and Conans, hope euphoria can slow dance With society, the driver seat the first one to get killed Seen a light-skinned nigga with his brains blown out At the same burger stand where  beep  hang out Now this is not a tape recorder sayin' that he did it But ever since that day, I was lookin' at him different That was back when I was nine, Joey packed the nine Pakistan on every porch is fine, we adapt to crime Pack a van with four guns at a time With the sliding door, fuck is up? Fuck you shootin' for if you ain't walkin' up, you fuckin' punk? Pickin' up the fuckin' pump, pickin' off you suckers Suck a dick or die or sucker punch A wall of bullets comin' from AK's, AR's, \"Aye, y'all   duck!\" That's what Momma said when we was eatin' that free lunch Aw man, goddamn, all hell broke loose You killed my cousin back in '  , fuck yo' truce! Now crawl your head in that noose You wind up dead on the news Ain't no peace treaty, just piecin' BGs up to pre-approve Bodies on top of bodies, IVs on top of IVs Obviously the coroner between the sheets like the Isleys When you hop on that trolley, make sure your colors correct Make sure you're corporate or they'll be callin' your mother collect They say the governor collect all of our taxes, except When we in traffic and tragic happens, that shit ain't no threat You movin' backwards if you suggest that you sleep with a TEC Go buy a chopper and have a doctor on speed dial, I guess M.A.A.d city</td>\n",
              "      <td>brace yourself, i'll take trip memory lane rap i'm slingin' crack move cocaine cul-de-sac plenty cognac major pain drill sergeant, stress weighin' brain me, l boog, yan yan, yg lucky ride rosecrans got ugly, wavin' yo' hand window check yourself! uh, warriors conans, hope euphoria slow dance society, driver seat first one get killed seen light-skinned nigga brains blown burger stand beep hang tape recorder sayin' ever since day, lookin' different back nine, joey packed nine pakistan every porch fine, adapt crime pack van four guns time sliding door, fuck up? fuck shootin' ain't walkin' up, fuckin' punk? pickin' fuckin' pump, pickin' suckers suck dick die sucker punch wall bullets comin' ak's, ar's, \"aye, y'all duck!\" that's momma said eatin' free lunch aw man, goddamn, hell broke loose killed cousin back ' , fuck yo' truce! crawl head noose wind dead news ain't peace treaty, piecin' bgs pre-approve bodies top bodies, ivs top ivs obviously coroner sheets like isleys hop trolley, make sure colors correct make sure corporate they'll callin' mother collect say governor collect taxes, except traffic tragic happens, shit ain't threat movin' backwards suggest sleep tec go buy chopper doctor speed dial, guess m.a.a.d city</td>\n",
              "    </tr>\n",
              "    <tr>\n",
              "      <th>4</th>\n",
              "      <td>Kendrick Lamar</td>\n",
              "      <td>If Pirus and Crips all got along They'd probably gun me down by the end of this song Seem like the whole city go against me Every time I'm in the street, I hear    YAWK! YAWK! YAWK!</td>\n",
              "      <td>pirus crips got along they'd probably gun end song seem like whole city go every time i'm street, hear yawk! yawk! yawk!</td>\n",
              "    </tr>\n",
              "  </tbody>\n",
              "</table>\n",
              "</div>\n",
              "    <div class=\"colab-df-buttons\">\n",
              "\n",
              "  <div class=\"colab-df-container\">\n",
              "    <button class=\"colab-df-convert\" onclick=\"convertToInteractive('df-18235179-4868-4f9e-a74f-4f95ae7172a9')\"\n",
              "            title=\"Convert this dataframe to an interactive table.\"\n",
              "            style=\"display:none;\">\n",
              "\n",
              "  <svg xmlns=\"http://www.w3.org/2000/svg\" height=\"24px\" viewBox=\"0 -960 960 960\">\n",
              "    <path d=\"M120-120v-720h720v720H120Zm60-500h600v-160H180v160Zm220 220h160v-160H400v160Zm0 220h160v-160H400v160ZM180-400h160v-160H180v160Zm440 0h160v-160H620v160ZM180-180h160v-160H180v160Zm440 0h160v-160H620v160Z\"/>\n",
              "  </svg>\n",
              "    </button>\n",
              "\n",
              "  <style>\n",
              "    .colab-df-container {\n",
              "      display:flex;\n",
              "      gap: 12px;\n",
              "    }\n",
              "\n",
              "    .colab-df-convert {\n",
              "      background-color: #E8F0FE;\n",
              "      border: none;\n",
              "      border-radius: 50%;\n",
              "      cursor: pointer;\n",
              "      display: none;\n",
              "      fill: #1967D2;\n",
              "      height: 32px;\n",
              "      padding: 0 0 0 0;\n",
              "      width: 32px;\n",
              "    }\n",
              "\n",
              "    .colab-df-convert:hover {\n",
              "      background-color: #E2EBFA;\n",
              "      box-shadow: 0px 1px 2px rgba(60, 64, 67, 0.3), 0px 1px 3px 1px rgba(60, 64, 67, 0.15);\n",
              "      fill: #174EA6;\n",
              "    }\n",
              "\n",
              "    .colab-df-buttons div {\n",
              "      margin-bottom: 4px;\n",
              "    }\n",
              "\n",
              "    [theme=dark] .colab-df-convert {\n",
              "      background-color: #3B4455;\n",
              "      fill: #D2E3FC;\n",
              "    }\n",
              "\n",
              "    [theme=dark] .colab-df-convert:hover {\n",
              "      background-color: #434B5C;\n",
              "      box-shadow: 0px 1px 3px 1px rgba(0, 0, 0, 0.15);\n",
              "      filter: drop-shadow(0px 1px 2px rgba(0, 0, 0, 0.3));\n",
              "      fill: #FFFFFF;\n",
              "    }\n",
              "  </style>\n",
              "\n",
              "    <script>\n",
              "      const buttonEl =\n",
              "        document.querySelector('#df-18235179-4868-4f9e-a74f-4f95ae7172a9 button.colab-df-convert');\n",
              "      buttonEl.style.display =\n",
              "        google.colab.kernel.accessAllowed ? 'block' : 'none';\n",
              "\n",
              "      async function convertToInteractive(key) {\n",
              "        const element = document.querySelector('#df-18235179-4868-4f9e-a74f-4f95ae7172a9');\n",
              "        const dataTable =\n",
              "          await google.colab.kernel.invokeFunction('convertToInteractive',\n",
              "                                                    [key], {});\n",
              "        if (!dataTable) return;\n",
              "\n",
              "        const docLinkHtml = 'Like what you see? Visit the ' +\n",
              "          '<a target=\"_blank\" href=https://colab.research.google.com/notebooks/data_table.ipynb>data table notebook</a>'\n",
              "          + ' to learn more about interactive tables.';\n",
              "        element.innerHTML = '';\n",
              "        dataTable['output_type'] = 'display_data';\n",
              "        await google.colab.output.renderOutput(dataTable, element);\n",
              "        const docLink = document.createElement('div');\n",
              "        docLink.innerHTML = docLinkHtml;\n",
              "        element.appendChild(docLink);\n",
              "      }\n",
              "    </script>\n",
              "  </div>\n",
              "\n",
              "\n",
              "<div id=\"df-312b0aae-a42f-4b63-bbc4-feab6b8d6911\">\n",
              "  <button class=\"colab-df-quickchart\" onclick=\"quickchart('df-312b0aae-a42f-4b63-bbc4-feab6b8d6911')\"\n",
              "            title=\"Suggest charts\"\n",
              "            style=\"display:none;\">\n",
              "\n",
              "<svg xmlns=\"http://www.w3.org/2000/svg\" height=\"24px\"viewBox=\"0 0 24 24\"\n",
              "     width=\"24px\">\n",
              "    <g>\n",
              "        <path d=\"M19 3H5c-1.1 0-2 .9-2 2v14c0 1.1.9 2 2 2h14c1.1 0 2-.9 2-2V5c0-1.1-.9-2-2-2zM9 17H7v-7h2v7zm4 0h-2V7h2v10zm4 0h-2v-4h2v4z\"/>\n",
              "    </g>\n",
              "</svg>\n",
              "  </button>\n",
              "\n",
              "<style>\n",
              "  .colab-df-quickchart {\n",
              "      --bg-color: #E8F0FE;\n",
              "      --fill-color: #1967D2;\n",
              "      --hover-bg-color: #E2EBFA;\n",
              "      --hover-fill-color: #174EA6;\n",
              "      --disabled-fill-color: #AAA;\n",
              "      --disabled-bg-color: #DDD;\n",
              "  }\n",
              "\n",
              "  [theme=dark] .colab-df-quickchart {\n",
              "      --bg-color: #3B4455;\n",
              "      --fill-color: #D2E3FC;\n",
              "      --hover-bg-color: #434B5C;\n",
              "      --hover-fill-color: #FFFFFF;\n",
              "      --disabled-bg-color: #3B4455;\n",
              "      --disabled-fill-color: #666;\n",
              "  }\n",
              "\n",
              "  .colab-df-quickchart {\n",
              "    background-color: var(--bg-color);\n",
              "    border: none;\n",
              "    border-radius: 50%;\n",
              "    cursor: pointer;\n",
              "    display: none;\n",
              "    fill: var(--fill-color);\n",
              "    height: 32px;\n",
              "    padding: 0;\n",
              "    width: 32px;\n",
              "  }\n",
              "\n",
              "  .colab-df-quickchart:hover {\n",
              "    background-color: var(--hover-bg-color);\n",
              "    box-shadow: 0 1px 2px rgba(60, 64, 67, 0.3), 0 1px 3px 1px rgba(60, 64, 67, 0.15);\n",
              "    fill: var(--button-hover-fill-color);\n",
              "  }\n",
              "\n",
              "  .colab-df-quickchart-complete:disabled,\n",
              "  .colab-df-quickchart-complete:disabled:hover {\n",
              "    background-color: var(--disabled-bg-color);\n",
              "    fill: var(--disabled-fill-color);\n",
              "    box-shadow: none;\n",
              "  }\n",
              "\n",
              "  .colab-df-spinner {\n",
              "    border: 2px solid var(--fill-color);\n",
              "    border-color: transparent;\n",
              "    border-bottom-color: var(--fill-color);\n",
              "    animation:\n",
              "      spin 1s steps(1) infinite;\n",
              "  }\n",
              "\n",
              "  @keyframes spin {\n",
              "    0% {\n",
              "      border-color: transparent;\n",
              "      border-bottom-color: var(--fill-color);\n",
              "      border-left-color: var(--fill-color);\n",
              "    }\n",
              "    20% {\n",
              "      border-color: transparent;\n",
              "      border-left-color: var(--fill-color);\n",
              "      border-top-color: var(--fill-color);\n",
              "    }\n",
              "    30% {\n",
              "      border-color: transparent;\n",
              "      border-left-color: var(--fill-color);\n",
              "      border-top-color: var(--fill-color);\n",
              "      border-right-color: var(--fill-color);\n",
              "    }\n",
              "    40% {\n",
              "      border-color: transparent;\n",
              "      border-right-color: var(--fill-color);\n",
              "      border-top-color: var(--fill-color);\n",
              "    }\n",
              "    60% {\n",
              "      border-color: transparent;\n",
              "      border-right-color: var(--fill-color);\n",
              "    }\n",
              "    80% {\n",
              "      border-color: transparent;\n",
              "      border-right-color: var(--fill-color);\n",
              "      border-bottom-color: var(--fill-color);\n",
              "    }\n",
              "    90% {\n",
              "      border-color: transparent;\n",
              "      border-bottom-color: var(--fill-color);\n",
              "    }\n",
              "  }\n",
              "</style>\n",
              "\n",
              "  <script>\n",
              "    async function quickchart(key) {\n",
              "      const quickchartButtonEl =\n",
              "        document.querySelector('#' + key + ' button');\n",
              "      quickchartButtonEl.disabled = true;  // To prevent multiple clicks.\n",
              "      quickchartButtonEl.classList.add('colab-df-spinner');\n",
              "      try {\n",
              "        const charts = await google.colab.kernel.invokeFunction(\n",
              "            'suggestCharts', [key], {});\n",
              "      } catch (error) {\n",
              "        console.error('Error during call to suggestCharts:', error);\n",
              "      }\n",
              "      quickchartButtonEl.classList.remove('colab-df-spinner');\n",
              "      quickchartButtonEl.classList.add('colab-df-quickchart-complete');\n",
              "    }\n",
              "    (() => {\n",
              "      let quickchartButtonEl =\n",
              "        document.querySelector('#df-312b0aae-a42f-4b63-bbc4-feab6b8d6911 button');\n",
              "      quickchartButtonEl.style.display =\n",
              "        google.colab.kernel.accessAllowed ? 'block' : 'none';\n",
              "    })();\n",
              "  </script>\n",
              "</div>\n",
              "    </div>\n",
              "  </div>\n"
            ],
            "text/plain": [
              "           rapper  \\\n",
              "0  Kendrick Lamar   \n",
              "1  Kendrick Lamar   \n",
              "2  Kendrick Lamar   \n",
              "3  Kendrick Lamar   \n",
              "4  Kendrick Lamar   \n",
              "\n",
              "                                                                                                                                                                                                                                                                                                                                                                                                                                                                                                                                                                                                                                                                                                                                                                                                                                                                                                                                                                                                                                                                                                                                                                                                                                                                                                                                                                                                                                                                                                                                                                                                                                                                                                                                                                                                                                                                                            verse  \\\n",
              "0                                                                                                                                                                                                                                                                                                                                                                                                                                                                                                                                                                                                                                                                                                                                                                                                                                                                                                                                                                                                                                                                                                                                                                                                                                                                                                                                                                                                                                                                                                                                                                                                                                                                                                                                                                                                                             Nobody pray for me It's been that day for me Waaaaay  yeah, yeah!     \n",
              "1                                                                                                                                                                                                                                                                                                                                                                                                                                                                                                                                                                                                                                                                                                                                                                                                                                                                                                                                                                                                                                                                                                                                                                                                          Bitch, be humble  hol    up, bitch  Sit down  hol    up, lil', hol    up, lil' bitch  Be humble  hol' up, bitch  Sit down  hol' up, sit down, lil   , sit down, lil' bitch  Be humble  hol' up, hol' up  Bitch, sit down  hol' up, hol' up, lil' bitch  Be humble  lil' bitch, hol' up, bitch  Sit down  hol' up, hol' up, hol' up, hol' up  Be humble  hol' up, hol' up  Sit down  hol' up, hol' up, lil', hol' up, lil' bitch  Be humble  hol' up, bitch  Sit down  hol' up, sit down, lil', sit down, lil' bitch  Be humble  hol' up, hol' up  Bitch, sit down  hol' up, hol' up, lil' bitch  Be humble  lil' bitch, hol' up, bitch  Sit down  hol' up, hol' up, hol' up, hol' up     \n",
              "2                                                                                                                                                                                                                                                                                                                                                                                                                                                                                                                                                                                                                                                                                                                                                                                                                                                                                                                                                                                                                      Bitch, be humble  hol' up, bitch  Sit down  hol' up, lil', hol' up, lil' bitch  Be humble  hol' up, bitch  Sit down  hol' up, sit down, lil', sit down, lil' bitch  Be humble  hol' up, hol' up  Bitch, sit down  hol' up, hol' up, lil' bitch  Be humble  lil' bitch, hol' up, bitch  Sit down  hol' up, hol' up, hol' up, hol' up  Be humble  hol' up, hol' up  Sit down  hol' up, hol' up, lil', hol' up, lil' bitch  Be humble  hol' up, bitch  Sit down  hol' up, sit down, lil', sit down, lil' bitch  Be humble  hol' up, hol' up  Bitch, sit down  hol' up, hol' up, lil' bitch  Be humble  lil' bitch, hol' up, bitch  Sit down  hol' up, hol' up, hol' up, hol' up  If Pirus and Crips all got along They'd probably gun me down by the end of this song Seem like the whole city go against me Every time I'm in the street, I hear    YAWK! YAWK! YAWK! YAWK!    \n",
              "3  Brace yourself, I'll take you on a trip down memory lane This is not a rap on how I'm slingin' crack or move cocaine This is cul-de-sac and plenty Cognac and major pain Not the drill sergeant, but the stress that weighin' on your brain It was me, L Boog, and Yan Yan, YG Lucky ride down Rosecrans It got ugly, wavin' yo' hand out the window     check yourself! Uh, Warriors and Conans, hope euphoria can slow dance With society, the driver seat the first one to get killed Seen a light-skinned nigga with his brains blown out At the same burger stand where  beep  hang out Now this is not a tape recorder sayin' that he did it But ever since that day, I was lookin' at him different That was back when I was nine, Joey packed the nine Pakistan on every porch is fine, we adapt to crime Pack a van with four guns at a time With the sliding door, fuck is up? Fuck you shootin' for if you ain't walkin' up, you fuckin' punk? Pickin' up the fuckin' pump, pickin' off you suckers Suck a dick or die or sucker punch A wall of bullets comin' from AK's, AR's, \"Aye, y'all   duck!\" That's what Momma said when we was eatin' that free lunch Aw man, goddamn, all hell broke loose You killed my cousin back in '  , fuck yo' truce! Now crawl your head in that noose You wind up dead on the news Ain't no peace treaty, just piecin' BGs up to pre-approve Bodies on top of bodies, IVs on top of IVs Obviously the coroner between the sheets like the Isleys When you hop on that trolley, make sure your colors correct Make sure you're corporate or they'll be callin' your mother collect They say the governor collect all of our taxes, except When we in traffic and tragic happens, that shit ain't no threat You movin' backwards if you suggest that you sleep with a TEC Go buy a chopper and have a doctor on speed dial, I guess M.A.A.d city    \n",
              "4                                                                                                                                                                                                                                                                                                                                                                                                                                                                                                                                                                                                                                                                                                                                                                                                                                                                                                                                                                                                                                                                                                                                                                                                                                                                                                                                                                                                                                                                                                                                                                                                                                                                                                       If Pirus and Crips all got along They'd probably gun me down by the end of this song Seem like the whole city go against me Every time I'm in the street, I hear    YAWK! YAWK! YAWK!       \n",
              "\n",
              "                                                                                                                                                                                                                                                                                                                                                                                                                                                                                                                                                                                                                                                                                                                                                                                                                                                                                                                                                                                                                                                                                                                                                                                                                                                                  verse_preprocessed  \n",
              "0                                                                                                                                                                                                                                                                                                                                                                                                                                                                                                                                                                                                                                                                                                                                                                                                                                                                                                                                                                                                                                                                                                                                                                                                                                                nobody pray day waaaaay yeah, yeah!  \n",
              "1                                                                                                                                                                                                                                                                                                                                                                                                                                                                                                                                                                                                                                                                                                                        bitch, humble hol up, bitch sit hol up, lil', hol up, lil' bitch humble hol' up, bitch sit hol' up, sit down, lil , sit down, lil' bitch humble hol' up, hol' bitch, sit hol' up, hol' up, lil' bitch humble lil' bitch, hol' up, bitch sit hol' up, hol' up, hol' up, hol' humble hol' up, hol' sit hol' up, hol' up, lil', hol' up, lil' bitch humble hol' up, bitch sit hol' up, sit down, lil', sit down, lil' bitch humble hol' up, hol' bitch, sit hol' up, hol' up, lil' bitch humble lil' bitch, hol' up, bitch sit hol' up, hol' up, hol' up, hol'  \n",
              "2                                                                                                                                                                                                                                                                                                                                                                                                                                                                                                                                                                                      bitch, humble hol' up, bitch sit hol' up, lil', hol' up, lil' bitch humble hol' up, bitch sit hol' up, sit down, lil', sit down, lil' bitch humble hol' up, hol' bitch, sit hol' up, hol' up, lil' bitch humble lil' bitch, hol' up, bitch sit hol' up, hol' up, hol' up, hol' humble hol' up, hol' sit hol' up, hol' up, lil', hol' up, lil' bitch humble hol' up, bitch sit hol' up, sit down, lil', sit down, lil' bitch humble hol' up, hol' bitch, sit hol' up, hol' up, lil' bitch humble lil' bitch, hol' up, bitch sit hol' up, hol' up, hol' up, hol' pirus crips got along they'd probably gun end song seem like whole city go every time i'm street, hear yawk! yawk! yawk! yawk!  \n",
              "3  brace yourself, i'll take trip memory lane rap i'm slingin' crack move cocaine cul-de-sac plenty cognac major pain drill sergeant, stress weighin' brain me, l boog, yan yan, yg lucky ride rosecrans got ugly, wavin' yo' hand window check yourself! uh, warriors conans, hope euphoria slow dance society, driver seat first one get killed seen light-skinned nigga brains blown burger stand beep hang tape recorder sayin' ever since day, lookin' different back nine, joey packed nine pakistan every porch fine, adapt crime pack van four guns time sliding door, fuck up? fuck shootin' ain't walkin' up, fuckin' punk? pickin' fuckin' pump, pickin' suckers suck dick die sucker punch wall bullets comin' ak's, ar's, \"aye, y'all duck!\" that's momma said eatin' free lunch aw man, goddamn, hell broke loose killed cousin back ' , fuck yo' truce! crawl head noose wind dead news ain't peace treaty, piecin' bgs pre-approve bodies top bodies, ivs top ivs obviously coroner sheets like isleys hop trolley, make sure colors correct make sure corporate they'll callin' mother collect say governor collect taxes, except traffic tragic happens, shit ain't threat movin' backwards suggest sleep tec go buy chopper doctor speed dial, guess m.a.a.d city  \n",
              "4                                                                                                                                                                                                                                                                                                                                                                                                                                                                                                                                                                                                                                                                                                                                                                                                                                                                                                                                                                                                                                                                                                                                                           pirus crips got along they'd probably gun end song seem like whole city go every time i'm street, hear yawk! yawk! yawk!  "
            ]
          },
          "execution_count": 12,
          "metadata": {},
          "output_type": "execute_result"
        }
      ],
      "source": [
        "df[df['rapper']=='Kendrick Lamar'].head()"
      ]
    },
    {
      "cell_type": "code",
      "execution_count": null,
      "metadata": {
        "colab": {
          "base_uri": "https://localhost:8080/"
        },
        "id": "p0AJEFXjv5wr",
        "outputId": "15390f0b-d4db-495a-a58e-d35c6651206f"
      },
      "outputs": [
        {
          "name": "stdout",
          "output_type": "stream",
          "text": [
            "1054\n"
          ]
        }
      ],
      "source": [
        "# Count how many times word \"bitch\" appears in each verse\n",
        "col = 'verse'\n",
        "string = 'bitch'\n",
        "\n",
        "df['num_misogyny'] = df[col].str.contains(string, case=False)\n",
        "count = df['num_misogyny'].sum()\n",
        "\n",
        "print(count)"
      ]
    },
    {
      "cell_type": "code",
      "execution_count": null,
      "metadata": {
        "id": "OvECZAElSDGT"
      },
      "outputs": [],
      "source": [
        "df['verse_preprocessed'] = df['verse'].map(lambda x:preprocess_verse(x, stopwords))"
      ]
    },
    {
      "cell_type": "code",
      "execution_count": null,
      "metadata": {
        "id": "bz6yy_lF2znR"
      },
      "outputs": [],
      "source": [
        "# Word Cloud\n",
        "\n",
        "def word_cloud_by_rapper(rapper, col):\n",
        "\n",
        "    df_temp = df[df.rapper==rapper]\n",
        "\n",
        "    text = ' '.join(str(comment) for comment in df_temp[col])\n",
        "\n",
        "    wordcloud = WordCloud(stopwords=stopwords, width=800, height=400, background_color=\"white\",max_words=100).generate(text)\n",
        "\n",
        "    plt.imshow(wordcloud, interpolation='bilinear')\n",
        "    plt.rcParams['figure.figsize'] = (20, 20)\n",
        "    plt.axis(\"off\")\n",
        "    plt.show()"
      ]
    },
    {
      "cell_type": "code",
      "execution_count": null,
      "metadata": {
        "colab": {
          "base_uri": "https://localhost:8080/",
          "height": 285
        },
        "id": "z5-VosCD21Lt",
        "outputId": "24c23d0f-6fb3-42f5-9b3c-f9fc583a34d8"
      },
      "outputs": [
        {
          "data": {
            "image/png": "[encoded data removed]",
            "text/plain": [
              "<Figure size 640x480 with 1 Axes>"
            ]
          },
          "metadata": {},
          "output_type": "display_data"
        }
      ],
      "source": [
        "word_cloud_by_rapper('Eminem', 'verse')"
      ]
    },
    {
      "cell_type": "markdown",
      "metadata": {
        "id": "fCxMGpB0SCMI"
      },
      "source": [
        "Word Embedding"
      ]
    },
    {
      "cell_type": "code",
      "execution_count": null,
      "metadata": {
        "id": "hyUm4OvgPwDh"
      },
      "outputs": [],
      "source": [
        "from gensim.test.utils import common_texts\n",
        "from gensim.models import Word2Vec"
      ]
    },
    {
      "cell_type": "code",
      "execution_count": null,
      "metadata": {
        "colab": {
          "base_uri": "https://localhost:8080/"
        },
        "id": "K8ApBpeMEoTw",
        "outputId": "36a21faf-78fb-418e-c0c9-db60e83e88b5"
      },
      "outputs": [
        {
          "name": "stderr",
          "output_type": "stream",
          "text": [
            "WARNING:gensim.models.word2vec:Each 'sentences' item should be a list of words (usually unicode strings). First item here is instead plain <class 'str'>.\n"
          ]
        }
      ],
      "source": [
        "verse_vec = []\n",
        "model_verse_20 = Word2Vec(sentences=df['verse_preprocessed'],\n",
        "                          vector_size=20,\n",
        "                          window=5,\n",
        "                          min_count=1,\n",
        "                          workers=1,\n",
        "                          seed=10010)\n",
        "\n",
        "for _, row in df.iterrows():\n",
        "    vectors = [model_verse_20.wv[word] for word in row['verse_preprocessed'] if word in model_verse_20.wv]\n",
        "\n",
        "    if vectors:\n",
        "        # stack the vectors into a matrix\n",
        "        matrix = np.vstack(vectors)\n",
        "        # calculate the mean along axis 0 (columns)\n",
        "        mean_vector = np.mean(matrix, axis=0)\n",
        "        verse_vec.append(mean_vector)\n",
        "    else:\n",
        "        # if no words in vocabulary, append an array of zeros\n",
        "        verse_vec.append(np.zeros(20))\n",
        "\n",
        "# convert list of vectors into a numpy array\n",
        "verse_vec = np.vstack(verse_vec)"
      ]
    },
    {
      "cell_type": "code",
      "execution_count": null,
      "metadata": {
        "colab": {
          "base_uri": "https://localhost:8080/"
        },
        "id": "QngPEhb_GDxh",
        "outputId": "483b4852-cf7d-465b-9314-d108587ff833"
      },
      "outputs": [
        {
          "data": {
            "text/plain": [
              "(4578, 20)"
            ]
          },
          "execution_count": 21,
          "metadata": {},
          "output_type": "execute_result"
        }
      ],
      "source": [
        "# check the shape\n",
        "verse_vec.shape"
      ]
    },
    {
      "cell_type": "code",
      "execution_count": null,
      "metadata": {
        "colab": {
          "base_uri": "https://localhost:8080/"
        },
        "id": "rUCrQywqO1W_",
        "outputId": "132a4eca-b6f3-455e-81c2-da330a5ddcfe"
      },
      "outputs": [
        {
          "data": {
            "text/plain": [
              "array([[-0.03994927, -0.1340065 ,  0.28621414, ..., -0.02976182,\n",
              "         0.26164478,  0.12221795],\n",
              "       [ 0.03970994, -0.17014948,  0.21392585, ...,  0.00204271,\n",
              "         0.27160236,  0.07649836],\n",
              "       [ 0.        ,  0.        ,  0.        , ...,  0.        ,\n",
              "         0.        ,  0.        ],\n",
              "       ...,\n",
              "       [ 0.1359175 , -0.09575215,  0.040588  , ...,  0.00248777,\n",
              "         0.30015475,  0.27321872],\n",
              "       [ 0.03118203, -0.08372213,  0.12817763, ...,  0.04476095,\n",
              "         0.24599895,  0.08884716],\n",
              "       [ 0.09225487, -0.08600318,  0.16895184, ..., -0.18840684,\n",
              "         0.15715116,  0.08047455]])"
            ]
          },
          "execution_count": 22,
          "metadata": {},
          "output_type": "execute_result"
        }
      ],
      "source": [
        "# check the numpy array structure\n",
        "verse_vec"
      ]
    },
    {
      "cell_type": "markdown",
      "metadata": {
        "id": "RbwGb-eFq6bD"
      },
      "source": [
        "Misogynistic words"
      ]
    },
    {
      "cell_type": "code",
      "execution_count": null,
      "metadata": {
        "id": "4hsKtNZWuD5V"
      },
      "outputs": [],
      "source": [
        "# labeled reddit posts\n",
        "\n",
        "words_label = pd.read_csv(\"/content/drive/MyDrive/QTM340 Final Project/Misogynies/final_labels.csv\")"
      ]
    },
    {
      "cell_type": "code",
      "execution_count": null,
      "metadata": {
        "id": "Ko33OZf0umsp"
      },
      "outputs": [],
      "source": [
        "# only take two columns\n",
        "words_label = words_label[['body','level_1']]"
      ]
    },
    {
      "cell_type": "code",
      "execution_count": null,
      "metadata": {
        "colab": {
          "base_uri": "https://localhost:8080/"
        },
        "id": "gAa1SOEwzp9b",
        "outputId": "2b594f77-c485-463e-c444-70af90a5cd65"
      },
      "outputs": [
        {
          "data": {
            "text/plain": [
              "(6567, 2)"
            ]
          },
          "execution_count": 25,
          "metadata": {},
          "output_type": "execute_result"
        }
      ],
      "source": [
        "words_label.shape"
      ]
    },
    {
      "cell_type": "code",
      "execution_count": null,
      "metadata": {
        "id": "VIAmqXQzuu60"
      },
      "outputs": [],
      "source": [
        "# get misogynistic words\n",
        "miswords_label = words_label[words_label['level_1'] == 'Misogynistic']"
      ]
    },
    {
      "cell_type": "code",
      "execution_count": null,
      "metadata": {
        "colab": {
          "base_uri": "https://localhost:8080/"
        },
        "id": "n2i3SQ6myRYr",
        "outputId": "f9b71d30-c084-45e4-f637-51f264744234"
      },
      "outputs": [
        {
          "data": {
            "text/plain": [
              "pandas.core.series.Series"
            ]
          },
          "execution_count": 27,
          "metadata": {},
          "output_type": "execute_result"
        }
      ],
      "source": [
        "type(miswords_label['body'])"
      ]
    },
    {
      "cell_type": "code",
      "execution_count": null,
      "metadata": {
        "id": "4c6Cuw9qvaYa"
      },
      "outputs": [],
      "source": [
        "# get nonmisogynistic words\n",
        "nonmiswords_label = words_label[words_label['level_1'] == 'Nonmisogynistic']"
      ]
    },
    {
      "cell_type": "code",
      "execution_count": null,
      "metadata": {
        "colab": {
          "base_uri": "https://localhost:8080/"
        },
        "id": "NXF9iKLZyVik",
        "outputId": "68347ad8-4bae-4b48-9ac1-cd92b7fbbf48"
      },
      "outputs": [
        {
          "data": {
            "text/plain": [
              "(5868, 2)"
            ]
          },
          "execution_count": 29,
          "metadata": {},
          "output_type": "execute_result"
        }
      ],
      "source": [
        "type(nonmiswords_label['body'])\n",
        "nonmiswords_label.shape"
      ]
    },
    {
      "cell_type": "code",
      "execution_count": null,
      "metadata": {
        "colab": {
          "base_uri": "https://localhost:8080/"
        },
        "id": "KtMsdcfYvfe-",
        "outputId": "8ccac579-937f-44de-85e0-627b404a6d9c"
      },
      "outputs": [
        {
          "data": {
            "text/plain": [
              "(699, 2)"
            ]
          },
          "execution_count": 30,
          "metadata": {},
          "output_type": "execute_result"
        }
      ],
      "source": [
        "miswords_label.shape"
      ]
    },
    {
      "cell_type": "code",
      "execution_count": null,
      "metadata": {
        "colab": {
          "base_uri": "https://localhost:8080/"
        },
        "id": "CubXpE3CpE31",
        "outputId": "953769d7-f903-4bb7-c10d-4072d1002278"
      },
      "outputs": [
        {
          "name": "stderr",
          "output_type": "stream",
          "text": [
            "WARNING:gensim.models.word2vec:Each 'sentences' item should be a list of words (usually unicode strings). First item here is instead plain <class 'str'>.\n"
          ]
        }
      ],
      "source": [
        "# embedding misogynistic words\n",
        "model_misWords_20 = Word2Vec(sentences=miswords_label['body'],\n",
        "                 vector_size=20,\n",
        "                 window=5,\n",
        "                 min_count=10,\n",
        "                 workers=1,\n",
        "                 seed = 10010)"
      ]
    },
    {
      "cell_type": "code",
      "execution_count": null,
      "metadata": {
        "colab": {
          "base_uri": "https://localhost:8080/"
        },
        "id": "N-bpyMnppNr7",
        "outputId": "d6933574-0c07-40fe-eba1-f7b84674c24e"
      },
      "outputs": [
        {
          "data": {
            "text/plain": [
              "array([[-0.64849347, -0.08320367, -0.5779031 , ..., -1.0779858 ,\n",
              "         0.47048447, -0.1552479 ],\n",
              "       [-0.50560135,  0.7534031 , -0.8576336 , ..., -0.9266101 ,\n",
              "         0.48582044,  0.81494755],\n",
              "       [ 0.25432798,  0.15178218, -0.8632258 , ..., -0.861701  ,\n",
              "         1.1633577 , -0.07949638],\n",
              "       ...,\n",
              "       [ 0.13038562, -0.78946257,  0.9096615 , ...,  0.06572035,\n",
              "        -1.3851842 , -0.28220713],\n",
              "       [ 0.1643301 , -0.6513076 ,  0.8337183 , ...,  0.2648326 ,\n",
              "        -0.2875073 ,  0.00858642],\n",
              "       [ 0.1065272 , -0.58550596,  0.5553754 , ...,  0.17271422,\n",
              "        -0.6391906 ,  0.00947655]], dtype=float32)"
            ]
          },
          "execution_count": 32,
          "metadata": {},
          "output_type": "execute_result"
        }
      ],
      "source": [
        "model_misWords_20.wv.vectors"
      ]
    },
    {
      "cell_type": "code",
      "execution_count": null,
      "metadata": {
        "colab": {
          "base_uri": "https://localhost:8080/"
        },
        "id": "taFkLENlq6vm",
        "outputId": "20b7c34b-ed39-459c-e4b7-8eecfdc63774"
      },
      "outputs": [
        {
          "name": "stderr",
          "output_type": "stream",
          "text": [
            "WARNING:gensim.models.word2vec:Each 'sentences' item should be a list of words (usually unicode strings). First item here is instead plain <class 'str'>.\n"
          ]
        }
      ],
      "source": [
        "#embedding nonmisogynistic words\n",
        "nonmiswords = nonmiswords_label['body'].astype(str)\n",
        "model_nonmisWords_20 = Word2Vec(sentences=nonmiswords,\n",
        "                 vector_size=20,\n",
        "                 window=5,\n",
        "                 min_count=10,\n",
        "                 workers=1,\n",
        "                 seed = 10086)"
      ]
    },
    {
      "cell_type": "code",
      "execution_count": null,
      "metadata": {
        "colab": {
          "base_uri": "https://localhost:8080/"
        },
        "id": "GxliTtqFrB0e",
        "outputId": "8d5674cc-e99a-437a-9a1a-361caf7b6fbe"
      },
      "outputs": [
        {
          "data": {
            "text/plain": [
              "array([[ 1.1472311 , -0.4042882 , -0.21001782, ..., -0.69595706,\n",
              "        -0.7808905 , -0.3772308 ],\n",
              "       [ 0.8177458 ,  0.68165374, -0.8586288 , ..., -0.14655484,\n",
              "        -0.39951503, -1.174682  ],\n",
              "       [-0.26882485, -0.23057428, -1.1712543 , ..., -0.16739027,\n",
              "        -0.24428846, -1.4901321 ],\n",
              "       ...,\n",
              "       [-0.14842728,  0.43247852,  0.07198071, ..., -0.07136198,\n",
              "         0.26867476,  0.15749046],\n",
              "       [-0.23911592,  0.26372373,  0.1806368 , ...,  0.02497213,\n",
              "         0.26162168,  0.2274956 ],\n",
              "       [-0.19525068,  0.311248  ,  0.02902937, ...,  0.39601365,\n",
              "         0.4926582 ,  0.37162715]], dtype=float32)"
            ]
          },
          "execution_count": 34,
          "metadata": {},
          "output_type": "execute_result"
        }
      ],
      "source": [
        "model_nonmisWords_20.wv.vectors"
      ]
    },
    {
      "cell_type": "markdown",
      "metadata": {
        "id": "FoYvGL39rJbQ"
      },
      "source": [
        "Calculate the similarity of vectors"
      ]
    },
    {
      "cell_type": "code",
      "execution_count": null,
      "metadata": {
        "id": "OX8fK26FvUef"
      },
      "outputs": [],
      "source": [
        "nonmiswords_vec = np.mean(model_nonmisWords_20.wv.vectors, axis=0)\n",
        "miswords_vec = np.mean(model_misWords_20.wv.vectors, axis=0)"
      ]
    },
    {
      "cell_type": "code",
      "execution_count": null,
      "metadata": {
        "colab": {
          "base_uri": "https://localhost:8080/"
        },
        "id": "pL5wcftdvoPO",
        "outputId": "41f4b5d5-5ac1-4e2d-b3ab-90bf10ac088b"
      },
      "outputs": [
        {
          "data": {
            "text/plain": [
              "(20,)"
            ]
          },
          "execution_count": 36,
          "metadata": {},
          "output_type": "execute_result"
        }
      ],
      "source": [
        "nonmiswords_vec.shape"
      ]
    },
    {
      "cell_type": "code",
      "execution_count": null,
      "metadata": {
        "colab": {
          "base_uri": "https://localhost:8080/"
        },
        "id": "BRvD58NcvqKX",
        "outputId": "cfaca428-347e-494a-9bcf-df7a41e81a33"
      },
      "outputs": [
        {
          "data": {
            "text/plain": [
              "(20,)"
            ]
          },
          "execution_count": 37,
          "metadata": {},
          "output_type": "execute_result"
        }
      ],
      "source": [
        "miswords_vec.shape"
      ]
    },
    {
      "cell_type": "code",
      "execution_count": null,
      "metadata": {
        "id": "FK6nppYZhAt2"
      },
      "outputs": [],
      "source": [
        "from numpy.linalg import norm\n",
        "def cosine_similarity(vector_a, vector_b):\n",
        "    dot_product = np.dot(vector_a, vector_b)\n",
        "    norm_a = norm(vector_a)\n",
        "    norm_b = norm(vector_b)\n",
        "\n",
        "    similarity = dot_product / (norm_a * norm_b)\n",
        "    return similarity\n",
        "\n",
        "def calculate_cosine_similarity(row):\n",
        "    return cosine_similarity(row, miswords_vec)"
      ]
    },
    {
      "cell_type": "code",
      "execution_count": null,
      "metadata": {
        "colab": {
          "base_uri": "https://localhost:8080/"
        },
        "id": "pMt61VWXdTF9",
        "outputId": "6bb0a0a5-a552-4e79-fbf5-dfce5cab54dd"
      },
      "outputs": [
        {
          "name": "stderr",
          "output_type": "stream",
          "text": [
            "<ipython-input-38-deb01aa47701>:7: RuntimeWarning: invalid value encountered in double_scalars\n",
            "  similarity = dot_product / (norm_a * norm_b)\n"
          ]
        }
      ],
      "source": [
        "cosine_similarities_rap_mis = np.apply_along_axis(calculate_cosine_similarity, axis=1, arr=verse_vec)"
      ]
    },
    {
      "cell_type": "code",
      "execution_count": null,
      "metadata": {
        "colab": {
          "base_uri": "https://localhost:8080/"
        },
        "id": "v95KWL3-eJA_",
        "outputId": "e396664e-5055-451f-e64d-021720c4a09f"
      },
      "outputs": [
        {
          "data": {
            "text/plain": [
              "array([0.51013506, 0.43476398,        nan, ..., 0.35100022, 0.48287068,\n",
              "       0.58315623])"
            ]
          },
          "execution_count": 40,
          "metadata": {},
          "output_type": "execute_result"
        }
      ],
      "source": [
        "cosine_similarities_rap_mis"
      ]
    },
    {
      "cell_type": "code",
      "execution_count": null,
      "metadata": {
        "id": "noHTB-WPP1CS"
      },
      "outputs": [],
      "source": [
        "cosine_similarities_rap_mis = np.nan_to_num(cosine_similarities_rap_mis, nan=0)\n"
      ]
    },
    {
      "cell_type": "code",
      "execution_count": null,
      "metadata": {
        "colab": {
          "base_uri": "https://localhost:8080/"
        },
        "id": "g63KPgu5jT-b",
        "outputId": "9d3d6cd2-6144-4af6-a548-1b2cbf1259d8"
      },
      "outputs": [
        {
          "data": {
            "text/plain": [
              "4578"
            ]
          },
          "execution_count": 42,
          "metadata": {},
          "output_type": "execute_result"
        }
      ],
      "source": [
        "len(cosine_similarities_rap_mis)"
      ]
    },
    {
      "cell_type": "code",
      "execution_count": null,
      "metadata": {
        "colab": {
          "base_uri": "https://localhost:8080/"
        },
        "id": "iIm4Z9isH_Du",
        "outputId": "8aefe6c5-160e-4f22-a606-68bb4cc64063"
      },
      "outputs": [
        {
          "data": {
            "text/plain": [
              "(4578, 4)"
            ]
          },
          "execution_count": 43,
          "metadata": {},
          "output_type": "execute_result"
        }
      ],
      "source": [
        "df.shape"
      ]
    },
    {
      "cell_type": "markdown",
      "metadata": {
        "id": "J9ov-Uj69u8N"
      },
      "source": [
        "Non-rap songs"
      ]
    },
    {
      "cell_type": "code",
      "execution_count": null,
      "metadata": {
        "id": "K9V2a1Qj9tsQ"
      },
      "outputs": [],
      "source": [
        "artist_df = pd.read_csv(\"/content/drive/MyDrive/QTM340 Final Project/Misogynies/artists-data.csv\")\n",
        "song_df = pd.read_csv(\"/content/drive/MyDrive/QTM340 Final Project/Misogynies/lyrics-data.csv\")"
      ]
    },
    {
      "cell_type": "code",
      "execution_count": null,
      "metadata": {
        "colab": {
          "base_uri": "https://localhost:8080/",
          "height": 206
        },
        "id": "MRv1-HkDC7dX",
        "outputId": "e5116716-7f47-4895-ce43-9ab86cbca3e0"
      },
      "outputs": [
        {
          "data": {
            "text/html": [
              "\n",
              "  <div id=\"df-4eca5119-520f-4066-81cc-7383ec8dd65d\" class=\"colab-df-container\">\n",
              "    <div>\n",
              "<style scoped>\n",
              "    .dataframe tbody tr th:only-of-type {\n",
              "        vertical-align: middle;\n",
              "    }\n",
              "\n",
              "    .dataframe tbody tr th {\n",
              "        vertical-align: top;\n",
              "    }\n",
              "\n",
              "    .dataframe thead th {\n",
              "        text-align: right;\n",
              "    }\n",
              "</style>\n",
              "<table border=\"1\" class=\"dataframe\">\n",
              "  <thead>\n",
              "    <tr style=\"text-align: right;\">\n",
              "      <th></th>\n",
              "      <th>Artist</th>\n",
              "      <th>Genres</th>\n",
              "      <th>Songs</th>\n",
              "      <th>Popularity</th>\n",
              "      <th>Link</th>\n",
              "    </tr>\n",
              "  </thead>\n",
              "  <tbody>\n",
              "    <tr>\n",
              "      <th>0</th>\n",
              "      <td>Ivete Sangalo</td>\n",
              "      <td>Pop; Axé; Romântico</td>\n",
              "      <td>313.0</td>\n",
              "      <td>4.4</td>\n",
              "      <td>/ivete-sangalo/</td>\n",
              "    </tr>\n",
              "    <tr>\n",
              "      <th>1</th>\n",
              "      <td>Chiclete com Banana</td>\n",
              "      <td>Axé</td>\n",
              "      <td>268.0</td>\n",
              "      <td>3.8</td>\n",
              "      <td>/chiclete-com-banana/</td>\n",
              "    </tr>\n",
              "    <tr>\n",
              "      <th>2</th>\n",
              "      <td>Banda Eva</td>\n",
              "      <td>Axé; Romântico; Reggae</td>\n",
              "      <td>215.0</td>\n",
              "      <td>2.3</td>\n",
              "      <td>/banda-eva/</td>\n",
              "    </tr>\n",
              "    <tr>\n",
              "      <th>3</th>\n",
              "      <td>É O Tchan</td>\n",
              "      <td>Axé</td>\n",
              "      <td>129.0</td>\n",
              "      <td>1.6</td>\n",
              "      <td>/e-o-tchan/</td>\n",
              "    </tr>\n",
              "    <tr>\n",
              "      <th>4</th>\n",
              "      <td>Claudia Leitte</td>\n",
              "      <td>Pop; Axé; Romântico</td>\n",
              "      <td>167.0</td>\n",
              "      <td>1.5</td>\n",
              "      <td>/claudia-leitte/</td>\n",
              "    </tr>\n",
              "  </tbody>\n",
              "</table>\n",
              "</div>\n",
              "    <div class=\"colab-df-buttons\">\n",
              "\n",
              "  <div class=\"colab-df-container\">\n",
              "    <button class=\"colab-df-convert\" onclick=\"convertToInteractive('df-4eca5119-520f-4066-81cc-7383ec8dd65d')\"\n",
              "            title=\"Convert this dataframe to an interactive table.\"\n",
              "            style=\"display:none;\">\n",
              "\n",
              "  <svg xmlns=\"http://www.w3.org/2000/svg\" height=\"24px\" viewBox=\"0 -960 960 960\">\n",
              "    <path d=\"M120-120v-720h720v720H120Zm60-500h600v-160H180v160Zm220 220h160v-160H400v160Zm0 220h160v-160H400v160ZM180-400h160v-160H180v160Zm440 0h160v-160H620v160ZM180-180h160v-160H180v160Zm440 0h160v-160H620v160Z\"/>\n",
              "  </svg>\n",
              "    </button>\n",
              "\n",
              "  <style>\n",
              "    .colab-df-container {\n",
              "      display:flex;\n",
              "      gap: 12px;\n",
              "    }\n",
              "\n",
              "    .colab-df-convert {\n",
              "      background-color: #E8F0FE;\n",
              "      border: none;\n",
              "      border-radius: 50%;\n",
              "      cursor: pointer;\n",
              "      display: none;\n",
              "      fill: #1967D2;\n",
              "      height: 32px;\n",
              "      padding: 0 0 0 0;\n",
              "      width: 32px;\n",
              "    }\n",
              "\n",
              "    .colab-df-convert:hover {\n",
              "      background-color: #E2EBFA;\n",
              "      box-shadow: 0px 1px 2px rgba(60, 64, 67, 0.3), 0px 1px 3px 1px rgba(60, 64, 67, 0.15);\n",
              "      fill: #174EA6;\n",
              "    }\n",
              "\n",
              "    .colab-df-buttons div {\n",
              "      margin-bottom: 4px;\n",
              "    }\n",
              "\n",
              "    [theme=dark] .colab-df-convert {\n",
              "      background-color: #3B4455;\n",
              "      fill: #D2E3FC;\n",
              "    }\n",
              "\n",
              "    [theme=dark] .colab-df-convert:hover {\n",
              "      background-color: #434B5C;\n",
              "      box-shadow: 0px 1px 3px 1px rgba(0, 0, 0, 0.15);\n",
              "      filter: drop-shadow(0px 1px 2px rgba(0, 0, 0, 0.3));\n",
              "      fill: #FFFFFF;\n",
              "    }\n",
              "  </style>\n",
              "\n",
              "    <script>\n",
              "      const buttonEl =\n",
              "        document.querySelector('#df-4eca5119-520f-4066-81cc-7383ec8dd65d button.colab-df-convert');\n",
              "      buttonEl.style.display =\n",
              "        google.colab.kernel.accessAllowed ? 'block' : 'none';\n",
              "\n",
              "      async function convertToInteractive(key) {\n",
              "        const element = document.querySelector('#df-4eca5119-520f-4066-81cc-7383ec8dd65d');\n",
              "        const dataTable =\n",
              "          await google.colab.kernel.invokeFunction('convertToInteractive',\n",
              "                                                    [key], {});\n",
              "        if (!dataTable) return;\n",
              "\n",
              "        const docLinkHtml = 'Like what you see? Visit the ' +\n",
              "          '<a target=\"_blank\" href=https://colab.research.google.com/notebooks/data_table.ipynb>data table notebook</a>'\n",
              "          + ' to learn more about interactive tables.';\n",
              "        element.innerHTML = '';\n",
              "        dataTable['output_type'] = 'display_data';\n",
              "        await google.colab.output.renderOutput(dataTable, element);\n",
              "        const docLink = document.createElement('div');\n",
              "        docLink.innerHTML = docLinkHtml;\n",
              "        element.appendChild(docLink);\n",
              "      }\n",
              "    </script>\n",
              "  </div>\n",
              "\n",
              "\n",
              "<div id=\"df-1c4a372f-542f-4280-9b70-2f6d3ebb76e3\">\n",
              "  <button class=\"colab-df-quickchart\" onclick=\"quickchart('df-1c4a372f-542f-4280-9b70-2f6d3ebb76e3')\"\n",
              "            title=\"Suggest charts\"\n",
              "            style=\"display:none;\">\n",
              "\n",
              "<svg xmlns=\"http://www.w3.org/2000/svg\" height=\"24px\"viewBox=\"0 0 24 24\"\n",
              "     width=\"24px\">\n",
              "    <g>\n",
              "        <path d=\"M19 3H5c-1.1 0-2 .9-2 2v14c0 1.1.9 2 2 2h14c1.1 0 2-.9 2-2V5c0-1.1-.9-2-2-2zM9 17H7v-7h2v7zm4 0h-2V7h2v10zm4 0h-2v-4h2v4z\"/>\n",
              "    </g>\n",
              "</svg>\n",
              "  </button>\n",
              "\n",
              "<style>\n",
              "  .colab-df-quickchart {\n",
              "      --bg-color: #E8F0FE;\n",
              "      --fill-color: #1967D2;\n",
              "      --hover-bg-color: #E2EBFA;\n",
              "      --hover-fill-color: #174EA6;\n",
              "      --disabled-fill-color: #AAA;\n",
              "      --disabled-bg-color: #DDD;\n",
              "  }\n",
              "\n",
              "  [theme=dark] .colab-df-quickchart {\n",
              "      --bg-color: #3B4455;\n",
              "      --fill-color: #D2E3FC;\n",
              "      --hover-bg-color: #434B5C;\n",
              "      --hover-fill-color: #FFFFFF;\n",
              "      --disabled-bg-color: #3B4455;\n",
              "      --disabled-fill-color: #666;\n",
              "  }\n",
              "\n",
              "  .colab-df-quickchart {\n",
              "    background-color: var(--bg-color);\n",
              "    border: none;\n",
              "    border-radius: 50%;\n",
              "    cursor: pointer;\n",
              "    display: none;\n",
              "    fill: var(--fill-color);\n",
              "    height: 32px;\n",
              "    padding: 0;\n",
              "    width: 32px;\n",
              "  }\n",
              "\n",
              "  .colab-df-quickchart:hover {\n",
              "    background-color: var(--hover-bg-color);\n",
              "    box-shadow: 0 1px 2px rgba(60, 64, 67, 0.3), 0 1px 3px 1px rgba(60, 64, 67, 0.15);\n",
              "    fill: var(--button-hover-fill-color);\n",
              "  }\n",
              "\n",
              "  .colab-df-quickchart-complete:disabled,\n",
              "  .colab-df-quickchart-complete:disabled:hover {\n",
              "    background-color: var(--disabled-bg-color);\n",
              "    fill: var(--disabled-fill-color);\n",
              "    box-shadow: none;\n",
              "  }\n",
              "\n",
              "  .colab-df-spinner {\n",
              "    border: 2px solid var(--fill-color);\n",
              "    border-color: transparent;\n",
              "    border-bottom-color: var(--fill-color);\n",
              "    animation:\n",
              "      spin 1s steps(1) infinite;\n",
              "  }\n",
              "\n",
              "  @keyframes spin {\n",
              "    0% {\n",
              "      border-color: transparent;\n",
              "      border-bottom-color: var(--fill-color);\n",
              "      border-left-color: var(--fill-color);\n",
              "    }\n",
              "    20% {\n",
              "      border-color: transparent;\n",
              "      border-left-color: var(--fill-color);\n",
              "      border-top-color: var(--fill-color);\n",
              "    }\n",
              "    30% {\n",
              "      border-color: transparent;\n",
              "      border-left-color: var(--fill-color);\n",
              "      border-top-color: var(--fill-color);\n",
              "      border-right-color: var(--fill-color);\n",
              "    }\n",
              "    40% {\n",
              "      border-color: transparent;\n",
              "      border-right-color: var(--fill-color);\n",
              "      border-top-color: var(--fill-color);\n",
              "    }\n",
              "    60% {\n",
              "      border-color: transparent;\n",
              "      border-right-color: var(--fill-color);\n",
              "    }\n",
              "    80% {\n",
              "      border-color: transparent;\n",
              "      border-right-color: var(--fill-color);\n",
              "      border-bottom-color: var(--fill-color);\n",
              "    }\n",
              "    90% {\n",
              "      border-color: transparent;\n",
              "      border-bottom-color: var(--fill-color);\n",
              "    }\n",
              "  }\n",
              "</style>\n",
              "\n",
              "  <script>\n",
              "    async function quickchart(key) {\n",
              "      const quickchartButtonEl =\n",
              "        document.querySelector('#' + key + ' button');\n",
              "      quickchartButtonEl.disabled = true;  // To prevent multiple clicks.\n",
              "      quickchartButtonEl.classList.add('colab-df-spinner');\n",
              "      try {\n",
              "        const charts = await google.colab.kernel.invokeFunction(\n",
              "            'suggestCharts', [key], {});\n",
              "      } catch (error) {\n",
              "        console.error('Error during call to suggestCharts:', error);\n",
              "      }\n",
              "      quickchartButtonEl.classList.remove('colab-df-spinner');\n",
              "      quickchartButtonEl.classList.add('colab-df-quickchart-complete');\n",
              "    }\n",
              "    (() => {\n",
              "      let quickchartButtonEl =\n",
              "        document.querySelector('#df-1c4a372f-542f-4280-9b70-2f6d3ebb76e3 button');\n",
              "      quickchartButtonEl.style.display =\n",
              "        google.colab.kernel.accessAllowed ? 'block' : 'none';\n",
              "    })();\n",
              "  </script>\n",
              "</div>\n",
              "    </div>\n",
              "  </div>\n"
            ],
            "text/plain": [
              "                Artist                  Genres  Songs  Popularity  \\\n",
              "0        Ivete Sangalo     Pop; Axé; Romântico  313.0         4.4   \n",
              "1  Chiclete com Banana                     Axé  268.0         3.8   \n",
              "2            Banda Eva  Axé; Romântico; Reggae  215.0         2.3   \n",
              "3            É O Tchan                     Axé  129.0         1.6   \n",
              "4       Claudia Leitte     Pop; Axé; Romântico  167.0         1.5   \n",
              "\n",
              "                    Link  \n",
              "0        /ivete-sangalo/  \n",
              "1  /chiclete-com-banana/  \n",
              "2            /banda-eva/  \n",
              "3            /e-o-tchan/  \n",
              "4       /claudia-leitte/  "
            ]
          },
          "execution_count": 45,
          "metadata": {},
          "output_type": "execute_result"
        }
      ],
      "source": [
        "artist_df.head()"
      ]
    },
    {
      "cell_type": "code",
      "execution_count": null,
      "metadata": {
        "colab": {
          "base_uri": "https://localhost:8080/",
          "height": 900
        },
        "id": "U08qJfVCDPUj",
        "outputId": "9f7bdcc9-48fe-4d0c-ae3e-bc887045b6cb"
      },
      "outputs": [
        {
          "data": {
            "text/html": [
              "\n",
              "  <div id=\"df-038ff174-5265-43da-9eb7-1ba8e66a5d03\" class=\"colab-df-container\">\n",
              "    <div>\n",
              "<style scoped>\n",
              "    .dataframe tbody tr th:only-of-type {\n",
              "        vertical-align: middle;\n",
              "    }\n",
              "\n",
              "    .dataframe tbody tr th {\n",
              "        vertical-align: top;\n",
              "    }\n",
              "\n",
              "    .dataframe thead th {\n",
              "        text-align: right;\n",
              "    }\n",
              "</style>\n",
              "<table border=\"1\" class=\"dataframe\">\n",
              "  <thead>\n",
              "    <tr style=\"text-align: right;\">\n",
              "      <th></th>\n",
              "      <th>ALink</th>\n",
              "      <th>SName</th>\n",
              "      <th>SLink</th>\n",
              "      <th>Lyric</th>\n",
              "      <th>language</th>\n",
              "    </tr>\n",
              "  </thead>\n",
              "  <tbody>\n",
              "    <tr>\n",
              "      <th>0</th>\n",
              "      <td>/ivete-sangalo/</td>\n",
              "      <td>Arerê</td>\n",
              "      <td>/ivete-sangalo/arere.html</td>\n",
              "      <td>Tudo o que eu quero nessa vida,\\nToda vida, é\\nÉ amar você\\nAmar você\\n\\nO seu amor é como uma chama acesa\\nQueima de prazer\\nDe prazer\\n\\nEu já falei com Deus que não vou te deixar\\nVou te levar pra onde for\\nQualquer lugar\\nJá fiz de tudo pra não te perder\\n\\nArerê,\\nUm lobby, um hobby, um love com você\\nArerê,\\nUm lobby, um hobby, um love com você\\n\\nCai, cai, cai, cai, cai pra cá\\nHey, hey, hey\\nTu-do,tu-do, vai rolar</td>\n",
              "      <td>pt</td>\n",
              "    </tr>\n",
              "    <tr>\n",
              "      <th>1</th>\n",
              "      <td>/ivete-sangalo/</td>\n",
              "      <td>Se Eu Não Te Amasse Tanto Assim</td>\n",
              "      <td>/ivete-sangalo/se-eu-nao-te-amasse-tanto-assim.html</td>\n",
              "      <td>Meu coração\\nSem direção\\nVoando só por voar\\nSem saber onde chegar\\nSonhando em te encontrar\\nE as estrelas\\nQue hoje eu descobri\\nNo seu olhar\\nAs estrelas vão me guiar\\n\\nSe eu não te amasse tanto assim\\nTalvez perdesse os sonhos\\nDentro de mim\\nE vivesse na escuridão\\nSe eu não te amasse tanto assim\\nTalvez não visse flores\\nPor onde eu vi\\nDentro do meu coração\\n\\nHoje eu sei\\nEu te amei\\nNo vento de um temporal\\nMas fui mais\\nMuito além\\nDo tempo do vendaval\\nNos desejos\\nNum beijo\\nQue eu jamais provei igual\\nE as estrelas dão um sinal\\n\\nSe eu não te amasse tanto assim\\nTalvez perdesse os sonhos\\nDentro de mim\\nE vivesse na escuridão\\nSe eu não te amasse tanto assim\\nTalvez não visse flores\\nPor onde eu vi\\nDentro do meu coração...</td>\n",
              "      <td>pt</td>\n",
              "    </tr>\n",
              "    <tr>\n",
              "      <th>2</th>\n",
              "      <td>/ivete-sangalo/</td>\n",
              "      <td>Céu da Boca</td>\n",
              "      <td>/ivete-sangalo/chupa-toda.html</td>\n",
              "      <td>É de babaixá!\\nÉ de balacubaca!\\nÉ de babaixá!\\nÉ de balacubaca!\\ntetetetere tere tete tere tetere\\n\\nEu quero beijar a sua boca louca\\nEu quero beijar a sua boca louca\\nEu vou enfiar uva no céu da sua boca\\nEu vou enfiar uva no céu da sua boca\\n\\nE aí?\\nChupa toda, disse toda\\nE aí?\\nChupa toda, disse toda\\n\\nÉ de babaixá!\\nÉ de balacubaca!\\nÉ de babaixá!\\nÉ de balacubaca!\\ntetetetere tere tete tere tetere\\n\\nEu quero beijar a sua boca louca\\nEu quero beijar a sua boca louca\\nEu vou enfiar uva no céu da sua boca\\nEu vou enfiar uva no céu da sua boca\\n\\nE aí?\\nChupa toda, disse toda\\nE aí?\\nChupa toda, disse toda\\n\\n</td>\n",
              "      <td>pt</td>\n",
              "    </tr>\n",
              "    <tr>\n",
              "      <th>3</th>\n",
              "      <td>/ivete-sangalo/</td>\n",
              "      <td>Quando A Chuva Passar</td>\n",
              "      <td>/ivete-sangalo/quando-a-chuva-passar.html</td>\n",
              "      <td>Quando a chuva passar\\n\\nPra quê falar\\nSe você não quer me ouvir?\\nFugir agora não resolve nada\\n\\nMas não vou chorar\\nSe você quiser partir\\nÀs vezes a distância ajuda\\n\\nE essa tempestade um dia vai acabar\\nSó quero te lembrar\\nDe quando a gente andava nas estrelas\\nNas horas lindas que passamos juntos\\nA gente só queria amar e amar e hoje eu tenho certeza\\n\\nA nossa história não termina agora\\nPorque essa tempestade um dia vai acabar\\n\\n(Refrão)\\nQuando a chuva passar\\nQuando o tempo abrir\\nAbra a janela e veja eu sou o sol\\nEu sou céu e mar\\nEu sou seu e fim\\nE o meu amor é imensidão\\n\\nSó quero te lembrar\\nDe quando a gente andava nas estrelas\\nNas horas lindas que passamos juntos\\nA gente só queria amar e amar\\nE hoje eu tenho certeza\\nA nossa história não termina agora\\nPorque essa tempestade um dia vai acabar\\n\\n(Refrão 2x)</td>\n",
              "      <td>pt</td>\n",
              "    </tr>\n",
              "    <tr>\n",
              "      <th>4</th>\n",
              "      <td>/ivete-sangalo/</td>\n",
              "      <td>Sorte Grande</td>\n",
              "      <td>/ivete-sangalo/sorte-grande.html</td>\n",
              "      <td>A minha sorte grande foi você cair do céu\\nMinha paixão verdadeira...\\n\\nViver a emoção, ganhar teu coração\\nPra ser feliz a vida inteira\\n\\nMas é lindo teu sorriso, o brilho dos teus olhos\\nMeu anjo querubim\\n\\nDoces dos meus beijos, calor dos meus braços\\nPerfume de jasmim\\n\\nChegou no meu espaço mandando no pedaço\\nO amor que não é brincadeira\\nPegou me deu um laço,\\nDançou bem no compasso,\\nDe prazer levantou poeira\\n\\nPoeira, poeira, poeira\\nLevantou poeira\\n\\nA minha sorte grande foi você cair do céu\\nMinha paixão verdadeira...\\n\\nViver a emoção, ganhar teu coração\\nPra ser feliz a vida inteira\\n\\nMas é lindo teu sorriso, o brilho dos teus olhos\\nMeu anjo querubim\\n\\nDoces dos meus beijos, calor dos meus braços\\nPerfume de jasmim\\n\\nChegou no meu espaço mandando no pedaço\\nO amor que não é brincadeira\\nPegou me deu um laço,\\nDançou bem no compasso,\\nDe prazer levantou poeira\\n\\nPoeira, poeira, poeira\\nLevantou poeira\\n\\nChegou no meu espaço mandando no pedaço\\nO amor que não é brincadeira\\nPegou me deu um laço,\\nDançou bem no compasso,\\nDe prazer levantou..........Levantou poeira\\n\\nPoeira, poeira, poeira\\nLevantou poeira</td>\n",
              "      <td>pt</td>\n",
              "    </tr>\n",
              "  </tbody>\n",
              "</table>\n",
              "</div>\n",
              "    <div class=\"colab-df-buttons\">\n",
              "\n",
              "  <div class=\"colab-df-container\">\n",
              "    <button class=\"colab-df-convert\" onclick=\"convertToInteractive('df-038ff174-5265-43da-9eb7-1ba8e66a5d03')\"\n",
              "            title=\"Convert this dataframe to an interactive table.\"\n",
              "            style=\"display:none;\">\n",
              "\n",
              "  <svg xmlns=\"http://www.w3.org/2000/svg\" height=\"24px\" viewBox=\"0 -960 960 960\">\n",
              "    <path d=\"M120-120v-720h720v720H120Zm60-500h600v-160H180v160Zm220 220h160v-160H400v160Zm0 220h160v-160H400v160ZM180-400h160v-160H180v160Zm440 0h160v-160H620v160ZM180-180h160v-160H180v160Zm440 0h160v-160H620v160Z\"/>\n",
              "  </svg>\n",
              "    </button>\n",
              "\n",
              "  <style>\n",
              "    .colab-df-container {\n",
              "      display:flex;\n",
              "      gap: 12px;\n",
              "    }\n",
              "\n",
              "    .colab-df-convert {\n",
              "      background-color: #E8F0FE;\n",
              "      border: none;\n",
              "      border-radius: 50%;\n",
              "      cursor: pointer;\n",
              "      display: none;\n",
              "      fill: #1967D2;\n",
              "      height: 32px;\n",
              "      padding: 0 0 0 0;\n",
              "      width: 32px;\n",
              "    }\n",
              "\n",
              "    .colab-df-convert:hover {\n",
              "      background-color: #E2EBFA;\n",
              "      box-shadow: 0px 1px 2px rgba(60, 64, 67, 0.3), 0px 1px 3px 1px rgba(60, 64, 67, 0.15);\n",
              "      fill: #174EA6;\n",
              "    }\n",
              "\n",
              "    .colab-df-buttons div {\n",
              "      margin-bottom: 4px;\n",
              "    }\n",
              "\n",
              "    [theme=dark] .colab-df-convert {\n",
              "      background-color: #3B4455;\n",
              "      fill: #D2E3FC;\n",
              "    }\n",
              "\n",
              "    [theme=dark] .colab-df-convert:hover {\n",
              "      background-color: #434B5C;\n",
              "      box-shadow: 0px 1px 3px 1px rgba(0, 0, 0, 0.15);\n",
              "      filter: drop-shadow(0px 1px 2px rgba(0, 0, 0, 0.3));\n",
              "      fill: #FFFFFF;\n",
              "    }\n",
              "  </style>\n",
              "\n",
              "    <script>\n",
              "      const buttonEl =\n",
              "        document.querySelector('#df-038ff174-5265-43da-9eb7-1ba8e66a5d03 button.colab-df-convert');\n",
              "      buttonEl.style.display =\n",
              "        google.colab.kernel.accessAllowed ? 'block' : 'none';\n",
              "\n",
              "      async function convertToInteractive(key) {\n",
              "        const element = document.querySelector('#df-038ff174-5265-43da-9eb7-1ba8e66a5d03');\n",
              "        const dataTable =\n",
              "          await google.colab.kernel.invokeFunction('convertToInteractive',\n",
              "                                                    [key], {});\n",
              "        if (!dataTable) return;\n",
              "\n",
              "        const docLinkHtml = 'Like what you see? Visit the ' +\n",
              "          '<a target=\"_blank\" href=https://colab.research.google.com/notebooks/data_table.ipynb>data table notebook</a>'\n",
              "          + ' to learn more about interactive tables.';\n",
              "        element.innerHTML = '';\n",
              "        dataTable['output_type'] = 'display_data';\n",
              "        await google.colab.output.renderOutput(dataTable, element);\n",
              "        const docLink = document.createElement('div');\n",
              "        docLink.innerHTML = docLinkHtml;\n",
              "        element.appendChild(docLink);\n",
              "      }\n",
              "    </script>\n",
              "  </div>\n",
              "\n",
              "\n",
              "<div id=\"df-588b68d8-ecd0-4731-8ef6-2d6ac426c1b5\">\n",
              "  <button class=\"colab-df-quickchart\" onclick=\"quickchart('df-588b68d8-ecd0-4731-8ef6-2d6ac426c1b5')\"\n",
              "            title=\"Suggest charts\"\n",
              "            style=\"display:none;\">\n",
              "\n",
              "<svg xmlns=\"http://www.w3.org/2000/svg\" height=\"24px\"viewBox=\"0 0 24 24\"\n",
              "     width=\"24px\">\n",
              "    <g>\n",
              "        <path d=\"M19 3H5c-1.1 0-2 .9-2 2v14c0 1.1.9 2 2 2h14c1.1 0 2-.9 2-2V5c0-1.1-.9-2-2-2zM9 17H7v-7h2v7zm4 0h-2V7h2v10zm4 0h-2v-4h2v4z\"/>\n",
              "    </g>\n",
              "</svg>\n",
              "  </button>\n",
              "\n",
              "<style>\n",
              "  .colab-df-quickchart {\n",
              "      --bg-color: #E8F0FE;\n",
              "      --fill-color: #1967D2;\n",
              "      --hover-bg-color: #E2EBFA;\n",
              "      --hover-fill-color: #174EA6;\n",
              "      --disabled-fill-color: #AAA;\n",
              "      --disabled-bg-color: #DDD;\n",
              "  }\n",
              "\n",
              "  [theme=dark] .colab-df-quickchart {\n",
              "      --bg-color: #3B4455;\n",
              "      --fill-color: #D2E3FC;\n",
              "      --hover-bg-color: #434B5C;\n",
              "      --hover-fill-color: #FFFFFF;\n",
              "      --disabled-bg-color: #3B4455;\n",
              "      --disabled-fill-color: #666;\n",
              "  }\n",
              "\n",
              "  .colab-df-quickchart {\n",
              "    background-color: var(--bg-color);\n",
              "    border: none;\n",
              "    border-radius: 50%;\n",
              "    cursor: pointer;\n",
              "    display: none;\n",
              "    fill: var(--fill-color);\n",
              "    height: 32px;\n",
              "    padding: 0;\n",
              "    width: 32px;\n",
              "  }\n",
              "\n",
              "  .colab-df-quickchart:hover {\n",
              "    background-color: var(--hover-bg-color);\n",
              "    box-shadow: 0 1px 2px rgba(60, 64, 67, 0.3), 0 1px 3px 1px rgba(60, 64, 67, 0.15);\n",
              "    fill: var(--button-hover-fill-color);\n",
              "  }\n",
              "\n",
              "  .colab-df-quickchart-complete:disabled,\n",
              "  .colab-df-quickchart-complete:disabled:hover {\n",
              "    background-color: var(--disabled-bg-color);\n",
              "    fill: var(--disabled-fill-color);\n",
              "    box-shadow: none;\n",
              "  }\n",
              "\n",
              "  .colab-df-spinner {\n",
              "    border: 2px solid var(--fill-color);\n",
              "    border-color: transparent;\n",
              "    border-bottom-color: var(--fill-color);\n",
              "    animation:\n",
              "      spin 1s steps(1) infinite;\n",
              "  }\n",
              "\n",
              "  @keyframes spin {\n",
              "    0% {\n",
              "      border-color: transparent;\n",
              "      border-bottom-color: var(--fill-color);\n",
              "      border-left-color: var(--fill-color);\n",
              "    }\n",
              "    20% {\n",
              "      border-color: transparent;\n",
              "      border-left-color: var(--fill-color);\n",
              "      border-top-color: var(--fill-color);\n",
              "    }\n",
              "    30% {\n",
              "      border-color: transparent;\n",
              "      border-left-color: var(--fill-color);\n",
              "      border-top-color: var(--fill-color);\n",
              "      border-right-color: var(--fill-color);\n",
              "    }\n",
              "    40% {\n",
              "      border-color: transparent;\n",
              "      border-right-color: var(--fill-color);\n",
              "      border-top-color: var(--fill-color);\n",
              "    }\n",
              "    60% {\n",
              "      border-color: transparent;\n",
              "      border-right-color: var(--fill-color);\n",
              "    }\n",
              "    80% {\n",
              "      border-color: transparent;\n",
              "      border-right-color: var(--fill-color);\n",
              "      border-bottom-color: var(--fill-color);\n",
              "    }\n",
              "    90% {\n",
              "      border-color: transparent;\n",
              "      border-bottom-color: var(--fill-color);\n",
              "    }\n",
              "  }\n",
              "</style>\n",
              "\n",
              "  <script>\n",
              "    async function quickchart(key) {\n",
              "      const quickchartButtonEl =\n",
              "        document.querySelector('#' + key + ' button');\n",
              "      quickchartButtonEl.disabled = true;  // To prevent multiple clicks.\n",
              "      quickchartButtonEl.classList.add('colab-df-spinner');\n",
              "      try {\n",
              "        const charts = await google.colab.kernel.invokeFunction(\n",
              "            'suggestCharts', [key], {});\n",
              "      } catch (error) {\n",
              "        console.error('Error during call to suggestCharts:', error);\n",
              "      }\n",
              "      quickchartButtonEl.classList.remove('colab-df-spinner');\n",
              "      quickchartButtonEl.classList.add('colab-df-quickchart-complete');\n",
              "    }\n",
              "    (() => {\n",
              "      let quickchartButtonEl =\n",
              "        document.querySelector('#df-588b68d8-ecd0-4731-8ef6-2d6ac426c1b5 button');\n",
              "      quickchartButtonEl.style.display =\n",
              "        google.colab.kernel.accessAllowed ? 'block' : 'none';\n",
              "    })();\n",
              "  </script>\n",
              "</div>\n",
              "    </div>\n",
              "  </div>\n"
            ],
            "text/plain": [
              "             ALink                            SName  \\\n",
              "0  /ivete-sangalo/                            Arerê   \n",
              "1  /ivete-sangalo/  Se Eu Não Te Amasse Tanto Assim   \n",
              "2  /ivete-sangalo/                      Céu da Boca   \n",
              "3  /ivete-sangalo/            Quando A Chuva Passar   \n",
              "4  /ivete-sangalo/                     Sorte Grande   \n",
              "\n",
              "                                                 SLink  \\\n",
              "0                            /ivete-sangalo/arere.html   \n",
              "1  /ivete-sangalo/se-eu-nao-te-amasse-tanto-assim.html   \n",
              "2                       /ivete-sangalo/chupa-toda.html   \n",
              "3            /ivete-sangalo/quando-a-chuva-passar.html   \n",
              "4                     /ivete-sangalo/sorte-grande.html   \n",
              "\n",
              "                                                                                                                                                                                                                                                                                                                                                                                                                                                                                                                                                                                                                                                                                                                                                                                                                                                                                                                                                                                                                                                                                                                                                                                       Lyric  \\\n",
              "0                                                                                                                                                                                                                                                                                                                                                                                                                                                                                                                                                                                                                                                                                                                                                  Tudo o que eu quero nessa vida,\\nToda vida, é\\nÉ amar você\\nAmar você\\n\\nO seu amor é como uma chama acesa\\nQueima de prazer\\nDe prazer\\n\\nEu já falei com Deus que não vou te deixar\\nVou te levar pra onde for\\nQualquer lugar\\nJá fiz de tudo pra não te perder\\n\\nArerê,\\nUm lobby, um hobby, um love com você\\nArerê,\\nUm lobby, um hobby, um love com você\\n\\nCai, cai, cai, cai, cai pra cá\\nHey, hey, hey\\nTu-do,tu-do, vai rolar   \n",
              "1                                                                                                                                                                                                                                                                                                                                                                                                              Meu coração\\nSem direção\\nVoando só por voar\\nSem saber onde chegar\\nSonhando em te encontrar\\nE as estrelas\\nQue hoje eu descobri\\nNo seu olhar\\nAs estrelas vão me guiar\\n\\nSe eu não te amasse tanto assim\\nTalvez perdesse os sonhos\\nDentro de mim\\nE vivesse na escuridão\\nSe eu não te amasse tanto assim\\nTalvez não visse flores\\nPor onde eu vi\\nDentro do meu coração\\n\\nHoje eu sei\\nEu te amei\\nNo vento de um temporal\\nMas fui mais\\nMuito além\\nDo tempo do vendaval\\nNos desejos\\nNum beijo\\nQue eu jamais provei igual\\nE as estrelas dão um sinal\\n\\nSe eu não te amasse tanto assim\\nTalvez perdesse os sonhos\\nDentro de mim\\nE vivesse na escuridão\\nSe eu não te amasse tanto assim\\nTalvez não visse flores\\nPor onde eu vi\\nDentro do meu coração...   \n",
              "2                                                                                                                                                                                                                                                                                                                                                                                                                                                                                                                                           É de babaixá!\\nÉ de balacubaca!\\nÉ de babaixá!\\nÉ de balacubaca!\\ntetetetere tere tete tere tetere\\n\\nEu quero beijar a sua boca louca\\nEu quero beijar a sua boca louca\\nEu vou enfiar uva no céu da sua boca\\nEu vou enfiar uva no céu da sua boca\\n\\nE aí?\\nChupa toda, disse toda\\nE aí?\\nChupa toda, disse toda\\n\\nÉ de babaixá!\\nÉ de balacubaca!\\nÉ de babaixá!\\nÉ de balacubaca!\\ntetetetere tere tete tere tetere\\n\\nEu quero beijar a sua boca louca\\nEu quero beijar a sua boca louca\\nEu vou enfiar uva no céu da sua boca\\nEu vou enfiar uva no céu da sua boca\\n\\nE aí?\\nChupa toda, disse toda\\nE aí?\\nChupa toda, disse toda\\n\\n   \n",
              "3                                                                                                                                                                                                                                                                                                               Quando a chuva passar\\n\\nPra quê falar\\nSe você não quer me ouvir?\\nFugir agora não resolve nada\\n\\nMas não vou chorar\\nSe você quiser partir\\nÀs vezes a distância ajuda\\n\\nE essa tempestade um dia vai acabar\\nSó quero te lembrar\\nDe quando a gente andava nas estrelas\\nNas horas lindas que passamos juntos\\nA gente só queria amar e amar e hoje eu tenho certeza\\n\\nA nossa história não termina agora\\nPorque essa tempestade um dia vai acabar\\n\\n(Refrão)\\nQuando a chuva passar\\nQuando o tempo abrir\\nAbra a janela e veja eu sou o sol\\nEu sou céu e mar\\nEu sou seu e fim\\nE o meu amor é imensidão\\n\\nSó quero te lembrar\\nDe quando a gente andava nas estrelas\\nNas horas lindas que passamos juntos\\nA gente só queria amar e amar\\nE hoje eu tenho certeza\\nA nossa história não termina agora\\nPorque essa tempestade um dia vai acabar\\n\\n(Refrão 2x)   \n",
              "4  A minha sorte grande foi você cair do céu\\nMinha paixão verdadeira...\\n\\nViver a emoção, ganhar teu coração\\nPra ser feliz a vida inteira\\n\\nMas é lindo teu sorriso, o brilho dos teus olhos\\nMeu anjo querubim\\n\\nDoces dos meus beijos, calor dos meus braços\\nPerfume de jasmim\\n\\nChegou no meu espaço mandando no pedaço\\nO amor que não é brincadeira\\nPegou me deu um laço,\\nDançou bem no compasso,\\nDe prazer levantou poeira\\n\\nPoeira, poeira, poeira\\nLevantou poeira\\n\\nA minha sorte grande foi você cair do céu\\nMinha paixão verdadeira...\\n\\nViver a emoção, ganhar teu coração\\nPra ser feliz a vida inteira\\n\\nMas é lindo teu sorriso, o brilho dos teus olhos\\nMeu anjo querubim\\n\\nDoces dos meus beijos, calor dos meus braços\\nPerfume de jasmim\\n\\nChegou no meu espaço mandando no pedaço\\nO amor que não é brincadeira\\nPegou me deu um laço,\\nDançou bem no compasso,\\nDe prazer levantou poeira\\n\\nPoeira, poeira, poeira\\nLevantou poeira\\n\\nChegou no meu espaço mandando no pedaço\\nO amor que não é brincadeira\\nPegou me deu um laço,\\nDançou bem no compasso,\\nDe prazer levantou..........Levantou poeira\\n\\nPoeira, poeira, poeira\\nLevantou poeira   \n",
              "\n",
              "  language  \n",
              "0       pt  \n",
              "1       pt  \n",
              "2       pt  \n",
              "3       pt  \n",
              "4       pt  "
            ]
          },
          "execution_count": 46,
          "metadata": {},
          "output_type": "execute_result"
        }
      ],
      "source": [
        "song_df.head()"
      ]
    },
    {
      "cell_type": "code",
      "execution_count": null,
      "metadata": {
        "id": "PIlwMnktDsD1"
      },
      "outputs": [],
      "source": [
        "song_df.rename(columns={'ALink': 'Link'}, inplace=True)"
      ]
    },
    {
      "cell_type": "code",
      "execution_count": null,
      "metadata": {
        "colab": {
          "base_uri": "https://localhost:8080/"
        },
        "id": "pKwC70R0FffJ",
        "outputId": "5cad1695-515e-48ed-d959-7fce10eabe2a"
      },
      "outputs": [
        {
          "data": {
            "text/plain": [
              "(379931, 5)"
            ]
          },
          "execution_count": 48,
          "metadata": {},
          "output_type": "execute_result"
        }
      ],
      "source": [
        "song_df.shape"
      ]
    },
    {
      "cell_type": "code",
      "execution_count": null,
      "metadata": {
        "id": "MCqbFeX1CcOQ"
      },
      "outputs": [],
      "source": [
        "song_joined_df = pd.merge(song_df, artist_df, on = 'Link', how = 'inner')"
      ]
    },
    {
      "cell_type": "code",
      "execution_count": null,
      "metadata": {
        "colab": {
          "base_uri": "https://localhost:8080/"
        },
        "id": "QVW_g9tsD7dA",
        "outputId": "fb6f7a58-e9b0-4469-db3b-1647213d9f5b"
      },
      "outputs": [
        {
          "data": {
            "text/plain": [
              "(378988, 9)"
            ]
          },
          "execution_count": 50,
          "metadata": {},
          "output_type": "execute_result"
        }
      ],
      "source": [
        "song_joined_df.shape"
      ]
    },
    {
      "cell_type": "code",
      "execution_count": null,
      "metadata": {
        "colab": {
          "base_uri": "https://localhost:8080/"
        },
        "id": "-tWkcpSSEIPO",
        "outputId": "9f9a1df1-7923-4351-bdef-57eb7aecf5b8"
      },
      "outputs": [
        {
          "data": {
            "text/plain": [
              "1748"
            ]
          },
          "execution_count": 51,
          "metadata": {},
          "output_type": "execute_result"
        }
      ],
      "source": [
        "len(song_joined_df['Genres'].unique())"
      ]
    },
    {
      "cell_type": "code",
      "execution_count": null,
      "metadata": {
        "id": "3TtgNuXF2vah"
      },
      "outputs": [],
      "source": [
        "song_data = pd.read_csv(\"/content/drive/MyDrive/QTM340 Final Project/lyrics/song_data.csv\")"
      ]
    },
    {
      "cell_type": "code",
      "execution_count": null,
      "metadata": {
        "colab": {
          "base_uri": "https://localhost:8080/"
        },
        "id": "pec2pbvD4XJc",
        "outputId": "ddd41de7-6e19-4bf9-a318-4d0df677d906"
      },
      "outputs": [
        {
          "data": {
            "text/plain": [
              "(18835, 15)"
            ]
          },
          "execution_count": 53,
          "metadata": {},
          "output_type": "execute_result"
        }
      ],
      "source": [
        "song_data.shape"
      ]
    },
    {
      "cell_type": "code",
      "execution_count": null,
      "metadata": {
        "id": "Q5_dgcvJ3Mxa"
      },
      "outputs": [],
      "source": [
        "song_data.rename(columns={'song_name': 'SName'}, inplace=True)"
      ]
    },
    {
      "cell_type": "code",
      "execution_count": null,
      "metadata": {
        "id": "ywwN4wrY5b1N"
      },
      "outputs": [],
      "source": [
        "song_joined_df = song_joined_df.drop_duplicates(subset='SName')\n",
        "song_data = song_data.drop_duplicates(subset='SName')"
      ]
    },
    {
      "cell_type": "code",
      "execution_count": null,
      "metadata": {
        "id": "cW5V6szw26hc"
      },
      "outputs": [],
      "source": [
        "song_joined_df = pd.merge(song_joined_df, song_data, on = 'SName', how = 'inner')"
      ]
    },
    {
      "cell_type": "code",
      "execution_count": null,
      "metadata": {
        "colab": {
          "base_uri": "https://localhost:8080/"
        },
        "id": "V8TbTXzu4EsW",
        "outputId": "fa282514-3119-45c5-f897-d3384e2d880d"
      },
      "outputs": [
        {
          "data": {
            "text/plain": [
              "(4719, 23)"
            ]
          },
          "execution_count": 57,
          "metadata": {},
          "output_type": "execute_result"
        }
      ],
      "source": [
        "song_joined_df.shape"
      ]
    },
    {
      "cell_type": "code",
      "execution_count": null,
      "metadata": {
        "id": "HXZGPL_cEa1V"
      },
      "outputs": [],
      "source": [
        "# preprocessing of data\n",
        "s = 'rap'\n",
        "song_joined_df['Genres'] = song_joined_df['Genres'].fillna('')\n",
        "nonrap_df = song_joined_df[~song_joined_df['Genres'].str.contains(s, case=False)]\n"
      ]
    },
    {
      "cell_type": "code",
      "execution_count": null,
      "metadata": {
        "id": "kUdHBK3P59d2"
      },
      "outputs": [],
      "source": [
        "nonrap_df.dropna()\n",
        "nonrap_df = nonrap_df.fillna('')"
      ]
    },
    {
      "cell_type": "code",
      "execution_count": null,
      "metadata": {
        "id": "AFkHn1gpq1J0"
      },
      "outputs": [],
      "source": [
        "nonrap_df['Lyric_split'] = nonrap_df['Lyric'].apply(lambda x: str(x).split())"
      ]
    },
    {
      "cell_type": "code",
      "execution_count": null,
      "metadata": {
        "id": "iU0n1ntWX2At"
      },
      "outputs": [],
      "source": [
        "nonrap_df['Lyric'] = nonrap_df['Lyric'].str.replace('\\n', ' ')"
      ]
    },
    {
      "cell_type": "code",
      "execution_count": null,
      "metadata": {
        "colab": {
          "base_uri": "https://localhost:8080/"
        },
        "id": "ji0DnwEJQTTp",
        "outputId": "7ddae5f6-e957-40d3-ea77-274e387852b4"
      },
      "outputs": [
        {
          "data": {
            "text/plain": [
              "(4125, 24)"
            ]
          },
          "execution_count": 62,
          "metadata": {},
          "output_type": "execute_result"
        }
      ],
      "source": [
        "nonrap_df.shape"
      ]
    },
    {
      "cell_type": "code",
      "execution_count": null,
      "metadata": {
        "id": "UPtY0pfJOXTR"
      },
      "outputs": [],
      "source": [
        "nonrap_vec = []\n",
        "model_nonrap_20 = Word2Vec(sentences=nonrap_df['Lyric_split'],\n",
        "                          vector_size=20,\n",
        "                          window=5,\n",
        "                          min_count=1,\n",
        "                          workers=1,\n",
        "                          seed=10010)\n",
        "\n",
        "for _, row in nonrap_df.iterrows():\n",
        "    # You don't need to train the model again, just use the existing model\n",
        "    vectors = [model_nonrap_20.wv[word] for word in row['Lyric_split'] if word in model_nonrap_20.wv]\n",
        "\n",
        "    if vectors:\n",
        "        # Stack the vectors into a matrix\n",
        "        matrix = np.vstack(vectors)\n",
        "        # Calculate the mean along axis 0 (columns)\n",
        "        mean_vector = np.mean(matrix, axis=0)\n",
        "        nonrap_vec.append(mean_vector)\n",
        "    else:\n",
        "        # If no words in vocabulary, append an array of zeros\n",
        "        nonrap_vec.append(np.zeros(20))\n",
        "\n",
        "# Convert the list of vectors into a NumPy array\n",
        "nonrap_vec = np.vstack(nonrap_vec)\n"
      ]
    },
    {
      "cell_type": "code",
      "execution_count": null,
      "metadata": {
        "colab": {
          "base_uri": "https://localhost:8080/"
        },
        "id": "gnZxnFl8m8DD",
        "outputId": "0cd8f025-1752-4024-a4a5-e343118d25b4"
      },
      "outputs": [
        {
          "data": {
            "text/plain": [
              "(4125, 20)"
            ]
          },
          "execution_count": 64,
          "metadata": {},
          "output_type": "execute_result"
        }
      ],
      "source": [
        "nonrap_vec.shape"
      ]
    },
    {
      "cell_type": "code",
      "execution_count": null,
      "metadata": {
        "colab": {
          "base_uri": "https://localhost:8080/"
        },
        "id": "gBjWvK5ePWxj",
        "outputId": "fbeaa3d5-2ee1-4b84-bc1b-1aef5b9812a2"
      },
      "outputs": [
        {
          "data": {
            "text/plain": [
              "array([[ 1.2221539 , -1.79674232, -0.08220313, ..., -0.71064502,\n",
              "        -3.00060081, -0.29032797],\n",
              "       [ 1.5313431 , -1.32657397,  0.21703137, ..., -0.75833935,\n",
              "        -2.56542945, -0.29655832],\n",
              "       [ 1.04492009, -1.5822289 ,  0.43241504, ..., -0.43340969,\n",
              "        -2.53330493, -1.09167433],\n",
              "       ...,\n",
              "       [-2.03135276, -1.63420713,  1.08102095, ..., -0.71676815,\n",
              "         1.84734011, -2.05572605],\n",
              "       [-0.36897823, -0.48279268,  0.25766778, ..., -0.28298652,\n",
              "         0.39670774, -0.40277255],\n",
              "       [-1.74178541, -1.49023092,  0.59357226, ..., -0.67518753,\n",
              "         1.80451214, -1.71499443]])"
            ]
          },
          "execution_count": 65,
          "metadata": {},
          "output_type": "execute_result"
        }
      ],
      "source": [
        "nonrap_vec"
      ]
    },
    {
      "cell_type": "markdown",
      "metadata": {
        "id": "VP6QQpideRoP"
      },
      "source": [
        "Similarity between nonrap songs and miswords"
      ]
    },
    {
      "cell_type": "code",
      "execution_count": null,
      "metadata": {
        "colab": {
          "base_uri": "https://localhost:8080/"
        },
        "id": "EhkKuRdzekv_",
        "outputId": "d2a965a1-db4c-44d5-aa73-d905919d68a8"
      },
      "outputs": [
        {
          "name": "stderr",
          "output_type": "stream",
          "text": [
            "<ipython-input-38-deb01aa47701>:7: RuntimeWarning: invalid value encountered in double_scalars\n",
            "  similarity = dot_product / (norm_a * norm_b)\n"
          ]
        }
      ],
      "source": [
        "cosine_similarities_nonrap_mis = np.apply_along_axis(calculate_cosine_similarity, axis=1, arr=nonrap_vec)"
      ]
    },
    {
      "cell_type": "code",
      "execution_count": null,
      "metadata": {
        "colab": {
          "base_uri": "https://localhost:8080/"
        },
        "id": "Y4bMt-3ue0R-",
        "outputId": "cc81f455-bba1-4270-e9b0-72f64fb33a08"
      },
      "outputs": [
        {
          "data": {
            "text/plain": [
              "array([ 0.48146583,  0.467303  ,  0.53574734, ..., -0.06102764,\n",
              "       -0.01955699, -0.10421787])"
            ]
          },
          "execution_count": 67,
          "metadata": {},
          "output_type": "execute_result"
        }
      ],
      "source": [
        "cosine_similarities_nonrap_mis"
      ]
    },
    {
      "cell_type": "code",
      "execution_count": null,
      "metadata": {
        "colab": {
          "base_uri": "https://localhost:8080/"
        },
        "id": "6-D4_T9bjO6v",
        "outputId": "ae31fa95-dfa0-406f-d038-62f30cb9e0de"
      },
      "outputs": [
        {
          "data": {
            "text/plain": [
              "4125"
            ]
          },
          "execution_count": 68,
          "metadata": {},
          "output_type": "execute_result"
        }
      ],
      "source": [
        "len(cosine_similarities_nonrap_mis)"
      ]
    },
    {
      "cell_type": "markdown",
      "metadata": {
        "id": "FwgRLtkDfPLY"
      },
      "source": [
        "Distribution of Cosine Similarities\n",
        "\n",
        "Comparison\n",
        "\n",
        "Confidence Interval"
      ]
    },
    {
      "cell_type": "code",
      "execution_count": null,
      "metadata": {
        "colab": {
          "base_uri": "https://localhost:8080/",
          "height": 1000
        },
        "id": "Yf7OVwLffW54",
        "outputId": "ecbc501d-ef9c-47b4-9aae-a6cde7240732"
      },
      "outputs": [
        {
          "data": {
            "image/png": "[encoded data removed]",
            "text/plain": [
              "<Figure size 2000x2000 with 1 Axes>"
            ]
          },
          "metadata": {},
          "output_type": "display_data"
        }
      ],
      "source": [
        "plt.hist(cosine_similarities_rap_mis, bins=40, alpha=0.5, label='Rap songs & Misogynies')\n",
        "plt.legend(loc='upper left')\n",
        "plt.show()"
      ]
    },
    {
      "cell_type": "code",
      "execution_count": null,
      "metadata": {
        "colab": {
          "base_uri": "https://localhost:8080/",
          "height": 1000
        },
        "id": "VvW76mIljp50",
        "outputId": "75bb3148-7563-4ae6-e228-6a6495e68c26"
      },
      "outputs": [
        {
          "data": {
            "image/png": "[encoded data removed]",
            "text/plain": [
              "<Figure size 2000x2000 with 1 Axes>"
            ]
          },
          "metadata": {},
          "output_type": "display_data"
        }
      ],
      "source": [
        "plt.hist(cosine_similarities_nonrap_mis, bins=40, alpha=0.5, label='Non-rap songs & Misogynies')\n",
        "plt.legend(loc='upper left')\n",
        "plt.show()"
      ]
    },
    {
      "cell_type": "code",
      "execution_count": null,
      "metadata": {
        "colab": {
          "base_uri": "https://localhost:8080/",
          "height": 1000
        },
        "id": "N_WSACgwle9f",
        "outputId": "27ca8215-735f-4478-fdf5-6ad38e2d2e28"
      },
      "outputs": [
        {
          "data": {
            "image/png": "[encoded data removed]",
            "text/plain": [
              "<Figure size 2000x2000 with 1 Axes>"
            ]
          },
          "metadata": {},
          "output_type": "display_data"
        }
      ],
      "source": [
        "plt.hist(cosine_similarities_rap_mis, bins=40, alpha=0.5, label='Rap songs & Misogynies')\n",
        "plt.hist(cosine_similarities_nonrap_mis, bins=40, alpha=0.5, label='Non-rap songs & Misogynies')\n",
        "plt.legend(loc='upper left', fontsize = 20)\n",
        "plt.show()"
      ]
    },
    {
      "cell_type": "code",
      "execution_count": null,
      "metadata": {
        "colab": {
          "base_uri": "https://localhost:8080/"
        },
        "id": "MXm3GzckhGaY",
        "outputId": "eab56f20-de41-4a0c-ce11-a9c72d257825"
      },
      "outputs": [
        {
          "name": "stdout",
          "output_type": "stream",
          "text": [
            "0.48928735905624365\n",
            "0.45067828602885873\n"
          ]
        }
      ],
      "source": [
        "avg_cos_rap = np.mean(cosine_similarities_rap_mis)\n",
        "avg_cos_nonrap = np.nanmean(cosine_similarities_nonrap_mis)\n",
        "print(avg_cos_rap)\n",
        "print(avg_cos_nonrap)"
      ]
    },
    {
      "cell_type": "code",
      "execution_count": null,
      "metadata": {
        "id": "9wC9XRuchSZi"
      },
      "outputs": [],
      "source": [
        "def mean_confidence_interval(data, confidence=0.95):\n",
        "    a = 1.0 * np.array(data)\n",
        "    a = a[~np.isnan(a)]\n",
        "    n = len(a)\n",
        "    m, se = np.nanmean(a), scipy.stats.sem(a)\n",
        "    h = se * scipy.stats.t.ppf((1 + confidence) / 2., n-1)\n",
        "    return  m-h, m, m+h"
      ]
    },
    {
      "cell_type": "code",
      "execution_count": null,
      "metadata": {
        "colab": {
          "base_uri": "https://localhost:8080/"
        },
        "id": "-m0_u96Uj6xx",
        "outputId": "385e0814-ca6f-479e-f1a9-b6709ef15c05"
      },
      "outputs": [
        {
          "data": {
            "text/plain": [
              "(0.48705337994938475, 0.48928735905624365, 0.49152133816310256)"
            ]
          },
          "execution_count": 74,
          "metadata": {},
          "output_type": "execute_result"
        }
      ],
      "source": [
        "mean_confidence_interval(cosine_similarities_rap_mis)"
      ]
    },
    {
      "cell_type": "code",
      "execution_count": null,
      "metadata": {
        "colab": {
          "base_uri": "https://localhost:8080/"
        },
        "id": "Ql_6QMvdkRsL",
        "outputId": "f8059bdb-9617-4674-8aa0-1944ca8752ed"
      },
      "outputs": [
        {
          "data": {
            "text/plain": [
              "(0.44514287782353734, 0.45067828602885873, 0.4562136942341801)"
            ]
          },
          "execution_count": 75,
          "metadata": {},
          "output_type": "execute_result"
        }
      ],
      "source": [
        "mean_confidence_interval(cosine_similarities_nonrap_mis)"
      ]
    },
    {
      "cell_type": "markdown",
      "metadata": {
        "id": "p8JFT-QdjEar"
      },
      "source": [
        "Result Summary\n",
        "\n",
        "(0.48705337994938475, 0.48928735905624365, 0.49152133816310256)\n",
        "\n",
        "(0.44514287782353734, 0.45067828602885873, 0.4562136942341801)"
      ]
    },
    {
      "cell_type": "markdown",
      "metadata": {
        "id": "Az7T_quMtwwI"
      },
      "source": [
        "If the vectors are similar, the cosine similarity will be close to 1 (cosine of a small angle is close to 1).\n",
        "\n",
        "If the vectors are dissimilar or orthogonal, the cosine similarity will be close to 0 (cosine of a 90-degree angle is 0).\n",
        "\n",
        "If the vectors are pointing in opposite directions, the cosine similarity will be close to -1 (cosine of a 180-degree angle is -1)."
      ]
    },
    {
      "cell_type": "markdown",
      "metadata": {
        "id": "lnslYXrPdLzV"
      },
      "source": [
        "*Detailed* Genre and Artist Analysis"
      ]
    },
    {
      "cell_type": "code",
      "execution_count": null,
      "metadata": {
        "colab": {
          "base_uri": "https://localhost:8080/"
        },
        "id": "HjsHZRIgdpPP",
        "outputId": "3de55bb6-9c65-4683-a682-6598c5328fe6"
      },
      "outputs": [
        {
          "data": {
            "text/plain": [
              "(4578,)"
            ]
          },
          "execution_count": 76,
          "metadata": {},
          "output_type": "execute_result"
        }
      ],
      "source": [
        "cosine_similarities_rap_mis.shape"
      ]
    },
    {
      "cell_type": "code",
      "execution_count": null,
      "metadata": {
        "colab": {
          "base_uri": "https://localhost:8080/"
        },
        "id": "zfGxtW8WdaLa",
        "outputId": "6bc333d7-ac88-4509-921d-c5e999269db2"
      },
      "outputs": [
        {
          "data": {
            "text/plain": [
              "(4125,)"
            ]
          },
          "execution_count": 77,
          "metadata": {},
          "output_type": "execute_result"
        }
      ],
      "source": [
        "cosine_similarities_nonrap_mis.shape"
      ]
    },
    {
      "cell_type": "code",
      "execution_count": null,
      "metadata": {
        "colab": {
          "base_uri": "https://localhost:8080/"
        },
        "id": "nByywKg7GznE",
        "outputId": "d5249a52-3ff5-446a-b1ad-1745658abf64"
      },
      "outputs": [
        {
          "data": {
            "text/plain": [
              "(4125, 24)"
            ]
          },
          "execution_count": 78,
          "metadata": {},
          "output_type": "execute_result"
        }
      ],
      "source": [
        "nonrap_df.shape"
      ]
    },
    {
      "cell_type": "code",
      "execution_count": null,
      "metadata": {
        "id": "iUSZR1qsd7zA"
      },
      "outputs": [],
      "source": [
        "df['cos_similarity'] = cosine_similarities_rap_mis"
      ]
    },
    {
      "cell_type": "code",
      "execution_count": null,
      "metadata": {
        "id": "eDI9o86Jdz0G"
      },
      "outputs": [],
      "source": [
        "nonrap_df['cos_similarity'] = cosine_similarities_nonrap_mis"
      ]
    },
    {
      "cell_type": "code",
      "execution_count": null,
      "metadata": {
        "colab": {
          "base_uri": "https://localhost:8080/",
          "height": 1000
        },
        "id": "gnjO-xqpePfd",
        "outputId": "25e18a74-77e7-4198-c5f6-bc0ef9478c36"
      },
      "outputs": [
        {
          "data": {
            "text/html": [
              "\n",
              "  <div id=\"df-2aeab2b6-2897-4a0f-aa5a-cbc890b5282e\" class=\"colab-df-container\">\n",
              "    <div>\n",
              "<style scoped>\n",
              "    .dataframe tbody tr th:only-of-type {\n",
              "        vertical-align: middle;\n",
              "    }\n",
              "\n",
              "    .dataframe tbody tr th {\n",
              "        vertical-align: top;\n",
              "    }\n",
              "\n",
              "    .dataframe thead th {\n",
              "        text-align: right;\n",
              "    }\n",
              "</style>\n",
              "<table border=\"1\" class=\"dataframe\">\n",
              "  <thead>\n",
              "    <tr style=\"text-align: right;\">\n",
              "      <th></th>\n",
              "      <th>rapper</th>\n",
              "      <th>verse</th>\n",
              "      <th>verse_preprocessed</th>\n",
              "      <th>num_misogyny</th>\n",
              "      <th>cos_similarity</th>\n",
              "    </tr>\n",
              "  </thead>\n",
              "  <tbody>\n",
              "    <tr>\n",
              "      <th>40</th>\n",
              "      <td>Nas</td>\n",
              "      <td>\"Now let me take a trip down memory lane\" \"Comin' outta Queensbridge\" \"Now let me take a trip down memory lane\" \"Comin' outta Queensbridge\" \"Now let me take a trip down memory lane\" \"Comin' outta Queensbridge\" \"Now let me take a trip down memory lane\" \"Comin' outta Queensbridge\"</td>\n",
              "      <td>\"now let take trip memory lane\" \"comin' outta queensbridge\" \"now let take trip memory lane\" \"comin' outta queensbridge\" \"now let take trip memory lane\" \"comin' outta queensbridge\" \"now let take trip memory lane\" \"comin' outta queensbridge\"</td>\n",
              "      <td>False</td>\n",
              "      <td>0.797234</td>\n",
              "    </tr>\n",
              "    <tr>\n",
              "      <th>41</th>\n",
              "      <td>Nas</td>\n",
              "      <td>\"Now let me take a trip down memory lane\" \"Comin' outta Queensbridge\" \"Now let me take a trip down memory lane\" \"Comin' outta Queensbridge\"</td>\n",
              "      <td>\"now let take trip memory lane\" \"comin' outta queensbridge\" \"now let take trip memory lane\" \"comin' outta queensbridge\"</td>\n",
              "      <td>False</td>\n",
              "      <td>0.796095</td>\n",
              "    </tr>\n",
              "    <tr>\n",
              "      <th>77</th>\n",
              "      <td>CunninLynguists</td>\n",
              "      <td>Before EPMD met golddiggers fuckin for VISAs I was the first to pimp Jezebel and Mona Lisa And made em famous way before Eminem could flow Even ran trizz with JFK on Marilyn Monroe...Oh  - scratching \"Blow the spot with some old school shit\" - Rah Digga on Talib Kweli's \"Down For The Count\" \"I'm so old school\"- Jay-Z off of \"Jigga That Nigga\" \"I'm old school like my dad is\"- J-Ro on De La Soul's \"My Writes\" \"True, that's old school\"- Yasiin Bey off of \"Very Well\" \"I'll bust that old school boom bap all over this map\"- Declaime on Lootpacks's \"Episodes\"  x   \"From the old school I consider loyally true\" - Big Punisher off of \"You Came Up\"</td>\n",
              "      <td>epmd met golddiggers fuckin visas first pimp jezebel mona lisa made em famous way eminem could flow even ran trizz jfk marilyn monroe...oh - scratching \"blow spot old school shit\" - rah digga talib kweli's \"down count\" \"i'm old school\"- jay-z \"jigga nigga\" \"i'm old school like dad is\"- j-ro de la soul's \"my writes\" \"true, that's old school\"- yasiin bey \"very well\" \"i'll bust old school boom bap map\"- declaime lootpacks's \"episodes\" x \"from old school consider loyally true\" - big punisher \"you came up\"</td>\n",
              "      <td>False</td>\n",
              "      <td>0.782403</td>\n",
              "    </tr>\n",
              "    <tr>\n",
              "      <th>79</th>\n",
              "      <td>CunninLynguists</td>\n",
              "      <td>When lightin' struck Ben Frank's kite and sent currents through He was the first to electric boogaloo The wop, robot and helicopter on the pavement And in amazement, he was even Harlem-Shakin'  - scratching \"Blow the spot with some old school shit\" - Rah Digga on Talib Kweli's \"Down For The Count\" \"I'm so old school\"- Jay-Z off of \"Jigga That Nigga\" \"I'm old school like my dad is\"- J-Ro on De La Soul's \"My Writes\" \"True, that's old school\"- Mos Def on BlackStarr's \"Very Well\" \"I'll bust that old school boom bap all over this map\"- Declaime on Lootpacks's \"Episodes\"  x   \"From the old school I consider loyally true\"- Big Pun off of \"You Came Up\"</td>\n",
              "      <td>lightin' struck ben frank's kite sent currents first electric boogaloo wop, robot helicopter pavement amazement, even harlem-shakin' - scratching \"blow spot old school shit\" - rah digga talib kweli's \"down count\" \"i'm old school\"- jay-z \"jigga nigga\" \"i'm old school like dad is\"- j-ro de la soul's \"my writes\" \"true, that's old school\"- mos def blackstarr's \"very well\" \"i'll bust old school boom bap map\"- declaime lootpacks's \"episodes\" x \"from old school consider loyally true\"- big pun \"you came up\"</td>\n",
              "      <td>False</td>\n",
              "      <td>0.779431</td>\n",
              "    </tr>\n",
              "    <tr>\n",
              "      <th>52</th>\n",
              "      <td>Immortal Technique</td>\n",
              "      <td>And I drop it so heavy, it leaves the world unbalanced Exterminate the spiritual force of all that challenge I'm the lyrical apocalypse that crumbles the granite Replacing you as the dominant species on the planet \"Rest in Peace\" \"Here   s another warrior's song  rep this life to the fullest\" \"Rest in Peace\" \"Mothafucka, say yo    prayers!\" \"For brothers who died from black-on-black violence\" \"Rest in Peace\" \"You ain   t payin    respect when you    spose to\" \"Rep this life to the fullest\" \"Rest in Peace\" \"This ain   t for y   all, this a toast to them\" \"Rest in Peace\"</td>\n",
              "      <td>drop heavy, leaves world unbalanced exterminate spiritual force challenge i'm lyrical apocalypse crumbles granite replacing dominant species planet \"rest peace\" \"here another warrior's song rep life fullest\" \"rest peace\" \"mothafucka, say yo prayers!\" \"for brothers died black-on-black violence\" \"rest peace\" \"you payin respect spose to\" \"rep life fullest\" \"rest peace\" \"this all, toast them\" \"rest peace\"</td>\n",
              "      <td>False</td>\n",
              "      <td>0.775299</td>\n",
              "    </tr>\n",
              "    <tr>\n",
              "      <th>97</th>\n",
              "      <td>Jay-z</td>\n",
              "      <td>\"Dear God     I wonder, can you save me?\" \"Illuminati want my mind, soul and my body\" \"Dear God     I wonder, can you save me?\" \"Secret society, tryna keep they eye on me\" \"Dear God     I wonder, can you save me?\" \"Illuminati want my mind, soul and my body\" \"Dear God     I wonder, can you save me?\" \"I can't die, I can't die, I can't die\"</td>\n",
              "      <td>\"dear god wonder, save me?\" \"illuminati want mind, soul body\" \"dear god wonder, save me?\" \"secret society, tryna keep eye me\" \"dear god wonder, save me?\" \"illuminati want mind, soul body\" \"dear god wonder, save me?\" \"i can't die, can't die, can't die\"</td>\n",
              "      <td>False</td>\n",
              "      <td>0.774047</td>\n",
              "    </tr>\n",
              "    <tr>\n",
              "      <th>122</th>\n",
              "      <td>A$AP Rocky</td>\n",
              "      <td>\"I gotta find peace of mind\"  ohh, do do, do do, oh  \"I gotta find peace of mind\"  oh, oh  \"I gotta find peace of mind\"  oh, oh  \"I gotta find peace of mind\"  you make my heart desire pure  \"I gotta find peace of mind\"  you make my heart desire pure  I just need peace of mind for my purity \"You make my heart desire pure, just tell me\" \"You make my heart desire pure, just tell me\"</td>\n",
              "      <td>\"i gotta find peace mind\" ohh, do, do, oh \"i gotta find peace mind\" oh, oh \"i gotta find peace mind\" oh, oh \"i gotta find peace mind\" make heart desire pure \"i gotta find peace mind\" make heart desire pure need peace mind purity \"you make heart desire pure, tell me\" \"you make heart desire pure, tell me\"</td>\n",
              "      <td>False</td>\n",
              "      <td>0.771617</td>\n",
              "    </tr>\n",
              "    <tr>\n",
              "      <th>114</th>\n",
              "      <td>Eazy-E</td>\n",
              "      <td>\"But mister dopeman, dopeman, can I get a hit?\"</td>\n",
              "      <td>\"but mister dopeman, dopeman, get hit?\"</td>\n",
              "      <td>False</td>\n",
              "      <td>0.758521</td>\n",
              "    </tr>\n",
              "    <tr>\n",
              "      <th>127</th>\n",
              "      <td>Drake</td>\n",
              "      <td>Cover Artwork \"Fake Love,\" \"Sneakin',\" and \"Two Birds, One Stone\"  Yeah We had the type of nights where mornin' comes too soon And nothin' was the same</td>\n",
              "      <td>cover artwork \"fake love,\" \"sneakin',\" \"two birds, one stone\" yeah type nights mornin' comes soon nothin'</td>\n",
              "      <td>False</td>\n",
              "      <td>0.727678</td>\n",
              "    </tr>\n",
              "    <tr>\n",
              "      <th>53</th>\n",
              "      <td>Big L</td>\n",
              "      <td>\"What y'all bout to witness\" \"Big L, Big L, Big L\" \"My-my-my-my, my whole crew wild\" \"The game is called rap\" \"Other MC's ain't got a chance at all\" \"My-whole, my, my whole crew wild\"</td>\n",
              "      <td>\"what y'all bout witness\" \"big l, big l, big l\" \"my-my-my-my, whole crew wild\" \"the game called rap\" \"other mc's ain't got chance all\" \"my-whole, my, whole crew wild\"</td>\n",
              "      <td>False</td>\n",
              "      <td>0.713417</td>\n",
              "    </tr>\n",
              "  </tbody>\n",
              "</table>\n",
              "</div>\n",
              "    <div class=\"colab-df-buttons\">\n",
              "\n",
              "  <div class=\"colab-df-container\">\n",
              "    <button class=\"colab-df-convert\" onclick=\"convertToInteractive('df-2aeab2b6-2897-4a0f-aa5a-cbc890b5282e')\"\n",
              "            title=\"Convert this dataframe to an interactive table.\"\n",
              "            style=\"display:none;\">\n",
              "\n",
              "  <svg xmlns=\"http://www.w3.org/2000/svg\" height=\"24px\" viewBox=\"0 -960 960 960\">\n",
              "    <path d=\"M120-120v-720h720v720H120Zm60-500h600v-160H180v160Zm220 220h160v-160H400v160Zm0 220h160v-160H400v160ZM180-400h160v-160H180v160Zm440 0h160v-160H620v160ZM180-180h160v-160H180v160Zm440 0h160v-160H620v160Z\"/>\n",
              "  </svg>\n",
              "    </button>\n",
              "\n",
              "  <style>\n",
              "    .colab-df-container {\n",
              "      display:flex;\n",
              "      gap: 12px;\n",
              "    }\n",
              "\n",
              "    .colab-df-convert {\n",
              "      background-color: #E8F0FE;\n",
              "      border: none;\n",
              "      border-radius: 50%;\n",
              "      cursor: pointer;\n",
              "      display: none;\n",
              "      fill: #1967D2;\n",
              "      height: 32px;\n",
              "      padding: 0 0 0 0;\n",
              "      width: 32px;\n",
              "    }\n",
              "\n",
              "    .colab-df-convert:hover {\n",
              "      background-color: #E2EBFA;\n",
              "      box-shadow: 0px 1px 2px rgba(60, 64, 67, 0.3), 0px 1px 3px 1px rgba(60, 64, 67, 0.15);\n",
              "      fill: #174EA6;\n",
              "    }\n",
              "\n",
              "    .colab-df-buttons div {\n",
              "      margin-bottom: 4px;\n",
              "    }\n",
              "\n",
              "    [theme=dark] .colab-df-convert {\n",
              "      background-color: #3B4455;\n",
              "      fill: #D2E3FC;\n",
              "    }\n",
              "\n",
              "    [theme=dark] .colab-df-convert:hover {\n",
              "      background-color: #434B5C;\n",
              "      box-shadow: 0px 1px 3px 1px rgba(0, 0, 0, 0.15);\n",
              "      filter: drop-shadow(0px 1px 2px rgba(0, 0, 0, 0.3));\n",
              "      fill: #FFFFFF;\n",
              "    }\n",
              "  </style>\n",
              "\n",
              "    <script>\n",
              "      const buttonEl =\n",
              "        document.querySelector('#df-2aeab2b6-2897-4a0f-aa5a-cbc890b5282e button.colab-df-convert');\n",
              "      buttonEl.style.display =\n",
              "        google.colab.kernel.accessAllowed ? 'block' : 'none';\n",
              "\n",
              "      async function convertToInteractive(key) {\n",
              "        const element = document.querySelector('#df-2aeab2b6-2897-4a0f-aa5a-cbc890b5282e');\n",
              "        const dataTable =\n",
              "          await google.colab.kernel.invokeFunction('convertToInteractive',\n",
              "                                                    [key], {});\n",
              "        if (!dataTable) return;\n",
              "\n",
              "        const docLinkHtml = 'Like what you see? Visit the ' +\n",
              "          '<a target=\"_blank\" href=https://colab.research.google.com/notebooks/data_table.ipynb>data table notebook</a>'\n",
              "          + ' to learn more about interactive tables.';\n",
              "        element.innerHTML = '';\n",
              "        dataTable['output_type'] = 'display_data';\n",
              "        await google.colab.output.renderOutput(dataTable, element);\n",
              "        const docLink = document.createElement('div');\n",
              "        docLink.innerHTML = docLinkHtml;\n",
              "        element.appendChild(docLink);\n",
              "      }\n",
              "    </script>\n",
              "  </div>\n",
              "\n",
              "\n",
              "<div id=\"df-f2571fe2-0436-40bd-9a1e-826bbfc793ad\">\n",
              "  <button class=\"colab-df-quickchart\" onclick=\"quickchart('df-f2571fe2-0436-40bd-9a1e-826bbfc793ad')\"\n",
              "            title=\"Suggest charts\"\n",
              "            style=\"display:none;\">\n",
              "\n",
              "<svg xmlns=\"http://www.w3.org/2000/svg\" height=\"24px\"viewBox=\"0 0 24 24\"\n",
              "     width=\"24px\">\n",
              "    <g>\n",
              "        <path d=\"M19 3H5c-1.1 0-2 .9-2 2v14c0 1.1.9 2 2 2h14c1.1 0 2-.9 2-2V5c0-1.1-.9-2-2-2zM9 17H7v-7h2v7zm4 0h-2V7h2v10zm4 0h-2v-4h2v4z\"/>\n",
              "    </g>\n",
              "</svg>\n",
              "  </button>\n",
              "\n",
              "<style>\n",
              "  .colab-df-quickchart {\n",
              "      --bg-color: #E8F0FE;\n",
              "      --fill-color: #1967D2;\n",
              "      --hover-bg-color: #E2EBFA;\n",
              "      --hover-fill-color: #174EA6;\n",
              "      --disabled-fill-color: #AAA;\n",
              "      --disabled-bg-color: #DDD;\n",
              "  }\n",
              "\n",
              "  [theme=dark] .colab-df-quickchart {\n",
              "      --bg-color: #3B4455;\n",
              "      --fill-color: #D2E3FC;\n",
              "      --hover-bg-color: #434B5C;\n",
              "      --hover-fill-color: #FFFFFF;\n",
              "      --disabled-bg-color: #3B4455;\n",
              "      --disabled-fill-color: #666;\n",
              "  }\n",
              "\n",
              "  .colab-df-quickchart {\n",
              "    background-color: var(--bg-color);\n",
              "    border: none;\n",
              "    border-radius: 50%;\n",
              "    cursor: pointer;\n",
              "    display: none;\n",
              "    fill: var(--fill-color);\n",
              "    height: 32px;\n",
              "    padding: 0;\n",
              "    width: 32px;\n",
              "  }\n",
              "\n",
              "  .colab-df-quickchart:hover {\n",
              "    background-color: var(--hover-bg-color);\n",
              "    box-shadow: 0 1px 2px rgba(60, 64, 67, 0.3), 0 1px 3px 1px rgba(60, 64, 67, 0.15);\n",
              "    fill: var(--button-hover-fill-color);\n",
              "  }\n",
              "\n",
              "  .colab-df-quickchart-complete:disabled,\n",
              "  .colab-df-quickchart-complete:disabled:hover {\n",
              "    background-color: var(--disabled-bg-color);\n",
              "    fill: var(--disabled-fill-color);\n",
              "    box-shadow: none;\n",
              "  }\n",
              "\n",
              "  .colab-df-spinner {\n",
              "    border: 2px solid var(--fill-color);\n",
              "    border-color: transparent;\n",
              "    border-bottom-color: var(--fill-color);\n",
              "    animation:\n",
              "      spin 1s steps(1) infinite;\n",
              "  }\n",
              "\n",
              "  @keyframes spin {\n",
              "    0% {\n",
              "      border-color: transparent;\n",
              "      border-bottom-color: var(--fill-color);\n",
              "      border-left-color: var(--fill-color);\n",
              "    }\n",
              "    20% {\n",
              "      border-color: transparent;\n",
              "      border-left-color: var(--fill-color);\n",
              "      border-top-color: var(--fill-color);\n",
              "    }\n",
              "    30% {\n",
              "      border-color: transparent;\n",
              "      border-left-color: var(--fill-color);\n",
              "      border-top-color: var(--fill-color);\n",
              "      border-right-color: var(--fill-color);\n",
              "    }\n",
              "    40% {\n",
              "      border-color: transparent;\n",
              "      border-right-color: var(--fill-color);\n",
              "      border-top-color: var(--fill-color);\n",
              "    }\n",
              "    60% {\n",
              "      border-color: transparent;\n",
              "      border-right-color: var(--fill-color);\n",
              "    }\n",
              "    80% {\n",
              "      border-color: transparent;\n",
              "      border-right-color: var(--fill-color);\n",
              "      border-bottom-color: var(--fill-color);\n",
              "    }\n",
              "    90% {\n",
              "      border-color: transparent;\n",
              "      border-bottom-color: var(--fill-color);\n",
              "    }\n",
              "  }\n",
              "</style>\n",
              "\n",
              "  <script>\n",
              "    async function quickchart(key) {\n",
              "      const quickchartButtonEl =\n",
              "        document.querySelector('#' + key + ' button');\n",
              "      quickchartButtonEl.disabled = true;  // To prevent multiple clicks.\n",
              "      quickchartButtonEl.classList.add('colab-df-spinner');\n",
              "      try {\n",
              "        const charts = await google.colab.kernel.invokeFunction(\n",
              "            'suggestCharts', [key], {});\n",
              "      } catch (error) {\n",
              "        console.error('Error during call to suggestCharts:', error);\n",
              "      }\n",
              "      quickchartButtonEl.classList.remove('colab-df-spinner');\n",
              "      quickchartButtonEl.classList.add('colab-df-quickchart-complete');\n",
              "    }\n",
              "    (() => {\n",
              "      let quickchartButtonEl =\n",
              "        document.querySelector('#df-f2571fe2-0436-40bd-9a1e-826bbfc793ad button');\n",
              "      quickchartButtonEl.style.display =\n",
              "        google.colab.kernel.accessAllowed ? 'block' : 'none';\n",
              "    })();\n",
              "  </script>\n",
              "</div>\n",
              "    </div>\n",
              "  </div>\n"
            ],
            "text/plain": [
              "                 rapper  \\\n",
              "40                  Nas   \n",
              "41                  Nas   \n",
              "77      CunninLynguists   \n",
              "79      CunninLynguists   \n",
              "52   Immortal Technique   \n",
              "97                Jay-z   \n",
              "122          A$AP Rocky   \n",
              "114              Eazy-E   \n",
              "127               Drake   \n",
              "53                Big L   \n",
              "\n",
              "                                                                                                                                                                                                                                                                                                                                                                                                                                                                                                                                                                                                                                                                             verse  \\\n",
              "40                                                                                                                                                                                                                                                                                                                                                                                        \"Now let me take a trip down memory lane\" \"Comin' outta Queensbridge\" \"Now let me take a trip down memory lane\" \"Comin' outta Queensbridge\" \"Now let me take a trip down memory lane\" \"Comin' outta Queensbridge\" \"Now let me take a trip down memory lane\" \"Comin' outta Queensbridge\"    \n",
              "41                                                                                                                                                                                                                                                                                                                                                                                                                                                                                                                                    \"Now let me take a trip down memory lane\" \"Comin' outta Queensbridge\" \"Now let me take a trip down memory lane\" \"Comin' outta Queensbridge\"    \n",
              "77          Before EPMD met golddiggers fuckin for VISAs I was the first to pimp Jezebel and Mona Lisa And made em famous way before Eminem could flow Even ran trizz with JFK on Marilyn Monroe...Oh  - scratching \"Blow the spot with some old school shit\" - Rah Digga on Talib Kweli's \"Down For The Count\" \"I'm so old school\"- Jay-Z off of \"Jigga That Nigga\" \"I'm old school like my dad is\"- J-Ro on De La Soul's \"My Writes\" \"True, that's old school\"- Yasiin Bey off of \"Very Well\" \"I'll bust that old school boom bap all over this map\"- Declaime on Lootpacks's \"Episodes\"  x   \"From the old school I consider loyally true\" - Big Punisher off of \"You Came Up\"    \n",
              "79   When lightin' struck Ben Frank's kite and sent currents through He was the first to electric boogaloo The wop, robot and helicopter on the pavement And in amazement, he was even Harlem-Shakin'  - scratching \"Blow the spot with some old school shit\" - Rah Digga on Talib Kweli's \"Down For The Count\" \"I'm so old school\"- Jay-Z off of \"Jigga That Nigga\" \"I'm old school like my dad is\"- J-Ro on De La Soul's \"My Writes\" \"True, that's old school\"- Mos Def on BlackStarr's \"Very Well\" \"I'll bust that old school boom bap all over this map\"- Declaime on Lootpacks's \"Episodes\"  x   \"From the old school I consider loyally true\"- Big Pun off of \"You Came Up\"    \n",
              "52                                                                                And I drop it so heavy, it leaves the world unbalanced Exterminate the spiritual force of all that challenge I'm the lyrical apocalypse that crumbles the granite Replacing you as the dominant species on the planet \"Rest in Peace\" \"Here   s another warrior's song  rep this life to the fullest\" \"Rest in Peace\" \"Mothafucka, say yo    prayers!\" \"For brothers who died from black-on-black violence\" \"Rest in Peace\" \"You ain   t payin    respect when you    spose to\" \"Rep this life to the fullest\" \"Rest in Peace\" \"This ain   t for y   all, this a toast to them\" \"Rest in Peace\"    \n",
              "97                                                                                                                                                                                                                                                                                                                            \"Dear God     I wonder, can you save me?\" \"Illuminati want my mind, soul and my body\" \"Dear God     I wonder, can you save me?\" \"Secret society, tryna keep they eye on me\" \"Dear God     I wonder, can you save me?\" \"Illuminati want my mind, soul and my body\" \"Dear God     I wonder, can you save me?\" \"I can't die, I can't die, I can't die\"    \n",
              "122                                                                                                                                                                                                                                                                                \"I gotta find peace of mind\"  ohh, do do, do do, oh  \"I gotta find peace of mind\"  oh, oh  \"I gotta find peace of mind\"  oh, oh  \"I gotta find peace of mind\"  you make my heart desire pure  \"I gotta find peace of mind\"  you make my heart desire pure  I just need peace of mind for my purity \"You make my heart desire pure, just tell me\" \"You make my heart desire pure, just tell me\"    \n",
              "114                                                                                                                                                                                                                                                                                                                                                                                                                                                                                                                                                                                                                               \"But mister dopeman, dopeman, can I get a hit?\"    \n",
              "127                                                                                                                                                                                                                                                                                                                                                                                                                                                                                                                       Cover Artwork \"Fake Love,\" \"Sneakin',\" and \"Two Birds, One Stone\"  Yeah We had the type of nights where mornin' comes too soon And nothin' was the same    \n",
              "53                                                                                                                                                                                                                                                                                                                                                                                                                                                                                        \"What y'all bout to witness\" \"Big L, Big L, Big L\" \"My-my-my-my, my whole crew wild\" \"The game is called rap\" \"Other MC's ain't got a chance at all\" \"My-whole, my, my whole crew wild\"    \n",
              "\n",
              "                                                                                                                                                                                                                                                                                                                                                                                                                                                                                                             verse_preprocessed  \\\n",
              "40                                                                                                                                                                                                                                                                              \"now let take trip memory lane\" \"comin' outta queensbridge\" \"now let take trip memory lane\" \"comin' outta queensbridge\" \"now let take trip memory lane\" \"comin' outta queensbridge\" \"now let take trip memory lane\" \"comin' outta queensbridge\"   \n",
              "41                                                                                                                                                                                                                                                                                                                                                                                                      \"now let take trip memory lane\" \"comin' outta queensbridge\" \"now let take trip memory lane\" \"comin' outta queensbridge\"   \n",
              "77   epmd met golddiggers fuckin visas first pimp jezebel mona lisa made em famous way eminem could flow even ran trizz jfk marilyn monroe...oh - scratching \"blow spot old school shit\" - rah digga talib kweli's \"down count\" \"i'm old school\"- jay-z \"jigga nigga\" \"i'm old school like dad is\"- j-ro de la soul's \"my writes\" \"true, that's old school\"- yasiin bey \"very well\" \"i'll bust old school boom bap map\"- declaime lootpacks's \"episodes\" x \"from old school consider loyally true\" - big punisher \"you came up\"   \n",
              "79     lightin' struck ben frank's kite sent currents first electric boogaloo wop, robot helicopter pavement amazement, even harlem-shakin' - scratching \"blow spot old school shit\" - rah digga talib kweli's \"down count\" \"i'm old school\"- jay-z \"jigga nigga\" \"i'm old school like dad is\"- j-ro de la soul's \"my writes\" \"true, that's old school\"- mos def blackstarr's \"very well\" \"i'll bust old school boom bap map\"- declaime lootpacks's \"episodes\" x \"from old school consider loyally true\"- big pun \"you came up\"   \n",
              "52                                                                                                         drop heavy, leaves world unbalanced exterminate spiritual force challenge i'm lyrical apocalypse crumbles granite replacing dominant species planet \"rest peace\" \"here another warrior's song rep life fullest\" \"rest peace\" \"mothafucka, say yo prayers!\" \"for brothers died black-on-black violence\" \"rest peace\" \"you payin respect spose to\" \"rep life fullest\" \"rest peace\" \"this all, toast them\" \"rest peace\"   \n",
              "97                                                                                                                                                                                                                                                                  \"dear god wonder, save me?\" \"illuminati want mind, soul body\" \"dear god wonder, save me?\" \"secret society, tryna keep eye me\" \"dear god wonder, save me?\" \"illuminati want mind, soul body\" \"dear god wonder, save me?\" \"i can't die, can't die, can't die\"   \n",
              "122                                                                                                                                                                                                            \"i gotta find peace mind\" ohh, do, do, oh \"i gotta find peace mind\" oh, oh \"i gotta find peace mind\" oh, oh \"i gotta find peace mind\" make heart desire pure \"i gotta find peace mind\" make heart desire pure need peace mind purity \"you make heart desire pure, tell me\" \"you make heart desire pure, tell me\"   \n",
              "114                                                                                                                                                                                                                                                                                                                                                                                                                                                                                     \"but mister dopeman, dopeman, get hit?\"   \n",
              "127                                                                                                                                                                                                                                                                                                                                                                                                                   cover artwork \"fake love,\" \"sneakin',\" \"two birds, one stone\" yeah type nights mornin' comes soon nothin'   \n",
              "53                                                                                                                                                                                                                                                                                                                                                       \"what y'all bout witness\" \"big l, big l, big l\" \"my-my-my-my, whole crew wild\" \"the game called rap\" \"other mc's ain't got chance all\" \"my-whole, my, whole crew wild\"   \n",
              "\n",
              "     num_misogyny  cos_similarity  \n",
              "40          False        0.797234  \n",
              "41          False        0.796095  \n",
              "77          False        0.782403  \n",
              "79          False        0.779431  \n",
              "52          False        0.775299  \n",
              "97          False        0.774047  \n",
              "122         False        0.771617  \n",
              "114         False        0.758521  \n",
              "127         False        0.727678  \n",
              "53          False        0.713417  "
            ]
          },
          "execution_count": 81,
          "metadata": {},
          "output_type": "execute_result"
        }
      ],
      "source": [
        "df_sort_above60 = df.sort_values(by = 'cos_similarity', ascending = False)\n",
        "df_sort_above60 = df_sort_above60[df_sort_above60['cos_similarity']>0.6]\n",
        "df_sort_above60.head(10)"
      ]
    },
    {
      "cell_type": "code",
      "execution_count": null,
      "metadata": {
        "colab": {
          "base_uri": "https://localhost:8080/"
        },
        "id": "1rFJMzU87p66",
        "outputId": "444e40a7-657c-4976-c3f6-c348c38847fe"
      },
      "outputs": [
        {
          "data": {
            "text/plain": [
              "(72, 5)"
            ]
          },
          "execution_count": 82,
          "metadata": {},
          "output_type": "execute_result"
        }
      ],
      "source": [
        "df_sort_above60.shape"
      ]
    },
    {
      "cell_type": "code",
      "execution_count": null,
      "metadata": {
        "colab": {
          "base_uri": "https://localhost:8080/",
          "height": 833
        },
        "id": "3PquefLrgEvt",
        "outputId": "44ab700b-d4e1-45e5-9023-5a756656778a"
      },
      "outputs": [
        {
          "data": {
            "text/html": [
              "\n",
              "  <div id=\"df-6c5ced03-38af-4fda-88ee-c74a357b4e37\" class=\"colab-df-container\">\n",
              "    <div>\n",
              "<style scoped>\n",
              "    .dataframe tbody tr th:only-of-type {\n",
              "        vertical-align: middle;\n",
              "    }\n",
              "\n",
              "    .dataframe tbody tr th {\n",
              "        vertical-align: top;\n",
              "    }\n",
              "\n",
              "    .dataframe thead th {\n",
              "        text-align: right;\n",
              "    }\n",
              "</style>\n",
              "<table border=\"1\" class=\"dataframe\">\n",
              "  <thead>\n",
              "    <tr style=\"text-align: right;\">\n",
              "      <th></th>\n",
              "      <th>rapper</th>\n",
              "      <th>Count</th>\n",
              "    </tr>\n",
              "  </thead>\n",
              "  <tbody>\n",
              "    <tr>\n",
              "      <th>8</th>\n",
              "      <td>Eazy-E</td>\n",
              "      <td>6</td>\n",
              "    </tr>\n",
              "    <tr>\n",
              "      <th>10</th>\n",
              "      <td>Ice Cube</td>\n",
              "      <td>6</td>\n",
              "    </tr>\n",
              "    <tr>\n",
              "      <th>12</th>\n",
              "      <td>Jay-z</td>\n",
              "      <td>5</td>\n",
              "    </tr>\n",
              "    <tr>\n",
              "      <th>19</th>\n",
              "      <td>Nas</td>\n",
              "      <td>5</td>\n",
              "    </tr>\n",
              "    <tr>\n",
              "      <th>14</th>\n",
              "      <td>Kanye West</td>\n",
              "      <td>5</td>\n",
              "    </tr>\n",
              "    <tr>\n",
              "      <th>6</th>\n",
              "      <td>CunninLynguists</td>\n",
              "      <td>5</td>\n",
              "    </tr>\n",
              "    <tr>\n",
              "      <th>15</th>\n",
              "      <td>Kendrick Lamar</td>\n",
              "      <td>4</td>\n",
              "    </tr>\n",
              "    <tr>\n",
              "      <th>0</th>\n",
              "      <td>A$AP Rocky</td>\n",
              "      <td>4</td>\n",
              "    </tr>\n",
              "    <tr>\n",
              "      <th>3</th>\n",
              "      <td>Big L</td>\n",
              "      <td>4</td>\n",
              "    </tr>\n",
              "    <tr>\n",
              "      <th>7</th>\n",
              "      <td>Drake</td>\n",
              "      <td>3</td>\n",
              "    </tr>\n",
              "    <tr>\n",
              "      <th>5</th>\n",
              "      <td>Common</td>\n",
              "      <td>3</td>\n",
              "    </tr>\n",
              "    <tr>\n",
              "      <th>18</th>\n",
              "      <td>Lupe Fiasco</td>\n",
              "      <td>3</td>\n",
              "    </tr>\n",
              "    <tr>\n",
              "      <th>21</th>\n",
              "      <td>Royce Da 59</td>\n",
              "      <td>2</td>\n",
              "    </tr>\n",
              "    <tr>\n",
              "      <th>9</th>\n",
              "      <td>Eminem</td>\n",
              "      <td>2</td>\n",
              "    </tr>\n",
              "    <tr>\n",
              "      <th>16</th>\n",
              "      <td>Lil Wayne</td>\n",
              "      <td>2</td>\n",
              "    </tr>\n",
              "    <tr>\n",
              "      <th>4</th>\n",
              "      <td>Chance The Rapper</td>\n",
              "      <td>2</td>\n",
              "    </tr>\n",
              "    <tr>\n",
              "      <th>11</th>\n",
              "      <td>Immortal Technique</td>\n",
              "      <td>2</td>\n",
              "    </tr>\n",
              "    <tr>\n",
              "      <th>24</th>\n",
              "      <td>Tyler The Creator</td>\n",
              "      <td>2</td>\n",
              "    </tr>\n",
              "    <tr>\n",
              "      <th>13</th>\n",
              "      <td>Joey Bada</td>\n",
              "      <td>1</td>\n",
              "    </tr>\n",
              "    <tr>\n",
              "      <th>17</th>\n",
              "      <td>Logic</td>\n",
              "      <td>1</td>\n",
              "    </tr>\n",
              "    <tr>\n",
              "      <th>1</th>\n",
              "      <td>Action Bronson</td>\n",
              "      <td>1</td>\n",
              "    </tr>\n",
              "    <tr>\n",
              "      <th>2</th>\n",
              "      <td>Bas</td>\n",
              "      <td>1</td>\n",
              "    </tr>\n",
              "    <tr>\n",
              "      <th>20</th>\n",
              "      <td>Pusha-T</td>\n",
              "      <td>1</td>\n",
              "    </tr>\n",
              "    <tr>\n",
              "      <th>22</th>\n",
              "      <td>Scarface</td>\n",
              "      <td>1</td>\n",
              "    </tr>\n",
              "    <tr>\n",
              "      <th>23</th>\n",
              "      <td>Talib Kweli</td>\n",
              "      <td>1</td>\n",
              "    </tr>\n",
              "  </tbody>\n",
              "</table>\n",
              "</div>\n",
              "    <div class=\"colab-df-buttons\">\n",
              "\n",
              "  <div class=\"colab-df-container\">\n",
              "    <button class=\"colab-df-convert\" onclick=\"convertToInteractive('df-6c5ced03-38af-4fda-88ee-c74a357b4e37')\"\n",
              "            title=\"Convert this dataframe to an interactive table.\"\n",
              "            style=\"display:none;\">\n",
              "\n",
              "  <svg xmlns=\"http://www.w3.org/2000/svg\" height=\"24px\" viewBox=\"0 -960 960 960\">\n",
              "    <path d=\"M120-120v-720h720v720H120Zm60-500h600v-160H180v160Zm220 220h160v-160H400v160Zm0 220h160v-160H400v160ZM180-400h160v-160H180v160Zm440 0h160v-160H620v160ZM180-180h160v-160H180v160Zm440 0h160v-160H620v160Z\"/>\n",
              "  </svg>\n",
              "    </button>\n",
              "\n",
              "  <style>\n",
              "    .colab-df-container {\n",
              "      display:flex;\n",
              "      gap: 12px;\n",
              "    }\n",
              "\n",
              "    .colab-df-convert {\n",
              "      background-color: #E8F0FE;\n",
              "      border: none;\n",
              "      border-radius: 50%;\n",
              "      cursor: pointer;\n",
              "      display: none;\n",
              "      fill: #1967D2;\n",
              "      height: 32px;\n",
              "      padding: 0 0 0 0;\n",
              "      width: 32px;\n",
              "    }\n",
              "\n",
              "    .colab-df-convert:hover {\n",
              "      background-color: #E2EBFA;\n",
              "      box-shadow: 0px 1px 2px rgba(60, 64, 67, 0.3), 0px 1px 3px 1px rgba(60, 64, 67, 0.15);\n",
              "      fill: #174EA6;\n",
              "    }\n",
              "\n",
              "    .colab-df-buttons div {\n",
              "      margin-bottom: 4px;\n",
              "    }\n",
              "\n",
              "    [theme=dark] .colab-df-convert {\n",
              "      background-color: #3B4455;\n",
              "      fill: #D2E3FC;\n",
              "    }\n",
              "\n",
              "    [theme=dark] .colab-df-convert:hover {\n",
              "      background-color: #434B5C;\n",
              "      box-shadow: 0px 1px 3px 1px rgba(0, 0, 0, 0.15);\n",
              "      filter: drop-shadow(0px 1px 2px rgba(0, 0, 0, 0.3));\n",
              "      fill: #FFFFFF;\n",
              "    }\n",
              "  </style>\n",
              "\n",
              "    <script>\n",
              "      const buttonEl =\n",
              "        document.querySelector('#df-6c5ced03-38af-4fda-88ee-c74a357b4e37 button.colab-df-convert');\n",
              "      buttonEl.style.display =\n",
              "        google.colab.kernel.accessAllowed ? 'block' : 'none';\n",
              "\n",
              "      async function convertToInteractive(key) {\n",
              "        const element = document.querySelector('#df-6c5ced03-38af-4fda-88ee-c74a357b4e37');\n",
              "        const dataTable =\n",
              "          await google.colab.kernel.invokeFunction('convertToInteractive',\n",
              "                                                    [key], {});\n",
              "        if (!dataTable) return;\n",
              "\n",
              "        const docLinkHtml = 'Like what you see? Visit the ' +\n",
              "          '<a target=\"_blank\" href=https://colab.research.google.com/notebooks/data_table.ipynb>data table notebook</a>'\n",
              "          + ' to learn more about interactive tables.';\n",
              "        element.innerHTML = '';\n",
              "        dataTable['output_type'] = 'display_data';\n",
              "        await google.colab.output.renderOutput(dataTable, element);\n",
              "        const docLink = document.createElement('div');\n",
              "        docLink.innerHTML = docLinkHtml;\n",
              "        element.appendChild(docLink);\n",
              "      }\n",
              "    </script>\n",
              "  </div>\n",
              "\n",
              "\n",
              "<div id=\"df-9d6f6731-6bb2-401a-a1e5-391d516150d5\">\n",
              "  <button class=\"colab-df-quickchart\" onclick=\"quickchart('df-9d6f6731-6bb2-401a-a1e5-391d516150d5')\"\n",
              "            title=\"Suggest charts\"\n",
              "            style=\"display:none;\">\n",
              "\n",
              "<svg xmlns=\"http://www.w3.org/2000/svg\" height=\"24px\"viewBox=\"0 0 24 24\"\n",
              "     width=\"24px\">\n",
              "    <g>\n",
              "        <path d=\"M19 3H5c-1.1 0-2 .9-2 2v14c0 1.1.9 2 2 2h14c1.1 0 2-.9 2-2V5c0-1.1-.9-2-2-2zM9 17H7v-7h2v7zm4 0h-2V7h2v10zm4 0h-2v-4h2v4z\"/>\n",
              "    </g>\n",
              "</svg>\n",
              "  </button>\n",
              "\n",
              "<style>\n",
              "  .colab-df-quickchart {\n",
              "      --bg-color: #E8F0FE;\n",
              "      --fill-color: #1967D2;\n",
              "      --hover-bg-color: #E2EBFA;\n",
              "      --hover-fill-color: #174EA6;\n",
              "      --disabled-fill-color: #AAA;\n",
              "      --disabled-bg-color: #DDD;\n",
              "  }\n",
              "\n",
              "  [theme=dark] .colab-df-quickchart {\n",
              "      --bg-color: #3B4455;\n",
              "      --fill-color: #D2E3FC;\n",
              "      --hover-bg-color: #434B5C;\n",
              "      --hover-fill-color: #FFFFFF;\n",
              "      --disabled-bg-color: #3B4455;\n",
              "      --disabled-fill-color: #666;\n",
              "  }\n",
              "\n",
              "  .colab-df-quickchart {\n",
              "    background-color: var(--bg-color);\n",
              "    border: none;\n",
              "    border-radius: 50%;\n",
              "    cursor: pointer;\n",
              "    display: none;\n",
              "    fill: var(--fill-color);\n",
              "    height: 32px;\n",
              "    padding: 0;\n",
              "    width: 32px;\n",
              "  }\n",
              "\n",
              "  .colab-df-quickchart:hover {\n",
              "    background-color: var(--hover-bg-color);\n",
              "    box-shadow: 0 1px 2px rgba(60, 64, 67, 0.3), 0 1px 3px 1px rgba(60, 64, 67, 0.15);\n",
              "    fill: var(--button-hover-fill-color);\n",
              "  }\n",
              "\n",
              "  .colab-df-quickchart-complete:disabled,\n",
              "  .colab-df-quickchart-complete:disabled:hover {\n",
              "    background-color: var(--disabled-bg-color);\n",
              "    fill: var(--disabled-fill-color);\n",
              "    box-shadow: none;\n",
              "  }\n",
              "\n",
              "  .colab-df-spinner {\n",
              "    border: 2px solid var(--fill-color);\n",
              "    border-color: transparent;\n",
              "    border-bottom-color: var(--fill-color);\n",
              "    animation:\n",
              "      spin 1s steps(1) infinite;\n",
              "  }\n",
              "\n",
              "  @keyframes spin {\n",
              "    0% {\n",
              "      border-color: transparent;\n",
              "      border-bottom-color: var(--fill-color);\n",
              "      border-left-color: var(--fill-color);\n",
              "    }\n",
              "    20% {\n",
              "      border-color: transparent;\n",
              "      border-left-color: var(--fill-color);\n",
              "      border-top-color: var(--fill-color);\n",
              "    }\n",
              "    30% {\n",
              "      border-color: transparent;\n",
              "      border-left-color: var(--fill-color);\n",
              "      border-top-color: var(--fill-color);\n",
              "      border-right-color: var(--fill-color);\n",
              "    }\n",
              "    40% {\n",
              "      border-color: transparent;\n",
              "      border-right-color: var(--fill-color);\n",
              "      border-top-color: var(--fill-color);\n",
              "    }\n",
              "    60% {\n",
              "      border-color: transparent;\n",
              "      border-right-color: var(--fill-color);\n",
              "    }\n",
              "    80% {\n",
              "      border-color: transparent;\n",
              "      border-right-color: var(--fill-color);\n",
              "      border-bottom-color: var(--fill-color);\n",
              "    }\n",
              "    90% {\n",
              "      border-color: transparent;\n",
              "      border-bottom-color: var(--fill-color);\n",
              "    }\n",
              "  }\n",
              "</style>\n",
              "\n",
              "  <script>\n",
              "    async function quickchart(key) {\n",
              "      const quickchartButtonEl =\n",
              "        document.querySelector('#' + key + ' button');\n",
              "      quickchartButtonEl.disabled = true;  // To prevent multiple clicks.\n",
              "      quickchartButtonEl.classList.add('colab-df-spinner');\n",
              "      try {\n",
              "        const charts = await google.colab.kernel.invokeFunction(\n",
              "            'suggestCharts', [key], {});\n",
              "      } catch (error) {\n",
              "        console.error('Error during call to suggestCharts:', error);\n",
              "      }\n",
              "      quickchartButtonEl.classList.remove('colab-df-spinner');\n",
              "      quickchartButtonEl.classList.add('colab-df-quickchart-complete');\n",
              "    }\n",
              "    (() => {\n",
              "      let quickchartButtonEl =\n",
              "        document.querySelector('#df-9d6f6731-6bb2-401a-a1e5-391d516150d5 button');\n",
              "      quickchartButtonEl.style.display =\n",
              "        google.colab.kernel.accessAllowed ? 'block' : 'none';\n",
              "    })();\n",
              "  </script>\n",
              "</div>\n",
              "    </div>\n",
              "  </div>\n"
            ],
            "text/plain": [
              "                rapper  Count\n",
              "8               Eazy-E      6\n",
              "10            Ice Cube      6\n",
              "12               Jay-z      5\n",
              "19                 Nas      5\n",
              "14          Kanye West      5\n",
              "6      CunninLynguists      5\n",
              "15      Kendrick Lamar      4\n",
              "0           A$AP Rocky      4\n",
              "3                Big L      4\n",
              "7                Drake      3\n",
              "5               Common      3\n",
              "18         Lupe Fiasco      3\n",
              "21         Royce Da 59      2\n",
              "9               Eminem      2\n",
              "16           Lil Wayne      2\n",
              "4    Chance The Rapper      2\n",
              "11  Immortal Technique      2\n",
              "24   Tyler The Creator      2\n",
              "13           Joey Bada      1\n",
              "17               Logic      1\n",
              "1       Action Bronson      1\n",
              "2                  Bas      1\n",
              "20             Pusha-T      1\n",
              "22            Scarface      1\n",
              "23         Talib Kweli      1"
            ]
          },
          "execution_count": 83,
          "metadata": {},
          "output_type": "execute_result"
        }
      ],
      "source": [
        "df_sort_above60_rapper = df_sort_above60.groupby('rapper').size().reset_index(name='Count')\n",
        "df_sort_above60_rapper.sort_values(by = 'Count', ascending = False)\n"
      ]
    },
    {
      "cell_type": "markdown",
      "metadata": {
        "id": "W9LxcsUhgWpz"
      },
      "source": [
        "Misogynistic Artists: Nas and CunninLynguists (most extreme)\n",
        "\n",
        "Misogynistic Artists: Eazy-E, Ice Cube, Jay-z, Nas, Kanye West, CunninLynguists (most lyrics being misogynistic)"
      ]
    },
    {
      "cell_type": "code",
      "execution_count": null,
      "metadata": {
        "id": "rh0dsq_qfV-g"
      },
      "outputs": [],
      "source": [
        "df_nonrap_sort = nonrap_df.sort_values(by = 'cos_similarity', ascending = False)\n",
        "df_nonrap_sort_below30 = df_nonrap_sort[df_nonrap_sort['cos_similarity']<0.3]\n",
        "df_nonrap_sort_above30 = df_nonrap_sort[df_nonrap_sort['cos_similarity']>0.3]"
      ]
    },
    {
      "cell_type": "code",
      "execution_count": null,
      "metadata": {
        "colab": {
          "base_uri": "https://localhost:8080/",
          "height": 423
        },
        "id": "kgjcGzaFEy5z",
        "outputId": "6ddf0e06-5d60-42bb-8822-36febbd95471"
      },
      "outputs": [
        {
          "data": {
            "text/html": [
              "\n",
              "  <div id=\"df-607a5617-30bd-49fb-96eb-3d2d4d407d53\" class=\"colab-df-container\">\n",
              "    <div>\n",
              "<style scoped>\n",
              "    .dataframe tbody tr th:only-of-type {\n",
              "        vertical-align: middle;\n",
              "    }\n",
              "\n",
              "    .dataframe tbody tr th {\n",
              "        vertical-align: top;\n",
              "    }\n",
              "\n",
              "    .dataframe thead th {\n",
              "        text-align: right;\n",
              "    }\n",
              "</style>\n",
              "<table border=\"1\" class=\"dataframe\">\n",
              "  <thead>\n",
              "    <tr style=\"text-align: right;\">\n",
              "      <th></th>\n",
              "      <th>Genres</th>\n",
              "      <th>Count</th>\n",
              "    </tr>\n",
              "  </thead>\n",
              "  <tbody>\n",
              "    <tr>\n",
              "      <th>39</th>\n",
              "      <td>Country</td>\n",
              "      <td>169</td>\n",
              "    </tr>\n",
              "    <tr>\n",
              "      <th>360</th>\n",
              "      <td>Pop; R&amp;B; Black Music</td>\n",
              "      <td>115</td>\n",
              "    </tr>\n",
              "    <tr>\n",
              "      <th>218</th>\n",
              "      <td>Indie</td>\n",
              "      <td>75</td>\n",
              "    </tr>\n",
              "    <tr>\n",
              "      <th>66</th>\n",
              "      <td>Dance; Pop; Pop/Rock</td>\n",
              "      <td>47</td>\n",
              "    </tr>\n",
              "    <tr>\n",
              "      <th>533</th>\n",
              "      <td>Rockabilly; Romântico; Rock</td>\n",
              "      <td>46</td>\n",
              "    </tr>\n",
              "    <tr>\n",
              "      <th>...</th>\n",
              "      <td>...</td>\n",
              "      <td>...</td>\n",
              "    </tr>\n",
              "    <tr>\n",
              "      <th>255</th>\n",
              "      <td>Industrial; Gótico; Heavy Metal</td>\n",
              "      <td>1</td>\n",
              "    </tr>\n",
              "    <tr>\n",
              "      <th>252</th>\n",
              "      <td>Indie; Surf Music; Rock</td>\n",
              "      <td>1</td>\n",
              "    </tr>\n",
              "    <tr>\n",
              "      <th>244</th>\n",
              "      <td>Indie; Rock; Country</td>\n",
              "      <td>1</td>\n",
              "    </tr>\n",
              "    <tr>\n",
              "      <th>242</th>\n",
              "      <td>Indie; Rock Alternativo; Grunge</td>\n",
              "      <td>1</td>\n",
              "    </tr>\n",
              "    <tr>\n",
              "      <th>302</th>\n",
              "      <td>Pop/Punk; Pop/Rock; Rock Alternativo</td>\n",
              "      <td>1</td>\n",
              "    </tr>\n",
              "  </tbody>\n",
              "</table>\n",
              "<p>604 rows × 2 columns</p>\n",
              "</div>\n",
              "    <div class=\"colab-df-buttons\">\n",
              "\n",
              "  <div class=\"colab-df-container\">\n",
              "    <button class=\"colab-df-convert\" onclick=\"convertToInteractive('df-607a5617-30bd-49fb-96eb-3d2d4d407d53')\"\n",
              "            title=\"Convert this dataframe to an interactive table.\"\n",
              "            style=\"display:none;\">\n",
              "\n",
              "  <svg xmlns=\"http://www.w3.org/2000/svg\" height=\"24px\" viewBox=\"0 -960 960 960\">\n",
              "    <path d=\"M120-120v-720h720v720H120Zm60-500h600v-160H180v160Zm220 220h160v-160H400v160Zm0 220h160v-160H400v160ZM180-400h160v-160H180v160Zm440 0h160v-160H620v160ZM180-180h160v-160H180v160Zm440 0h160v-160H620v160Z\"/>\n",
              "  </svg>\n",
              "    </button>\n",
              "\n",
              "  <style>\n",
              "    .colab-df-container {\n",
              "      display:flex;\n",
              "      gap: 12px;\n",
              "    }\n",
              "\n",
              "    .colab-df-convert {\n",
              "      background-color: #E8F0FE;\n",
              "      border: none;\n",
              "      border-radius: 50%;\n",
              "      cursor: pointer;\n",
              "      display: none;\n",
              "      fill: #1967D2;\n",
              "      height: 32px;\n",
              "      padding: 0 0 0 0;\n",
              "      width: 32px;\n",
              "    }\n",
              "\n",
              "    .colab-df-convert:hover {\n",
              "      background-color: #E2EBFA;\n",
              "      box-shadow: 0px 1px 2px rgba(60, 64, 67, 0.3), 0px 1px 3px 1px rgba(60, 64, 67, 0.15);\n",
              "      fill: #174EA6;\n",
              "    }\n",
              "\n",
              "    .colab-df-buttons div {\n",
              "      margin-bottom: 4px;\n",
              "    }\n",
              "\n",
              "    [theme=dark] .colab-df-convert {\n",
              "      background-color: #3B4455;\n",
              "      fill: #D2E3FC;\n",
              "    }\n",
              "\n",
              "    [theme=dark] .colab-df-convert:hover {\n",
              "      background-color: #434B5C;\n",
              "      box-shadow: 0px 1px 3px 1px rgba(0, 0, 0, 0.15);\n",
              "      filter: drop-shadow(0px 1px 2px rgba(0, 0, 0, 0.3));\n",
              "      fill: #FFFFFF;\n",
              "    }\n",
              "  </style>\n",
              "\n",
              "    <script>\n",
              "      const buttonEl =\n",
              "        document.querySelector('#df-607a5617-30bd-49fb-96eb-3d2d4d407d53 button.colab-df-convert');\n",
              "      buttonEl.style.display =\n",
              "        google.colab.kernel.accessAllowed ? 'block' : 'none';\n",
              "\n",
              "      async function convertToInteractive(key) {\n",
              "        const element = document.querySelector('#df-607a5617-30bd-49fb-96eb-3d2d4d407d53');\n",
              "        const dataTable =\n",
              "          await google.colab.kernel.invokeFunction('convertToInteractive',\n",
              "                                                    [key], {});\n",
              "        if (!dataTable) return;\n",
              "\n",
              "        const docLinkHtml = 'Like what you see? Visit the ' +\n",
              "          '<a target=\"_blank\" href=https://colab.research.google.com/notebooks/data_table.ipynb>data table notebook</a>'\n",
              "          + ' to learn more about interactive tables.';\n",
              "        element.innerHTML = '';\n",
              "        dataTable['output_type'] = 'display_data';\n",
              "        await google.colab.output.renderOutput(dataTable, element);\n",
              "        const docLink = document.createElement('div');\n",
              "        docLink.innerHTML = docLinkHtml;\n",
              "        element.appendChild(docLink);\n",
              "      }\n",
              "    </script>\n",
              "  </div>\n",
              "\n",
              "\n",
              "<div id=\"df-d14b8454-030c-46ba-a7b4-092dbd4452ba\">\n",
              "  <button class=\"colab-df-quickchart\" onclick=\"quickchart('df-d14b8454-030c-46ba-a7b4-092dbd4452ba')\"\n",
              "            title=\"Suggest charts\"\n",
              "            style=\"display:none;\">\n",
              "\n",
              "<svg xmlns=\"http://www.w3.org/2000/svg\" height=\"24px\"viewBox=\"0 0 24 24\"\n",
              "     width=\"24px\">\n",
              "    <g>\n",
              "        <path d=\"M19 3H5c-1.1 0-2 .9-2 2v14c0 1.1.9 2 2 2h14c1.1 0 2-.9 2-2V5c0-1.1-.9-2-2-2zM9 17H7v-7h2v7zm4 0h-2V7h2v10zm4 0h-2v-4h2v4z\"/>\n",
              "    </g>\n",
              "</svg>\n",
              "  </button>\n",
              "\n",
              "<style>\n",
              "  .colab-df-quickchart {\n",
              "      --bg-color: #E8F0FE;\n",
              "      --fill-color: #1967D2;\n",
              "      --hover-bg-color: #E2EBFA;\n",
              "      --hover-fill-color: #174EA6;\n",
              "      --disabled-fill-color: #AAA;\n",
              "      --disabled-bg-color: #DDD;\n",
              "  }\n",
              "\n",
              "  [theme=dark] .colab-df-quickchart {\n",
              "      --bg-color: #3B4455;\n",
              "      --fill-color: #D2E3FC;\n",
              "      --hover-bg-color: #434B5C;\n",
              "      --hover-fill-color: #FFFFFF;\n",
              "      --disabled-bg-color: #3B4455;\n",
              "      --disabled-fill-color: #666;\n",
              "  }\n",
              "\n",
              "  .colab-df-quickchart {\n",
              "    background-color: var(--bg-color);\n",
              "    border: none;\n",
              "    border-radius: 50%;\n",
              "    cursor: pointer;\n",
              "    display: none;\n",
              "    fill: var(--fill-color);\n",
              "    height: 32px;\n",
              "    padding: 0;\n",
              "    width: 32px;\n",
              "  }\n",
              "\n",
              "  .colab-df-quickchart:hover {\n",
              "    background-color: var(--hover-bg-color);\n",
              "    box-shadow: 0 1px 2px rgba(60, 64, 67, 0.3), 0 1px 3px 1px rgba(60, 64, 67, 0.15);\n",
              "    fill: var(--button-hover-fill-color);\n",
              "  }\n",
              "\n",
              "  .colab-df-quickchart-complete:disabled,\n",
              "  .colab-df-quickchart-complete:disabled:hover {\n",
              "    background-color: var(--disabled-bg-color);\n",
              "    fill: var(--disabled-fill-color);\n",
              "    box-shadow: none;\n",
              "  }\n",
              "\n",
              "  .colab-df-spinner {\n",
              "    border: 2px solid var(--fill-color);\n",
              "    border-color: transparent;\n",
              "    border-bottom-color: var(--fill-color);\n",
              "    animation:\n",
              "      spin 1s steps(1) infinite;\n",
              "  }\n",
              "\n",
              "  @keyframes spin {\n",
              "    0% {\n",
              "      border-color: transparent;\n",
              "      border-bottom-color: var(--fill-color);\n",
              "      border-left-color: var(--fill-color);\n",
              "    }\n",
              "    20% {\n",
              "      border-color: transparent;\n",
              "      border-left-color: var(--fill-color);\n",
              "      border-top-color: var(--fill-color);\n",
              "    }\n",
              "    30% {\n",
              "      border-color: transparent;\n",
              "      border-left-color: var(--fill-color);\n",
              "      border-top-color: var(--fill-color);\n",
              "      border-right-color: var(--fill-color);\n",
              "    }\n",
              "    40% {\n",
              "      border-color: transparent;\n",
              "      border-right-color: var(--fill-color);\n",
              "      border-top-color: var(--fill-color);\n",
              "    }\n",
              "    60% {\n",
              "      border-color: transparent;\n",
              "      border-right-color: var(--fill-color);\n",
              "    }\n",
              "    80% {\n",
              "      border-color: transparent;\n",
              "      border-right-color: var(--fill-color);\n",
              "      border-bottom-color: var(--fill-color);\n",
              "    }\n",
              "    90% {\n",
              "      border-color: transparent;\n",
              "      border-bottom-color: var(--fill-color);\n",
              "    }\n",
              "  }\n",
              "</style>\n",
              "\n",
              "  <script>\n",
              "    async function quickchart(key) {\n",
              "      const quickchartButtonEl =\n",
              "        document.querySelector('#' + key + ' button');\n",
              "      quickchartButtonEl.disabled = true;  // To prevent multiple clicks.\n",
              "      quickchartButtonEl.classList.add('colab-df-spinner');\n",
              "      try {\n",
              "        const charts = await google.colab.kernel.invokeFunction(\n",
              "            'suggestCharts', [key], {});\n",
              "      } catch (error) {\n",
              "        console.error('Error during call to suggestCharts:', error);\n",
              "      }\n",
              "      quickchartButtonEl.classList.remove('colab-df-spinner');\n",
              "      quickchartButtonEl.classList.add('colab-df-quickchart-complete');\n",
              "    }\n",
              "    (() => {\n",
              "      let quickchartButtonEl =\n",
              "        document.querySelector('#df-d14b8454-030c-46ba-a7b4-092dbd4452ba button');\n",
              "      quickchartButtonEl.style.display =\n",
              "        google.colab.kernel.accessAllowed ? 'block' : 'none';\n",
              "    })();\n",
              "  </script>\n",
              "</div>\n",
              "    </div>\n",
              "  </div>\n"
            ],
            "text/plain": [
              "                                   Genres  Count\n",
              "39                                Country    169\n",
              "360                 Pop; R&B; Black Music    115\n",
              "218                                 Indie     75\n",
              "66                   Dance; Pop; Pop/Rock     47\n",
              "533           Rockabilly; Romântico; Rock     46\n",
              "..                                    ...    ...\n",
              "255       Industrial; Gótico; Heavy Metal      1\n",
              "252               Indie; Surf Music; Rock      1\n",
              "244                  Indie; Rock; Country      1\n",
              "242       Indie; Rock Alternativo; Grunge      1\n",
              "302  Pop/Punk; Pop/Rock; Rock Alternativo      1\n",
              "\n",
              "[604 rows x 2 columns]"
            ]
          },
          "execution_count": 85,
          "metadata": {},
          "output_type": "execute_result"
        }
      ],
      "source": [
        "df_nonrap_sort_above30_genre = df_nonrap_sort_above30.groupby('Genres').size().reset_index(name='Count')\n",
        "df_nonrap_sort_above30_genre.sort_values(by = 'Count', ascending = False)"
      ]
    },
    {
      "cell_type": "code",
      "execution_count": null,
      "metadata": {
        "colab": {
          "base_uri": "https://localhost:8080/",
          "height": 423
        },
        "id": "OLC7UXUDGGI_",
        "outputId": "0e68851b-06af-450c-b257-7a6b13aa5c44"
      },
      "outputs": [
        {
          "data": {
            "text/html": [
              "\n",
              "  <div id=\"df-7214c05e-4c0a-47af-8585-d6e97b191d1d\" class=\"colab-df-container\">\n",
              "    <div>\n",
              "<style scoped>\n",
              "    .dataframe tbody tr th:only-of-type {\n",
              "        vertical-align: middle;\n",
              "    }\n",
              "\n",
              "    .dataframe tbody tr th {\n",
              "        vertical-align: top;\n",
              "    }\n",
              "\n",
              "    .dataframe thead th {\n",
              "        text-align: right;\n",
              "    }\n",
              "</style>\n",
              "<table border=\"1\" class=\"dataframe\">\n",
              "  <thead>\n",
              "    <tr style=\"text-align: right;\">\n",
              "      <th></th>\n",
              "      <th>Genres</th>\n",
              "      <th>Count</th>\n",
              "    </tr>\n",
              "  </thead>\n",
              "  <tbody>\n",
              "    <tr>\n",
              "      <th>156</th>\n",
              "      <td>Reggaeton</td>\n",
              "      <td>22</td>\n",
              "    </tr>\n",
              "    <tr>\n",
              "      <th>0</th>\n",
              "      <td>Axé</td>\n",
              "      <td>14</td>\n",
              "    </tr>\n",
              "    <tr>\n",
              "      <th>83</th>\n",
              "      <td>J-Pop/J-Rock</td>\n",
              "      <td>13</td>\n",
              "    </tr>\n",
              "    <tr>\n",
              "      <th>183</th>\n",
              "      <td>Romântico</td>\n",
              "      <td>12</td>\n",
              "    </tr>\n",
              "    <tr>\n",
              "      <th>139</th>\n",
              "      <td>Pop; Pop/Rock; Dance</td>\n",
              "      <td>12</td>\n",
              "    </tr>\n",
              "    <tr>\n",
              "      <th>...</th>\n",
              "      <td>...</td>\n",
              "      <td>...</td>\n",
              "    </tr>\n",
              "    <tr>\n",
              "      <th>86</th>\n",
              "      <td>J-Pop/J-Rock; K-Pop/K-Rock</td>\n",
              "      <td>1</td>\n",
              "    </tr>\n",
              "    <tr>\n",
              "      <th>87</th>\n",
              "      <td>J-Pop/J-Rock; Pop; K-Pop/K-Rock</td>\n",
              "      <td>1</td>\n",
              "    </tr>\n",
              "    <tr>\n",
              "      <th>89</th>\n",
              "      <td>J-Pop/J-Rock; Rock; Romântico</td>\n",
              "      <td>1</td>\n",
              "    </tr>\n",
              "    <tr>\n",
              "      <th>90</th>\n",
              "      <td>J-Pop/J-Rock; Romântico; Dance</td>\n",
              "      <td>1</td>\n",
              "    </tr>\n",
              "    <tr>\n",
              "      <th>216</th>\n",
              "      <td>World Music; Indie; Dance</td>\n",
              "      <td>1</td>\n",
              "    </tr>\n",
              "  </tbody>\n",
              "</table>\n",
              "<p>217 rows × 2 columns</p>\n",
              "</div>\n",
              "    <div class=\"colab-df-buttons\">\n",
              "\n",
              "  <div class=\"colab-df-container\">\n",
              "    <button class=\"colab-df-convert\" onclick=\"convertToInteractive('df-7214c05e-4c0a-47af-8585-d6e97b191d1d')\"\n",
              "            title=\"Convert this dataframe to an interactive table.\"\n",
              "            style=\"display:none;\">\n",
              "\n",
              "  <svg xmlns=\"http://www.w3.org/2000/svg\" height=\"24px\" viewBox=\"0 -960 960 960\">\n",
              "    <path d=\"M120-120v-720h720v720H120Zm60-500h600v-160H180v160Zm220 220h160v-160H400v160Zm0 220h160v-160H400v160ZM180-400h160v-160H180v160Zm440 0h160v-160H620v160ZM180-180h160v-160H180v160Zm440 0h160v-160H620v160Z\"/>\n",
              "  </svg>\n",
              "    </button>\n",
              "\n",
              "  <style>\n",
              "    .colab-df-container {\n",
              "      display:flex;\n",
              "      gap: 12px;\n",
              "    }\n",
              "\n",
              "    .colab-df-convert {\n",
              "      background-color: #E8F0FE;\n",
              "      border: none;\n",
              "      border-radius: 50%;\n",
              "      cursor: pointer;\n",
              "      display: none;\n",
              "      fill: #1967D2;\n",
              "      height: 32px;\n",
              "      padding: 0 0 0 0;\n",
              "      width: 32px;\n",
              "    }\n",
              "\n",
              "    .colab-df-convert:hover {\n",
              "      background-color: #E2EBFA;\n",
              "      box-shadow: 0px 1px 2px rgba(60, 64, 67, 0.3), 0px 1px 3px 1px rgba(60, 64, 67, 0.15);\n",
              "      fill: #174EA6;\n",
              "    }\n",
              "\n",
              "    .colab-df-buttons div {\n",
              "      margin-bottom: 4px;\n",
              "    }\n",
              "\n",
              "    [theme=dark] .colab-df-convert {\n",
              "      background-color: #3B4455;\n",
              "      fill: #D2E3FC;\n",
              "    }\n",
              "\n",
              "    [theme=dark] .colab-df-convert:hover {\n",
              "      background-color: #434B5C;\n",
              "      box-shadow: 0px 1px 3px 1px rgba(0, 0, 0, 0.15);\n",
              "      filter: drop-shadow(0px 1px 2px rgba(0, 0, 0, 0.3));\n",
              "      fill: #FFFFFF;\n",
              "    }\n",
              "  </style>\n",
              "\n",
              "    <script>\n",
              "      const buttonEl =\n",
              "        document.querySelector('#df-7214c05e-4c0a-47af-8585-d6e97b191d1d button.colab-df-convert');\n",
              "      buttonEl.style.display =\n",
              "        google.colab.kernel.accessAllowed ? 'block' : 'none';\n",
              "\n",
              "      async function convertToInteractive(key) {\n",
              "        const element = document.querySelector('#df-7214c05e-4c0a-47af-8585-d6e97b191d1d');\n",
              "        const dataTable =\n",
              "          await google.colab.kernel.invokeFunction('convertToInteractive',\n",
              "                                                    [key], {});\n",
              "        if (!dataTable) return;\n",
              "\n",
              "        const docLinkHtml = 'Like what you see? Visit the ' +\n",
              "          '<a target=\"_blank\" href=https://colab.research.google.com/notebooks/data_table.ipynb>data table notebook</a>'\n",
              "          + ' to learn more about interactive tables.';\n",
              "        element.innerHTML = '';\n",
              "        dataTable['output_type'] = 'display_data';\n",
              "        await google.colab.output.renderOutput(dataTable, element);\n",
              "        const docLink = document.createElement('div');\n",
              "        docLink.innerHTML = docLinkHtml;\n",
              "        element.appendChild(docLink);\n",
              "      }\n",
              "    </script>\n",
              "  </div>\n",
              "\n",
              "\n",
              "<div id=\"df-31d07b1c-1f8a-45b1-badc-b5d8169ce54d\">\n",
              "  <button class=\"colab-df-quickchart\" onclick=\"quickchart('df-31d07b1c-1f8a-45b1-badc-b5d8169ce54d')\"\n",
              "            title=\"Suggest charts\"\n",
              "            style=\"display:none;\">\n",
              "\n",
              "<svg xmlns=\"http://www.w3.org/2000/svg\" height=\"24px\"viewBox=\"0 0 24 24\"\n",
              "     width=\"24px\">\n",
              "    <g>\n",
              "        <path d=\"M19 3H5c-1.1 0-2 .9-2 2v14c0 1.1.9 2 2 2h14c1.1 0 2-.9 2-2V5c0-1.1-.9-2-2-2zM9 17H7v-7h2v7zm4 0h-2V7h2v10zm4 0h-2v-4h2v4z\"/>\n",
              "    </g>\n",
              "</svg>\n",
              "  </button>\n",
              "\n",
              "<style>\n",
              "  .colab-df-quickchart {\n",
              "      --bg-color: #E8F0FE;\n",
              "      --fill-color: #1967D2;\n",
              "      --hover-bg-color: #E2EBFA;\n",
              "      --hover-fill-color: #174EA6;\n",
              "      --disabled-fill-color: #AAA;\n",
              "      --disabled-bg-color: #DDD;\n",
              "  }\n",
              "\n",
              "  [theme=dark] .colab-df-quickchart {\n",
              "      --bg-color: #3B4455;\n",
              "      --fill-color: #D2E3FC;\n",
              "      --hover-bg-color: #434B5C;\n",
              "      --hover-fill-color: #FFFFFF;\n",
              "      --disabled-bg-color: #3B4455;\n",
              "      --disabled-fill-color: #666;\n",
              "  }\n",
              "\n",
              "  .colab-df-quickchart {\n",
              "    background-color: var(--bg-color);\n",
              "    border: none;\n",
              "    border-radius: 50%;\n",
              "    cursor: pointer;\n",
              "    display: none;\n",
              "    fill: var(--fill-color);\n",
              "    height: 32px;\n",
              "    padding: 0;\n",
              "    width: 32px;\n",
              "  }\n",
              "\n",
              "  .colab-df-quickchart:hover {\n",
              "    background-color: var(--hover-bg-color);\n",
              "    box-shadow: 0 1px 2px rgba(60, 64, 67, 0.3), 0 1px 3px 1px rgba(60, 64, 67, 0.15);\n",
              "    fill: var(--button-hover-fill-color);\n",
              "  }\n",
              "\n",
              "  .colab-df-quickchart-complete:disabled,\n",
              "  .colab-df-quickchart-complete:disabled:hover {\n",
              "    background-color: var(--disabled-bg-color);\n",
              "    fill: var(--disabled-fill-color);\n",
              "    box-shadow: none;\n",
              "  }\n",
              "\n",
              "  .colab-df-spinner {\n",
              "    border: 2px solid var(--fill-color);\n",
              "    border-color: transparent;\n",
              "    border-bottom-color: var(--fill-color);\n",
              "    animation:\n",
              "      spin 1s steps(1) infinite;\n",
              "  }\n",
              "\n",
              "  @keyframes spin {\n",
              "    0% {\n",
              "      border-color: transparent;\n",
              "      border-bottom-color: var(--fill-color);\n",
              "      border-left-color: var(--fill-color);\n",
              "    }\n",
              "    20% {\n",
              "      border-color: transparent;\n",
              "      border-left-color: var(--fill-color);\n",
              "      border-top-color: var(--fill-color);\n",
              "    }\n",
              "    30% {\n",
              "      border-color: transparent;\n",
              "      border-left-color: var(--fill-color);\n",
              "      border-top-color: var(--fill-color);\n",
              "      border-right-color: var(--fill-color);\n",
              "    }\n",
              "    40% {\n",
              "      border-color: transparent;\n",
              "      border-right-color: var(--fill-color);\n",
              "      border-top-color: var(--fill-color);\n",
              "    }\n",
              "    60% {\n",
              "      border-color: transparent;\n",
              "      border-right-color: var(--fill-color);\n",
              "    }\n",
              "    80% {\n",
              "      border-color: transparent;\n",
              "      border-right-color: var(--fill-color);\n",
              "      border-bottom-color: var(--fill-color);\n",
              "    }\n",
              "    90% {\n",
              "      border-color: transparent;\n",
              "      border-bottom-color: var(--fill-color);\n",
              "    }\n",
              "  }\n",
              "</style>\n",
              "\n",
              "  <script>\n",
              "    async function quickchart(key) {\n",
              "      const quickchartButtonEl =\n",
              "        document.querySelector('#' + key + ' button');\n",
              "      quickchartButtonEl.disabled = true;  // To prevent multiple clicks.\n",
              "      quickchartButtonEl.classList.add('colab-df-spinner');\n",
              "      try {\n",
              "        const charts = await google.colab.kernel.invokeFunction(\n",
              "            'suggestCharts', [key], {});\n",
              "      } catch (error) {\n",
              "        console.error('Error during call to suggestCharts:', error);\n",
              "      }\n",
              "      quickchartButtonEl.classList.remove('colab-df-spinner');\n",
              "      quickchartButtonEl.classList.add('colab-df-quickchart-complete');\n",
              "    }\n",
              "    (() => {\n",
              "      let quickchartButtonEl =\n",
              "        document.querySelector('#df-31d07b1c-1f8a-45b1-badc-b5d8169ce54d button');\n",
              "      quickchartButtonEl.style.display =\n",
              "        google.colab.kernel.accessAllowed ? 'block' : 'none';\n",
              "    })();\n",
              "  </script>\n",
              "</div>\n",
              "    </div>\n",
              "  </div>\n"
            ],
            "text/plain": [
              "                              Genres  Count\n",
              "156                        Reggaeton     22\n",
              "0                                Axé     14\n",
              "83                      J-Pop/J-Rock     13\n",
              "183                        Romântico     12\n",
              "139             Pop; Pop/Rock; Dance     12\n",
              "..                               ...    ...\n",
              "86        J-Pop/J-Rock; K-Pop/K-Rock      1\n",
              "87   J-Pop/J-Rock; Pop; K-Pop/K-Rock      1\n",
              "89     J-Pop/J-Rock; Rock; Romântico      1\n",
              "90    J-Pop/J-Rock; Romântico; Dance      1\n",
              "216        World Music; Indie; Dance      1\n",
              "\n",
              "[217 rows x 2 columns]"
            ]
          },
          "execution_count": 86,
          "metadata": {},
          "output_type": "execute_result"
        }
      ],
      "source": [
        "df_nonrap_sort_below30_genre = df_nonrap_sort_below30.groupby('Genres').size().reset_index(name='Count')\n",
        "df_nonrap_sort_below30_genre.sort_values(by = 'Count', ascending = False)"
      ]
    },
    {
      "cell_type": "code",
      "execution_count": null,
      "metadata": {
        "colab": {
          "base_uri": "https://localhost:8080/",
          "height": 423
        },
        "id": "vtVi8PeQuQFX",
        "outputId": "19428bc1-55ad-4d1d-f283-34fc22c7d3ad"
      },
      "outputs": [
        {
          "data": {
            "text/html": [
              "\n",
              "  <div id=\"df-2f346bcc-48c9-45cb-a356-81838a14558d\" class=\"colab-df-container\">\n",
              "    <div>\n",
              "<style scoped>\n",
              "    .dataframe tbody tr th:only-of-type {\n",
              "        vertical-align: middle;\n",
              "    }\n",
              "\n",
              "    .dataframe tbody tr th {\n",
              "        vertical-align: top;\n",
              "    }\n",
              "\n",
              "    .dataframe thead th {\n",
              "        text-align: right;\n",
              "    }\n",
              "</style>\n",
              "<table border=\"1\" class=\"dataframe\">\n",
              "  <thead>\n",
              "    <tr style=\"text-align: right;\">\n",
              "      <th></th>\n",
              "      <th>Artist</th>\n",
              "      <th>Count</th>\n",
              "    </tr>\n",
              "  </thead>\n",
              "  <tbody>\n",
              "    <tr>\n",
              "      <th>309</th>\n",
              "      <td>Elvis Presley</td>\n",
              "      <td>46</td>\n",
              "    </tr>\n",
              "    <tr>\n",
              "      <th>630</th>\n",
              "      <td>Michael Jackson</td>\n",
              "      <td>40</td>\n",
              "    </tr>\n",
              "    <tr>\n",
              "      <th>778</th>\n",
              "      <td>Rihanna</td>\n",
              "      <td>38</td>\n",
              "    </tr>\n",
              "    <tr>\n",
              "      <th>112</th>\n",
              "      <td>Beyoncé</td>\n",
              "      <td>37</td>\n",
              "    </tr>\n",
              "    <tr>\n",
              "      <th>744</th>\n",
              "      <td>Prince</td>\n",
              "      <td>33</td>\n",
              "    </tr>\n",
              "    <tr>\n",
              "      <th>...</th>\n",
              "      <td>...</td>\n",
              "      <td>...</td>\n",
              "    </tr>\n",
              "    <tr>\n",
              "      <th>507</th>\n",
              "      <td>Kari Jobe</td>\n",
              "      <td>1</td>\n",
              "    </tr>\n",
              "    <tr>\n",
              "      <th>508</th>\n",
              "      <td>Kasabian</td>\n",
              "      <td>1</td>\n",
              "    </tr>\n",
              "    <tr>\n",
              "      <th>509</th>\n",
              "      <td>Kasino</td>\n",
              "      <td>1</td>\n",
              "    </tr>\n",
              "    <tr>\n",
              "      <th>510</th>\n",
              "      <td>Kate Nash</td>\n",
              "      <td>1</td>\n",
              "    </tr>\n",
              "    <tr>\n",
              "      <th>1078</th>\n",
              "      <td>É O Tchan</td>\n",
              "      <td>1</td>\n",
              "    </tr>\n",
              "  </tbody>\n",
              "</table>\n",
              "<p>1079 rows × 2 columns</p>\n",
              "</div>\n",
              "    <div class=\"colab-df-buttons\">\n",
              "\n",
              "  <div class=\"colab-df-container\">\n",
              "    <button class=\"colab-df-convert\" onclick=\"convertToInteractive('df-2f346bcc-48c9-45cb-a356-81838a14558d')\"\n",
              "            title=\"Convert this dataframe to an interactive table.\"\n",
              "            style=\"display:none;\">\n",
              "\n",
              "  <svg xmlns=\"http://www.w3.org/2000/svg\" height=\"24px\" viewBox=\"0 -960 960 960\">\n",
              "    <path d=\"M120-120v-720h720v720H120Zm60-500h600v-160H180v160Zm220 220h160v-160H400v160Zm0 220h160v-160H400v160ZM180-400h160v-160H180v160Zm440 0h160v-160H620v160ZM180-180h160v-160H180v160Zm440 0h160v-160H620v160Z\"/>\n",
              "  </svg>\n",
              "    </button>\n",
              "\n",
              "  <style>\n",
              "    .colab-df-container {\n",
              "      display:flex;\n",
              "      gap: 12px;\n",
              "    }\n",
              "\n",
              "    .colab-df-convert {\n",
              "      background-color: #E8F0FE;\n",
              "      border: none;\n",
              "      border-radius: 50%;\n",
              "      cursor: pointer;\n",
              "      display: none;\n",
              "      fill: #1967D2;\n",
              "      height: 32px;\n",
              "      padding: 0 0 0 0;\n",
              "      width: 32px;\n",
              "    }\n",
              "\n",
              "    .colab-df-convert:hover {\n",
              "      background-color: #E2EBFA;\n",
              "      box-shadow: 0px 1px 2px rgba(60, 64, 67, 0.3), 0px 1px 3px 1px rgba(60, 64, 67, 0.15);\n",
              "      fill: #174EA6;\n",
              "    }\n",
              "\n",
              "    .colab-df-buttons div {\n",
              "      margin-bottom: 4px;\n",
              "    }\n",
              "\n",
              "    [theme=dark] .colab-df-convert {\n",
              "      background-color: #3B4455;\n",
              "      fill: #D2E3FC;\n",
              "    }\n",
              "\n",
              "    [theme=dark] .colab-df-convert:hover {\n",
              "      background-color: #434B5C;\n",
              "      box-shadow: 0px 1px 3px 1px rgba(0, 0, 0, 0.15);\n",
              "      filter: drop-shadow(0px 1px 2px rgba(0, 0, 0, 0.3));\n",
              "      fill: #FFFFFF;\n",
              "    }\n",
              "  </style>\n",
              "\n",
              "    <script>\n",
              "      const buttonEl =\n",
              "        document.querySelector('#df-2f346bcc-48c9-45cb-a356-81838a14558d button.colab-df-convert');\n",
              "      buttonEl.style.display =\n",
              "        google.colab.kernel.accessAllowed ? 'block' : 'none';\n",
              "\n",
              "      async function convertToInteractive(key) {\n",
              "        const element = document.querySelector('#df-2f346bcc-48c9-45cb-a356-81838a14558d');\n",
              "        const dataTable =\n",
              "          await google.colab.kernel.invokeFunction('convertToInteractive',\n",
              "                                                    [key], {});\n",
              "        if (!dataTable) return;\n",
              "\n",
              "        const docLinkHtml = 'Like what you see? Visit the ' +\n",
              "          '<a target=\"_blank\" href=https://colab.research.google.com/notebooks/data_table.ipynb>data table notebook</a>'\n",
              "          + ' to learn more about interactive tables.';\n",
              "        element.innerHTML = '';\n",
              "        dataTable['output_type'] = 'display_data';\n",
              "        await google.colab.output.renderOutput(dataTable, element);\n",
              "        const docLink = document.createElement('div');\n",
              "        docLink.innerHTML = docLinkHtml;\n",
              "        element.appendChild(docLink);\n",
              "      }\n",
              "    </script>\n",
              "  </div>\n",
              "\n",
              "\n",
              "<div id=\"df-016d05a8-8267-4501-8b57-5a546e068688\">\n",
              "  <button class=\"colab-df-quickchart\" onclick=\"quickchart('df-016d05a8-8267-4501-8b57-5a546e068688')\"\n",
              "            title=\"Suggest charts\"\n",
              "            style=\"display:none;\">\n",
              "\n",
              "<svg xmlns=\"http://www.w3.org/2000/svg\" height=\"24px\"viewBox=\"0 0 24 24\"\n",
              "     width=\"24px\">\n",
              "    <g>\n",
              "        <path d=\"M19 3H5c-1.1 0-2 .9-2 2v14c0 1.1.9 2 2 2h14c1.1 0 2-.9 2-2V5c0-1.1-.9-2-2-2zM9 17H7v-7h2v7zm4 0h-2V7h2v10zm4 0h-2v-4h2v4z\"/>\n",
              "    </g>\n",
              "</svg>\n",
              "  </button>\n",
              "\n",
              "<style>\n",
              "  .colab-df-quickchart {\n",
              "      --bg-color: #E8F0FE;\n",
              "      --fill-color: #1967D2;\n",
              "      --hover-bg-color: #E2EBFA;\n",
              "      --hover-fill-color: #174EA6;\n",
              "      --disabled-fill-color: #AAA;\n",
              "      --disabled-bg-color: #DDD;\n",
              "  }\n",
              "\n",
              "  [theme=dark] .colab-df-quickchart {\n",
              "      --bg-color: #3B4455;\n",
              "      --fill-color: #D2E3FC;\n",
              "      --hover-bg-color: #434B5C;\n",
              "      --hover-fill-color: #FFFFFF;\n",
              "      --disabled-bg-color: #3B4455;\n",
              "      --disabled-fill-color: #666;\n",
              "  }\n",
              "\n",
              "  .colab-df-quickchart {\n",
              "    background-color: var(--bg-color);\n",
              "    border: none;\n",
              "    border-radius: 50%;\n",
              "    cursor: pointer;\n",
              "    display: none;\n",
              "    fill: var(--fill-color);\n",
              "    height: 32px;\n",
              "    padding: 0;\n",
              "    width: 32px;\n",
              "  }\n",
              "\n",
              "  .colab-df-quickchart:hover {\n",
              "    background-color: var(--hover-bg-color);\n",
              "    box-shadow: 0 1px 2px rgba(60, 64, 67, 0.3), 0 1px 3px 1px rgba(60, 64, 67, 0.15);\n",
              "    fill: var(--button-hover-fill-color);\n",
              "  }\n",
              "\n",
              "  .colab-df-quickchart-complete:disabled,\n",
              "  .colab-df-quickchart-complete:disabled:hover {\n",
              "    background-color: var(--disabled-bg-color);\n",
              "    fill: var(--disabled-fill-color);\n",
              "    box-shadow: none;\n",
              "  }\n",
              "\n",
              "  .colab-df-spinner {\n",
              "    border: 2px solid var(--fill-color);\n",
              "    border-color: transparent;\n",
              "    border-bottom-color: var(--fill-color);\n",
              "    animation:\n",
              "      spin 1s steps(1) infinite;\n",
              "  }\n",
              "\n",
              "  @keyframes spin {\n",
              "    0% {\n",
              "      border-color: transparent;\n",
              "      border-bottom-color: var(--fill-color);\n",
              "      border-left-color: var(--fill-color);\n",
              "    }\n",
              "    20% {\n",
              "      border-color: transparent;\n",
              "      border-left-color: var(--fill-color);\n",
              "      border-top-color: var(--fill-color);\n",
              "    }\n",
              "    30% {\n",
              "      border-color: transparent;\n",
              "      border-left-color: var(--fill-color);\n",
              "      border-top-color: var(--fill-color);\n",
              "      border-right-color: var(--fill-color);\n",
              "    }\n",
              "    40% {\n",
              "      border-color: transparent;\n",
              "      border-right-color: var(--fill-color);\n",
              "      border-top-color: var(--fill-color);\n",
              "    }\n",
              "    60% {\n",
              "      border-color: transparent;\n",
              "      border-right-color: var(--fill-color);\n",
              "    }\n",
              "    80% {\n",
              "      border-color: transparent;\n",
              "      border-right-color: var(--fill-color);\n",
              "      border-bottom-color: var(--fill-color);\n",
              "    }\n",
              "    90% {\n",
              "      border-color: transparent;\n",
              "      border-bottom-color: var(--fill-color);\n",
              "    }\n",
              "  }\n",
              "</style>\n",
              "\n",
              "  <script>\n",
              "    async function quickchart(key) {\n",
              "      const quickchartButtonEl =\n",
              "        document.querySelector('#' + key + ' button');\n",
              "      quickchartButtonEl.disabled = true;  // To prevent multiple clicks.\n",
              "      quickchartButtonEl.classList.add('colab-df-spinner');\n",
              "      try {\n",
              "        const charts = await google.colab.kernel.invokeFunction(\n",
              "            'suggestCharts', [key], {});\n",
              "      } catch (error) {\n",
              "        console.error('Error during call to suggestCharts:', error);\n",
              "      }\n",
              "      quickchartButtonEl.classList.remove('colab-df-spinner');\n",
              "      quickchartButtonEl.classList.add('colab-df-quickchart-complete');\n",
              "    }\n",
              "    (() => {\n",
              "      let quickchartButtonEl =\n",
              "        document.querySelector('#df-016d05a8-8267-4501-8b57-5a546e068688 button');\n",
              "      quickchartButtonEl.style.display =\n",
              "        google.colab.kernel.accessAllowed ? 'block' : 'none';\n",
              "    })();\n",
              "  </script>\n",
              "</div>\n",
              "    </div>\n",
              "  </div>\n"
            ],
            "text/plain": [
              "               Artist  Count\n",
              "309     Elvis Presley     46\n",
              "630   Michael Jackson     40\n",
              "778           Rihanna     38\n",
              "112           Beyoncé     37\n",
              "744            Prince     33\n",
              "...               ...    ...\n",
              "507         Kari Jobe      1\n",
              "508          Kasabian      1\n",
              "509            Kasino      1\n",
              "510         Kate Nash      1\n",
              "1078        É O Tchan      1\n",
              "\n",
              "[1079 rows x 2 columns]"
            ]
          },
          "execution_count": 87,
          "metadata": {},
          "output_type": "execute_result"
        }
      ],
      "source": [
        "df_nonrap_sort_above30_artist = df_nonrap_sort_above30.groupby('Artist').size().reset_index(name='Count')\n",
        "df_nonrap_sort_above30_artist.sort_values(by = 'Count', ascending = False)"
      ]
    },
    {
      "cell_type": "code",
      "execution_count": null,
      "metadata": {
        "colab": {
          "base_uri": "https://localhost:8080/",
          "height": 423
        },
        "id": "ewmndZkHuQg9",
        "outputId": "66d57755-bac8-4c63-c32d-0882442cf2cb"
      },
      "outputs": [
        {
          "data": {
            "text/html": [
              "\n",
              "  <div id=\"df-c0c0e5d3-987c-4c60-a4eb-9093c889de3d\" class=\"colab-df-container\">\n",
              "    <div>\n",
              "<style scoped>\n",
              "    .dataframe tbody tr th:only-of-type {\n",
              "        vertical-align: middle;\n",
              "    }\n",
              "\n",
              "    .dataframe tbody tr th {\n",
              "        vertical-align: top;\n",
              "    }\n",
              "\n",
              "    .dataframe thead th {\n",
              "        text-align: right;\n",
              "    }\n",
              "</style>\n",
              "<table border=\"1\" class=\"dataframe\">\n",
              "  <thead>\n",
              "    <tr style=\"text-align: right;\">\n",
              "      <th></th>\n",
              "      <th>Artist</th>\n",
              "      <th>Count</th>\n",
              "    </tr>\n",
              "  </thead>\n",
              "  <tbody>\n",
              "    <tr>\n",
              "      <th>256</th>\n",
              "      <td>Shakira</td>\n",
              "      <td>9</td>\n",
              "    </tr>\n",
              "    <tr>\n",
              "      <th>170</th>\n",
              "      <td>Maná</td>\n",
              "      <td>9</td>\n",
              "    </tr>\n",
              "    <tr>\n",
              "      <th>271</th>\n",
              "      <td>Thalía</td>\n",
              "      <td>8</td>\n",
              "    </tr>\n",
              "    <tr>\n",
              "      <th>200</th>\n",
              "      <td>Netinho</td>\n",
              "      <td>7</td>\n",
              "    </tr>\n",
              "    <tr>\n",
              "      <th>237</th>\n",
              "      <td>Ricky Martin</td>\n",
              "      <td>7</td>\n",
              "    </tr>\n",
              "    <tr>\n",
              "      <th>...</th>\n",
              "      <td>...</td>\n",
              "      <td>...</td>\n",
              "    </tr>\n",
              "    <tr>\n",
              "      <th>123</th>\n",
              "      <td>Jair &amp; Vanise</td>\n",
              "      <td>1</td>\n",
              "    </tr>\n",
              "    <tr>\n",
              "      <th>124</th>\n",
              "      <td>James Morrison</td>\n",
              "      <td>1</td>\n",
              "    </tr>\n",
              "    <tr>\n",
              "      <th>125</th>\n",
              "      <td>Jammil e Uma Noites</td>\n",
              "      <td>1</td>\n",
              "    </tr>\n",
              "    <tr>\n",
              "      <th>126</th>\n",
              "      <td>Jauperi</td>\n",
              "      <td>1</td>\n",
              "    </tr>\n",
              "    <tr>\n",
              "      <th>300</th>\n",
              "      <td>Ñejo</td>\n",
              "      <td>1</td>\n",
              "    </tr>\n",
              "  </tbody>\n",
              "</table>\n",
              "<p>301 rows × 2 columns</p>\n",
              "</div>\n",
              "    <div class=\"colab-df-buttons\">\n",
              "\n",
              "  <div class=\"colab-df-container\">\n",
              "    <button class=\"colab-df-convert\" onclick=\"convertToInteractive('df-c0c0e5d3-987c-4c60-a4eb-9093c889de3d')\"\n",
              "            title=\"Convert this dataframe to an interactive table.\"\n",
              "            style=\"display:none;\">\n",
              "\n",
              "  <svg xmlns=\"http://www.w3.org/2000/svg\" height=\"24px\" viewBox=\"0 -960 960 960\">\n",
              "    <path d=\"M120-120v-720h720v720H120Zm60-500h600v-160H180v160Zm220 220h160v-160H400v160Zm0 220h160v-160H400v160ZM180-400h160v-160H180v160Zm440 0h160v-160H620v160ZM180-180h160v-160H180v160Zm440 0h160v-160H620v160Z\"/>\n",
              "  </svg>\n",
              "    </button>\n",
              "\n",
              "  <style>\n",
              "    .colab-df-container {\n",
              "      display:flex;\n",
              "      gap: 12px;\n",
              "    }\n",
              "\n",
              "    .colab-df-convert {\n",
              "      background-color: #E8F0FE;\n",
              "      border: none;\n",
              "      border-radius: 50%;\n",
              "      cursor: pointer;\n",
              "      display: none;\n",
              "      fill: #1967D2;\n",
              "      height: 32px;\n",
              "      padding: 0 0 0 0;\n",
              "      width: 32px;\n",
              "    }\n",
              "\n",
              "    .colab-df-convert:hover {\n",
              "      background-color: #E2EBFA;\n",
              "      box-shadow: 0px 1px 2px rgba(60, 64, 67, 0.3), 0px 1px 3px 1px rgba(60, 64, 67, 0.15);\n",
              "      fill: #174EA6;\n",
              "    }\n",
              "\n",
              "    .colab-df-buttons div {\n",
              "      margin-bottom: 4px;\n",
              "    }\n",
              "\n",
              "    [theme=dark] .colab-df-convert {\n",
              "      background-color: #3B4455;\n",
              "      fill: #D2E3FC;\n",
              "    }\n",
              "\n",
              "    [theme=dark] .colab-df-convert:hover {\n",
              "      background-color: #434B5C;\n",
              "      box-shadow: 0px 1px 3px 1px rgba(0, 0, 0, 0.15);\n",
              "      filter: drop-shadow(0px 1px 2px rgba(0, 0, 0, 0.3));\n",
              "      fill: #FFFFFF;\n",
              "    }\n",
              "  </style>\n",
              "\n",
              "    <script>\n",
              "      const buttonEl =\n",
              "        document.querySelector('#df-c0c0e5d3-987c-4c60-a4eb-9093c889de3d button.colab-df-convert');\n",
              "      buttonEl.style.display =\n",
              "        google.colab.kernel.accessAllowed ? 'block' : 'none';\n",
              "\n",
              "      async function convertToInteractive(key) {\n",
              "        const element = document.querySelector('#df-c0c0e5d3-987c-4c60-a4eb-9093c889de3d');\n",
              "        const dataTable =\n",
              "          await google.colab.kernel.invokeFunction('convertToInteractive',\n",
              "                                                    [key], {});\n",
              "        if (!dataTable) return;\n",
              "\n",
              "        const docLinkHtml = 'Like what you see? Visit the ' +\n",
              "          '<a target=\"_blank\" href=https://colab.research.google.com/notebooks/data_table.ipynb>data table notebook</a>'\n",
              "          + ' to learn more about interactive tables.';\n",
              "        element.innerHTML = '';\n",
              "        dataTable['output_type'] = 'display_data';\n",
              "        await google.colab.output.renderOutput(dataTable, element);\n",
              "        const docLink = document.createElement('div');\n",
              "        docLink.innerHTML = docLinkHtml;\n",
              "        element.appendChild(docLink);\n",
              "      }\n",
              "    </script>\n",
              "  </div>\n",
              "\n",
              "\n",
              "<div id=\"df-1673d118-8874-4e16-bb20-d048999c1e68\">\n",
              "  <button class=\"colab-df-quickchart\" onclick=\"quickchart('df-1673d118-8874-4e16-bb20-d048999c1e68')\"\n",
              "            title=\"Suggest charts\"\n",
              "            style=\"display:none;\">\n",
              "\n",
              "<svg xmlns=\"http://www.w3.org/2000/svg\" height=\"24px\"viewBox=\"0 0 24 24\"\n",
              "     width=\"24px\">\n",
              "    <g>\n",
              "        <path d=\"M19 3H5c-1.1 0-2 .9-2 2v14c0 1.1.9 2 2 2h14c1.1 0 2-.9 2-2V5c0-1.1-.9-2-2-2zM9 17H7v-7h2v7zm4 0h-2V7h2v10zm4 0h-2v-4h2v4z\"/>\n",
              "    </g>\n",
              "</svg>\n",
              "  </button>\n",
              "\n",
              "<style>\n",
              "  .colab-df-quickchart {\n",
              "      --bg-color: #E8F0FE;\n",
              "      --fill-color: #1967D2;\n",
              "      --hover-bg-color: #E2EBFA;\n",
              "      --hover-fill-color: #174EA6;\n",
              "      --disabled-fill-color: #AAA;\n",
              "      --disabled-bg-color: #DDD;\n",
              "  }\n",
              "\n",
              "  [theme=dark] .colab-df-quickchart {\n",
              "      --bg-color: #3B4455;\n",
              "      --fill-color: #D2E3FC;\n",
              "      --hover-bg-color: #434B5C;\n",
              "      --hover-fill-color: #FFFFFF;\n",
              "      --disabled-bg-color: #3B4455;\n",
              "      --disabled-fill-color: #666;\n",
              "  }\n",
              "\n",
              "  .colab-df-quickchart {\n",
              "    background-color: var(--bg-color);\n",
              "    border: none;\n",
              "    border-radius: 50%;\n",
              "    cursor: pointer;\n",
              "    display: none;\n",
              "    fill: var(--fill-color);\n",
              "    height: 32px;\n",
              "    padding: 0;\n",
              "    width: 32px;\n",
              "  }\n",
              "\n",
              "  .colab-df-quickchart:hover {\n",
              "    background-color: var(--hover-bg-color);\n",
              "    box-shadow: 0 1px 2px rgba(60, 64, 67, 0.3), 0 1px 3px 1px rgba(60, 64, 67, 0.15);\n",
              "    fill: var(--button-hover-fill-color);\n",
              "  }\n",
              "\n",
              "  .colab-df-quickchart-complete:disabled,\n",
              "  .colab-df-quickchart-complete:disabled:hover {\n",
              "    background-color: var(--disabled-bg-color);\n",
              "    fill: var(--disabled-fill-color);\n",
              "    box-shadow: none;\n",
              "  }\n",
              "\n",
              "  .colab-df-spinner {\n",
              "    border: 2px solid var(--fill-color);\n",
              "    border-color: transparent;\n",
              "    border-bottom-color: var(--fill-color);\n",
              "    animation:\n",
              "      spin 1s steps(1) infinite;\n",
              "  }\n",
              "\n",
              "  @keyframes spin {\n",
              "    0% {\n",
              "      border-color: transparent;\n",
              "      border-bottom-color: var(--fill-color);\n",
              "      border-left-color: var(--fill-color);\n",
              "    }\n",
              "    20% {\n",
              "      border-color: transparent;\n",
              "      border-left-color: var(--fill-color);\n",
              "      border-top-color: var(--fill-color);\n",
              "    }\n",
              "    30% {\n",
              "      border-color: transparent;\n",
              "      border-left-color: var(--fill-color);\n",
              "      border-top-color: var(--fill-color);\n",
              "      border-right-color: var(--fill-color);\n",
              "    }\n",
              "    40% {\n",
              "      border-color: transparent;\n",
              "      border-right-color: var(--fill-color);\n",
              "      border-top-color: var(--fill-color);\n",
              "    }\n",
              "    60% {\n",
              "      border-color: transparent;\n",
              "      border-right-color: var(--fill-color);\n",
              "    }\n",
              "    80% {\n",
              "      border-color: transparent;\n",
              "      border-right-color: var(--fill-color);\n",
              "      border-bottom-color: var(--fill-color);\n",
              "    }\n",
              "    90% {\n",
              "      border-color: transparent;\n",
              "      border-bottom-color: var(--fill-color);\n",
              "    }\n",
              "  }\n",
              "</style>\n",
              "\n",
              "  <script>\n",
              "    async function quickchart(key) {\n",
              "      const quickchartButtonEl =\n",
              "        document.querySelector('#' + key + ' button');\n",
              "      quickchartButtonEl.disabled = true;  // To prevent multiple clicks.\n",
              "      quickchartButtonEl.classList.add('colab-df-spinner');\n",
              "      try {\n",
              "        const charts = await google.colab.kernel.invokeFunction(\n",
              "            'suggestCharts', [key], {});\n",
              "      } catch (error) {\n",
              "        console.error('Error during call to suggestCharts:', error);\n",
              "      }\n",
              "      quickchartButtonEl.classList.remove('colab-df-spinner');\n",
              "      quickchartButtonEl.classList.add('colab-df-quickchart-complete');\n",
              "    }\n",
              "    (() => {\n",
              "      let quickchartButtonEl =\n",
              "        document.querySelector('#df-1673d118-8874-4e16-bb20-d048999c1e68 button');\n",
              "      quickchartButtonEl.style.display =\n",
              "        google.colab.kernel.accessAllowed ? 'block' : 'none';\n",
              "    })();\n",
              "  </script>\n",
              "</div>\n",
              "    </div>\n",
              "  </div>\n"
            ],
            "text/plain": [
              "                  Artist  Count\n",
              "256              Shakira      9\n",
              "170                 Maná      9\n",
              "271               Thalía      8\n",
              "200              Netinho      7\n",
              "237         Ricky Martin      7\n",
              "..                   ...    ...\n",
              "123        Jair & Vanise      1\n",
              "124       James Morrison      1\n",
              "125  Jammil e Uma Noites      1\n",
              "126              Jauperi      1\n",
              "300                 Ñejo      1\n",
              "\n",
              "[301 rows x 2 columns]"
            ]
          },
          "execution_count": 88,
          "metadata": {},
          "output_type": "execute_result"
        }
      ],
      "source": [
        "df_nonrap_sort_below30_artist = df_nonrap_sort_below30.groupby('Artist').size().reset_index(name='Count')\n",
        "df_nonrap_sort_below30_artist.sort_values(by = 'Count', ascending = False)"
      ]
    },
    {
      "cell_type": "code",
      "execution_count": null,
      "metadata": {
        "id": "-asUyAHD_jrO"
      },
      "outputs": [],
      "source": [
        "df_nonrap_sort[df_nonrap_sort['Artist'] == 'Michael Jackson']"
      ]
    },
    {
      "cell_type": "code",
      "execution_count": null,
      "metadata": {
        "colab": {
          "base_uri": "https://localhost:8080/"
        },
        "id": "YOAoEriqWKPB",
        "outputId": "243f92e4-ea2b-4cff-e5ed-c2cf5fd22414"
      },
      "outputs": [
        {
          "data": {
            "text/plain": [
              "Index(['Link', 'SName', 'SLink', 'Lyric', 'language', 'Artist', 'Genres',\n",
              "       'Songs', 'Popularity', 'song_popularity', 'song_duration_ms',\n",
              "       'acousticness', 'danceability', 'energy', 'instrumentalness', 'key',\n",
              "       'liveness', 'loudness', 'audio_mode', 'speechiness', 'tempo',\n",
              "       'time_signature', 'audio_valence', 'Lyric_split', 'cos_similarity'],\n",
              "      dtype='object')"
            ]
          },
          "execution_count": 89,
          "metadata": {},
          "output_type": "execute_result"
        }
      ],
      "source": [
        "df_nonrap_sort.columns"
      ]
    },
    {
      "cell_type": "code",
      "execution_count": null,
      "metadata": {
        "id": "I0uie7BwV8dU"
      },
      "outputs": [],
      "source": [
        "df_nonrap_sort_above30_song_duration = df_nonrap_sort_above30.groupby('song_duration_ms').size().reset_index(name='Count')\n",
        "df_nonrap_sort_below30_artist_song_duration = df_nonrap_sort_below30.groupby('song_duration_ms').size().reset_index(name='Count')"
      ]
    },
    {
      "cell_type": "code",
      "execution_count": null,
      "metadata": {
        "id": "IOffGRc6W8B_"
      },
      "outputs": [],
      "source": [
        "df_nonrap_sort_above30_tempo = df_nonrap_sort_above30.groupby('tempo').size().reset_index(name='Count')\n",
        "df_nonrap_sort_below30_artist_tempo = df_nonrap_sort_below30.groupby('tempo').size().reset_index(name='Count')"
      ]
    },
    {
      "cell_type": "markdown",
      "metadata": {
        "id": "a7Lpkix2ssHB"
      },
      "source": [
        "**KS Test**"
      ]
    },
    {
      "cell_type": "code",
      "execution_count": null,
      "metadata": {
        "colab": {
          "base_uri": "https://localhost:8080/"
        },
        "id": "eAAGmBUOswFv",
        "outputId": "d5716d2e-6409-4230-d838-7d63f3c0182c"
      },
      "outputs": [
        {
          "name": "stdout",
          "output_type": "stream",
          "text": [
            "KS Statistic for Genre Distribution in 2 modals: 0.3402813806573687\n",
            "P-value: 6.255196308245007e-17\n",
            "The samples do not come from the same distribution (reject the null hypothesis)\n"
          ]
        }
      ],
      "source": [
        "from scipy.stats import ks_2samp\n",
        "\n",
        "# perform the KS test on Genre\n",
        "statistic, p_value = ks_2samp(df_nonrap_sort_above30_genre['Count'], df_nonrap_sort_below30_genre['Count'])\n",
        "\n",
        "# display results\n",
        "print(\"KS Statistic for Genre Distribution in 2 modals:\", statistic)\n",
        "print(\"P-value:\", p_value)\n",
        "\n",
        "# interpret the results\n",
        "alpha = 0.05  # significance level\n",
        "if p_value > alpha:\n",
        "    print(\"The samples come from the same distribution (fail to reject the null hypothesis)\")\n",
        "else:\n",
        "    print(\"The samples do not come from the same distribution (reject the null hypothesis)\")"
      ]
    },
    {
      "cell_type": "code",
      "execution_count": null,
      "metadata": {
        "colab": {
          "base_uri": "https://localhost:8080/"
        },
        "id": "ULkJFbcVutqE",
        "outputId": "b3503870-8dbf-4b4e-e81a-8e46f81015c2"
      },
      "outputs": [
        {
          "name": "stdout",
          "output_type": "stream",
          "text": [
            "KS Statistic for Artist Distribution in 2 modals: 0.29606286120715936\n",
            "P-value: 9.947775890547613e-19\n",
            "The samples do not come from the same distribution (reject the null hypothesis)\n"
          ]
        }
      ],
      "source": [
        "# perform the KS test on Artists\n",
        "statistic, p_value = ks_2samp(df_nonrap_sort_above30_artist['Count'], df_nonrap_sort_below30_artist['Count'])\n",
        "\n",
        "# display the results\n",
        "print(\"KS Statistic for Artist Distribution in 2 modals:\", statistic)\n",
        "print(\"P-value:\", p_value)\n",
        "\n",
        "# interpret the results\n",
        "alpha = 0.05  # significance level\n",
        "if p_value > alpha:\n",
        "    print(\"The samples come from the same distribution (fail to reject the null hypothesis)\")\n",
        "else:\n",
        "    print(\"The samples do not come from the same distribution (reject the null hypothesis)\")"
      ]
    },
    {
      "cell_type": "code",
      "execution_count": null,
      "metadata": {
        "colab": {
          "base_uri": "https://localhost:8080/"
        },
        "id": "t7htjduTWg0E",
        "outputId": "600324b7-e306-4ccd-8c81-9f486b5e42d6"
      },
      "outputs": [
        {
          "name": "stdout",
          "output_type": "stream",
          "text": [
            "KS Statistic for Song Duration Distribution in 2 modals: 0.05783874655699818\n",
            "P-value: 0.11434597139265228\n",
            "The samples come from the same distribution (fail to reject the null hypothesis)\n"
          ]
        }
      ],
      "source": [
        "# perform the KS test on song duration\n",
        "statistic, p_value = ks_2samp(df_nonrap_sort_above30_song_duration['Count'], df_nonrap_sort_below30_artist_song_duration['Count'])\n",
        "\n",
        "# display results\n",
        "print(\"KS Statistic for Song Duration Distribution in 2 modals:\", statistic)\n",
        "print(\"P-value:\", p_value)\n",
        "\n",
        "# interpret the results\n",
        "alpha = 0.05  # significance level\n",
        "if p_value > alpha:\n",
        "    print(\"The samples come from the same distribution (fail to reject the null hypothesis)\")\n",
        "else:\n",
        "    print(\"The samples do not come from the same distribution (reject the null hypothesis)\")"
      ]
    },
    {
      "cell_type": "code",
      "execution_count": null,
      "metadata": {
        "colab": {
          "base_uri": "https://localhost:8080/"
        },
        "id": "p2UnCkB9W6ie",
        "outputId": "68f368ce-bfba-40e3-f61c-d84333336bd7"
      },
      "outputs": [
        {
          "name": "stdout",
          "output_type": "stream",
          "text": [
            "KS Statistic for Tempo Distribution in 2 modals: 0.03163855278780668\n",
            "P-value: 0.7807962402344863\n",
            "The samples come from the same distribution (fail to reject the null hypothesis)\n"
          ]
        }
      ],
      "source": [
        "# perform the KS test on tempo\n",
        "statistic, p_value = ks_2samp(df_nonrap_sort_above30_tempo['Count'], df_nonrap_sort_below30_artist_tempo['Count'])\n",
        "\n",
        "# display results\n",
        "print(\"KS Statistic for Tempo Distribution in 2 modals:\", statistic)\n",
        "print(\"P-value:\", p_value)\n",
        "\n",
        "# interpret the results\n",
        "alpha = 0.05  # significance level\n",
        "if p_value > alpha:\n",
        "    print(\"The samples come from the same distribution (fail to reject the null hypothesis)\")\n",
        "else:\n",
        "    print(\"The samples do not come from the same distribution (reject the null hypothesis)\")"
      ]
    },
    {
      "cell_type": "markdown",
      "metadata": {
        "id": "P2tsKBbK1Hs-"
      },
      "source": [
        "Social Implications (Popularity)"
      ]
    },
    {
      "cell_type": "code",
      "execution_count": null,
      "metadata": {
        "id": "QV6vDXuSF5c8"
      },
      "outputs": [],
      "source": [
        "nonrap_df = nonrap_df.dropna(subset=['cos_similarity', 'song_popularity'])"
      ]
    },
    {
      "cell_type": "code",
      "execution_count": null,
      "metadata": {
        "colab": {
          "base_uri": "https://localhost:8080/"
        },
        "id": "C33tW2BmmyS1",
        "outputId": "54503748-4ff8-484b-e35d-d4feb484b202"
      },
      "outputs": [
        {
          "data": {
            "text/plain": [
              "Index(['Link', 'SName', 'SLink', 'Lyric', 'language', 'Artist', 'Genres',\n",
              "       'Songs', 'Popularity', 'song_popularity', 'song_duration_ms',\n",
              "       'acousticness', 'danceability', 'energy', 'instrumentalness', 'key',\n",
              "       'liveness', 'loudness', 'audio_mode', 'speechiness', 'tempo',\n",
              "       'time_signature', 'audio_valence', 'Lyric_split', 'cos_similarity'],\n",
              "      dtype='object')"
            ]
          },
          "execution_count": 97,
          "metadata": {},
          "output_type": "execute_result"
        }
      ],
      "source": [
        "nonrap_df.columns"
      ]
    },
    {
      "cell_type": "code",
      "execution_count": null,
      "metadata": {
        "id": "VxHTmH35lINs"
      },
      "outputs": [],
      "source": [
        "from scipy.stats import linregress"
      ]
    },
    {
      "cell_type": "code",
      "execution_count": null,
      "metadata": {
        "colab": {
          "base_uri": "https://localhost:8080/",
          "height": 1000
        },
        "id": "aRZ3VTvulB5Q",
        "outputId": "f32ad358-9f9d-4516-fff5-7f3c0c52e92b"
      },
      "outputs": [
        {
          "data": {
            "text/plain": [
              "[<matplotlib.lines.Line2D at 0x7ec47b2d7460>]"
            ]
          },
          "execution_count": 99,
          "metadata": {},
          "output_type": "execute_result"
        },
        {
          "data": {
            "image/png": "[encoded data removed]",
            "text/plain": [
              "<Figure size 2000x2000 with 1 Axes>"
            ]
          },
          "metadata": {},
          "output_type": "display_data"
        }
      ],
      "source": [
        "# song popularity\n",
        "slope, intercept, r_value, p_value, std_err = linregress(x= nonrap_df['cos_similarity'], y = nonrap_df['song_popularity'])\n",
        "regression_line = [slope * i + intercept for i in nonrap_df['cos_similarity']]\n",
        "plt.scatter(x= nonrap_df['cos_similarity'], y = nonrap_df['song_popularity'], color='blue', marker='o', label='Data Points')\n",
        "plt.plot(nonrap_df['cos_similarity'], regression_line, color='red', label='Regression Line')\n"
      ]
    },
    {
      "cell_type": "code",
      "execution_count": null,
      "metadata": {
        "colab": {
          "base_uri": "https://localhost:8080/"
        },
        "id": "vpGUg3pTne9z",
        "outputId": "03f11b73-acdf-4c99-ac96-2a492054d62e"
      },
      "outputs": [
        {
          "name": "stdout",
          "output_type": "stream",
          "text": [
            "Slope: 1.7367\n",
            "Intercept: 49.6756\n",
            "R-squared: 0.0002\n",
            "P-value: 0.3226\n",
            "Standard Error: 1.7557\n"
          ]
        }
      ],
      "source": [
        "print(f\"Slope: {slope:.4f}\")\n",
        "print(f\"Intercept: {intercept:.4f}\")\n",
        "print(f\"R-squared: {r_value**2:.4f}\")\n",
        "print(f\"P-value: {p_value:.4f}\")\n",
        "print(f\"Standard Error: {std_err:.4f}\")"
      ]
    },
    {
      "cell_type": "markdown",
      "metadata": {
        "id": "0bocErWy-Bbh"
      },
      "source": [
        "Predictive Model\n"
      ]
    },
    {
      "cell_type": "code",
      "execution_count": null,
      "metadata": {
        "id": "W8czmo2l-Fgu"
      },
      "outputs": [],
      "source": [
        "from sklearn.model_selection import train_test_split\n",
        "from sklearn.feature_extraction.text import CountVectorizer"
      ]
    },
    {
      "cell_type": "code",
      "execution_count": null,
      "metadata": {
        "colab": {
          "base_uri": "https://localhost:8080/",
          "height": 178
        },
        "id": "0AnUHwk3BYDc",
        "outputId": "37f09e9e-9c7b-4adb-eb6f-280fc9213519"
      },
      "outputs": [
        {
          "data": {
            "text/html": [
              "\n",
              "  <div id=\"df-ee92b4a8-edb4-4fe7-9341-e402674a368b\" class=\"colab-df-container\">\n",
              "    <div>\n",
              "<style scoped>\n",
              "    .dataframe tbody tr th:only-of-type {\n",
              "        vertical-align: middle;\n",
              "    }\n",
              "\n",
              "    .dataframe tbody tr th {\n",
              "        vertical-align: top;\n",
              "    }\n",
              "\n",
              "    .dataframe thead th {\n",
              "        text-align: right;\n",
              "    }\n",
              "</style>\n",
              "<table border=\"1\" class=\"dataframe\">\n",
              "  <thead>\n",
              "    <tr style=\"text-align: right;\">\n",
              "      <th></th>\n",
              "      <th>body</th>\n",
              "      <th>level_1</th>\n",
              "    </tr>\n",
              "  </thead>\n",
              "  <tbody>\n",
              "    <tr>\n",
              "      <th>0</th>\n",
              "      <td>Do you have the skin of a 80 year old grandma? Worry no more, just drink water!</td>\n",
              "      <td>Nonmisogynistic</td>\n",
              "    </tr>\n",
              "    <tr>\n",
              "      <th>1</th>\n",
              "      <td>This is taking a grain of truth and extrapolating to insanity.\\n\\nStay hydrated, it's healthy, you'll look and feel better. It will not reverse the aging process though.</td>\n",
              "      <td>Nonmisogynistic</td>\n",
              "    </tr>\n",
              "    <tr>\n",
              "      <th>2</th>\n",
              "      <td>Honestly my favorite thing about this is that they feel the need to cite beauty professionals in order to prove that dehydration is caused by not drinking enough water.</td>\n",
              "      <td>Nonmisogynistic</td>\n",
              "    </tr>\n",
              "  </tbody>\n",
              "</table>\n",
              "</div>\n",
              "    <div class=\"colab-df-buttons\">\n",
              "\n",
              "  <div class=\"colab-df-container\">\n",
              "    <button class=\"colab-df-convert\" onclick=\"convertToInteractive('df-ee92b4a8-edb4-4fe7-9341-e402674a368b')\"\n",
              "            title=\"Convert this dataframe to an interactive table.\"\n",
              "            style=\"display:none;\">\n",
              "\n",
              "  <svg xmlns=\"http://www.w3.org/2000/svg\" height=\"24px\" viewBox=\"0 -960 960 960\">\n",
              "    <path d=\"M120-120v-720h720v720H120Zm60-500h600v-160H180v160Zm220 220h160v-160H400v160Zm0 220h160v-160H400v160ZM180-400h160v-160H180v160Zm440 0h160v-160H620v160ZM180-180h160v-160H180v160Zm440 0h160v-160H620v160Z\"/>\n",
              "  </svg>\n",
              "    </button>\n",
              "\n",
              "  <style>\n",
              "    .colab-df-container {\n",
              "      display:flex;\n",
              "      gap: 12px;\n",
              "    }\n",
              "\n",
              "    .colab-df-convert {\n",
              "      background-color: #E8F0FE;\n",
              "      border: none;\n",
              "      border-radius: 50%;\n",
              "      cursor: pointer;\n",
              "      display: none;\n",
              "      fill: #1967D2;\n",
              "      height: 32px;\n",
              "      padding: 0 0 0 0;\n",
              "      width: 32px;\n",
              "    }\n",
              "\n",
              "    .colab-df-convert:hover {\n",
              "      background-color: #E2EBFA;\n",
              "      box-shadow: 0px 1px 2px rgba(60, 64, 67, 0.3), 0px 1px 3px 1px rgba(60, 64, 67, 0.15);\n",
              "      fill: #174EA6;\n",
              "    }\n",
              "\n",
              "    .colab-df-buttons div {\n",
              "      margin-bottom: 4px;\n",
              "    }\n",
              "\n",
              "    [theme=dark] .colab-df-convert {\n",
              "      background-color: #3B4455;\n",
              "      fill: #D2E3FC;\n",
              "    }\n",
              "\n",
              "    [theme=dark] .colab-df-convert:hover {\n",
              "      background-color: #434B5C;\n",
              "      box-shadow: 0px 1px 3px 1px rgba(0, 0, 0, 0.15);\n",
              "      filter: drop-shadow(0px 1px 2px rgba(0, 0, 0, 0.3));\n",
              "      fill: #FFFFFF;\n",
              "    }\n",
              "  </style>\n",
              "\n",
              "    <script>\n",
              "      const buttonEl =\n",
              "        document.querySelector('#df-ee92b4a8-edb4-4fe7-9341-e402674a368b button.colab-df-convert');\n",
              "      buttonEl.style.display =\n",
              "        google.colab.kernel.accessAllowed ? 'block' : 'none';\n",
              "\n",
              "      async function convertToInteractive(key) {\n",
              "        const element = document.querySelector('#df-ee92b4a8-edb4-4fe7-9341-e402674a368b');\n",
              "        const dataTable =\n",
              "          await google.colab.kernel.invokeFunction('convertToInteractive',\n",
              "                                                    [key], {});\n",
              "        if (!dataTable) return;\n",
              "\n",
              "        const docLinkHtml = 'Like what you see? Visit the ' +\n",
              "          '<a target=\"_blank\" href=https://colab.research.google.com/notebooks/data_table.ipynb>data table notebook</a>'\n",
              "          + ' to learn more about interactive tables.';\n",
              "        element.innerHTML = '';\n",
              "        dataTable['output_type'] = 'display_data';\n",
              "        await google.colab.output.renderOutput(dataTable, element);\n",
              "        const docLink = document.createElement('div');\n",
              "        docLink.innerHTML = docLinkHtml;\n",
              "        element.appendChild(docLink);\n",
              "      }\n",
              "    </script>\n",
              "  </div>\n",
              "\n",
              "\n",
              "<div id=\"df-a9fcb5d5-1298-428e-a96d-dc5e104a0fe6\">\n",
              "  <button class=\"colab-df-quickchart\" onclick=\"quickchart('df-a9fcb5d5-1298-428e-a96d-dc5e104a0fe6')\"\n",
              "            title=\"Suggest charts\"\n",
              "            style=\"display:none;\">\n",
              "\n",
              "<svg xmlns=\"http://www.w3.org/2000/svg\" height=\"24px\"viewBox=\"0 0 24 24\"\n",
              "     width=\"24px\">\n",
              "    <g>\n",
              "        <path d=\"M19 3H5c-1.1 0-2 .9-2 2v14c0 1.1.9 2 2 2h14c1.1 0 2-.9 2-2V5c0-1.1-.9-2-2-2zM9 17H7v-7h2v7zm4 0h-2V7h2v10zm4 0h-2v-4h2v4z\"/>\n",
              "    </g>\n",
              "</svg>\n",
              "  </button>\n",
              "\n",
              "<style>\n",
              "  .colab-df-quickchart {\n",
              "      --bg-color: #E8F0FE;\n",
              "      --fill-color: #1967D2;\n",
              "      --hover-bg-color: #E2EBFA;\n",
              "      --hover-fill-color: #174EA6;\n",
              "      --disabled-fill-color: #AAA;\n",
              "      --disabled-bg-color: #DDD;\n",
              "  }\n",
              "\n",
              "  [theme=dark] .colab-df-quickchart {\n",
              "      --bg-color: #3B4455;\n",
              "      --fill-color: #D2E3FC;\n",
              "      --hover-bg-color: #434B5C;\n",
              "      --hover-fill-color: #FFFFFF;\n",
              "      --disabled-bg-color: #3B4455;\n",
              "      --disabled-fill-color: #666;\n",
              "  }\n",
              "\n",
              "  .colab-df-quickchart {\n",
              "    background-color: var(--bg-color);\n",
              "    border: none;\n",
              "    border-radius: 50%;\n",
              "    cursor: pointer;\n",
              "    display: none;\n",
              "    fill: var(--fill-color);\n",
              "    height: 32px;\n",
              "    padding: 0;\n",
              "    width: 32px;\n",
              "  }\n",
              "\n",
              "  .colab-df-quickchart:hover {\n",
              "    background-color: var(--hover-bg-color);\n",
              "    box-shadow: 0 1px 2px rgba(60, 64, 67, 0.3), 0 1px 3px 1px rgba(60, 64, 67, 0.15);\n",
              "    fill: var(--button-hover-fill-color);\n",
              "  }\n",
              "\n",
              "  .colab-df-quickchart-complete:disabled,\n",
              "  .colab-df-quickchart-complete:disabled:hover {\n",
              "    background-color: var(--disabled-bg-color);\n",
              "    fill: var(--disabled-fill-color);\n",
              "    box-shadow: none;\n",
              "  }\n",
              "\n",
              "  .colab-df-spinner {\n",
              "    border: 2px solid var(--fill-color);\n",
              "    border-color: transparent;\n",
              "    border-bottom-color: var(--fill-color);\n",
              "    animation:\n",
              "      spin 1s steps(1) infinite;\n",
              "  }\n",
              "\n",
              "  @keyframes spin {\n",
              "    0% {\n",
              "      border-color: transparent;\n",
              "      border-bottom-color: var(--fill-color);\n",
              "      border-left-color: var(--fill-color);\n",
              "    }\n",
              "    20% {\n",
              "      border-color: transparent;\n",
              "      border-left-color: var(--fill-color);\n",
              "      border-top-color: var(--fill-color);\n",
              "    }\n",
              "    30% {\n",
              "      border-color: transparent;\n",
              "      border-left-color: var(--fill-color);\n",
              "      border-top-color: var(--fill-color);\n",
              "      border-right-color: var(--fill-color);\n",
              "    }\n",
              "    40% {\n",
              "      border-color: transparent;\n",
              "      border-right-color: var(--fill-color);\n",
              "      border-top-color: var(--fill-color);\n",
              "    }\n",
              "    60% {\n",
              "      border-color: transparent;\n",
              "      border-right-color: var(--fill-color);\n",
              "    }\n",
              "    80% {\n",
              "      border-color: transparent;\n",
              "      border-right-color: var(--fill-color);\n",
              "      border-bottom-color: var(--fill-color);\n",
              "    }\n",
              "    90% {\n",
              "      border-color: transparent;\n",
              "      border-bottom-color: var(--fill-color);\n",
              "    }\n",
              "  }\n",
              "</style>\n",
              "\n",
              "  <script>\n",
              "    async function quickchart(key) {\n",
              "      const quickchartButtonEl =\n",
              "        document.querySelector('#' + key + ' button');\n",
              "      quickchartButtonEl.disabled = true;  // To prevent multiple clicks.\n",
              "      quickchartButtonEl.classList.add('colab-df-spinner');\n",
              "      try {\n",
              "        const charts = await google.colab.kernel.invokeFunction(\n",
              "            'suggestCharts', [key], {});\n",
              "      } catch (error) {\n",
              "        console.error('Error during call to suggestCharts:', error);\n",
              "      }\n",
              "      quickchartButtonEl.classList.remove('colab-df-spinner');\n",
              "      quickchartButtonEl.classList.add('colab-df-quickchart-complete');\n",
              "    }\n",
              "    (() => {\n",
              "      let quickchartButtonEl =\n",
              "        document.querySelector('#df-a9fcb5d5-1298-428e-a96d-dc5e104a0fe6 button');\n",
              "      quickchartButtonEl.style.display =\n",
              "        google.colab.kernel.accessAllowed ? 'block' : 'none';\n",
              "    })();\n",
              "  </script>\n",
              "</div>\n",
              "    </div>\n",
              "  </div>\n"
            ],
            "text/plain": [
              "                                                                                                                                                                        body  \\\n",
              "0                                                                                            Do you have the skin of a 80 year old grandma? Worry no more, just drink water!   \n",
              "1  This is taking a grain of truth and extrapolating to insanity.\\n\\nStay hydrated, it's healthy, you'll look and feel better. It will not reverse the aging process though.   \n",
              "2   Honestly my favorite thing about this is that they feel the need to cite beauty professionals in order to prove that dehydration is caused by not drinking enough water.   \n",
              "\n",
              "           level_1  \n",
              "0  Nonmisogynistic  \n",
              "1  Nonmisogynistic  \n",
              "2  Nonmisogynistic  "
            ]
          },
          "execution_count": 102,
          "metadata": {},
          "output_type": "execute_result"
        }
      ],
      "source": [
        "words_label['body'].fillna('', inplace=True)\n",
        "words_label.head(3)\n"
      ]
    },
    {
      "cell_type": "code",
      "execution_count": null,
      "metadata": {
        "id": "YtXoXZAQB-Gq"
      },
      "outputs": [],
      "source": [
        "# Bag of Words representation\n",
        "vec = CountVectorizer ()\n",
        "\n",
        "X = vec.fit_transform (words_label['body'])\n",
        "y = np.array (words_label['level_1'])"
      ]
    },
    {
      "cell_type": "code",
      "execution_count": null,
      "metadata": {
        "id": "INE7fRDMBGbn"
      },
      "outputs": [],
      "source": [
        "test_size = 0.2\n",
        "X_train, X_test, y_train, y_test = train_test_split(X, y ,\n",
        "                                                    test_size=test_size,\n",
        "                                                    random_state=0)"
      ]
    },
    {
      "cell_type": "code",
      "execution_count": null,
      "metadata": {
        "colab": {
          "base_uri": "https://localhost:8080/"
        },
        "id": "7xLS0NftDCQ5",
        "outputId": "ac9c38f9-ed32-4541-fed9-3f67980ea4bc"
      },
      "outputs": [
        {
          "name": "stderr",
          "output_type": "stream",
          "text": [
            "/usr/local/lib/python3.10/dist-packages/sklearn/linear_model/_logistic.py:458: ConvergenceWarning: lbfgs failed to converge (status=1):\n",
            "STOP: TOTAL NO. of ITERATIONS REACHED LIMIT.\n",
            "\n",
            "Increase the number of iterations (max_iter) or scale the data as shown in:\n",
            "    https://scikit-learn.org/stable/modules/preprocessing.html\n",
            "Please also refer to the documentation for alternative solver options:\n",
            "    https://scikit-learn.org/stable/modules/linear_model.html#logistic-regression\n",
            "  n_iter_i = _check_optimize_result(\n"
          ]
        }
      ],
      "source": [
        "# classifier model\n",
        "from sklearn.linear_model import LogisticRegression\n",
        "clf = LogisticRegression(random_state=0).fit(X_train, y_train)"
      ]
    },
    {
      "cell_type": "code",
      "execution_count": null,
      "metadata": {
        "id": "1yPR7FqBDH3v"
      },
      "outputs": [],
      "source": [
        "yhat = clf.predict (X_test)\n",
        "yhat_prob = clf.predict_proba (X_test)"
      ]
    },
    {
      "cell_type": "code",
      "execution_count": null,
      "metadata": {
        "id": "ZsmNcAZNDOhT"
      },
      "outputs": [],
      "source": [
        "from sklearn.metrics import classification_report"
      ]
    },
    {
      "cell_type": "code",
      "execution_count": null,
      "metadata": {
        "colab": {
          "base_uri": "https://localhost:8080/"
        },
        "id": "m3-K-GsEDKni",
        "outputId": "c9b457d1-1d59-4487-aafe-c4f0e3365dca"
      },
      "outputs": [
        {
          "name": "stdout",
          "output_type": "stream",
          "text": [
            "                 precision    recall  f1-score   support\n",
            "\n",
            "   Misogynistic       0.79      0.54      0.64       147\n",
            "Nonmisogynistic       0.94      0.98      0.96      1167\n",
            "\n",
            "       accuracy                           0.93      1314\n",
            "      macro avg       0.87      0.76      0.80      1314\n",
            "   weighted avg       0.93      0.93      0.93      1314\n",
            "\n"
          ]
        }
      ],
      "source": [
        "print (classification_report (y_test, yhat))\n"
      ]
    },
    {
      "cell_type": "code",
      "execution_count": null,
      "metadata": {
        "id": "YVoJieo4PvOh"
      },
      "outputs": [],
      "source": [
        "# Make prediction on all non rap songs\n",
        "nonrap_pred = vec.transform (nonrap_df['Lyric'])\n",
        "nonrap_lyrics_pred = clf.predict(nonrap_pred)\n",
        "nonrap_lyrics_pred_prob = clf.predict_proba(nonrap_pred)"
      ]
    },
    {
      "cell_type": "code",
      "execution_count": null,
      "metadata": {
        "id": "PiJ6LkclPahi"
      },
      "outputs": [],
      "source": [
        "nonrap_df['misogyny_pred_prob'] = nonrap_lyrics_pred_prob[:,0]\n",
        "nonrap_df['nonmisogyny_pred_prob'] = nonrap_lyrics_pred_prob[:, 1]"
      ]
    },
    {
      "cell_type": "code",
      "execution_count": null,
      "metadata": {
        "id": "5x02N6rhmiou"
      },
      "outputs": [],
      "source": [
        "data = {\"lyrics\" : nonrap_df['Lyric'],\n",
        "        \"misogyny\" : nonrap_lyrics_pred}\n",
        "df_pred_nrap= pd.DataFrame(data)"
      ]
    },
    {
      "cell_type": "markdown",
      "metadata": {
        "id": "KxlfjpXYRsd0"
      },
      "source": [
        "Correlation between song misogyny and popularity"
      ]
    },
    {
      "cell_type": "code",
      "execution_count": null,
      "metadata": {
        "colab": {
          "base_uri": "https://localhost:8080/",
          "height": 1000
        },
        "id": "B8XEERk7TBwf",
        "outputId": "697b7ae8-3dd4-42dc-8eac-12d949fbb6cb"
      },
      "outputs": [
        {
          "data": {
            "text/plain": [
              "[<matplotlib.lines.Line2D at 0x7ec47af1d780>]"
            ]
          },
          "execution_count": 112,
          "metadata": {},
          "output_type": "execute_result"
        },
        {
          "data": {
            "image/png": "[encoded data removed]",
            "text/plain": [
              "<Figure size 2000x2000 with 1 Axes>"
            ]
          },
          "metadata": {},
          "output_type": "display_data"
        }
      ],
      "source": [
        "slope, intercept, r_value, p_value, std_err = linregress(x= nonrap_df['misogyny_pred_prob'], y = nonrap_df['song_popularity'])\n",
        "regression_line = [slope * i + intercept for i in nonrap_df['misogyny_pred_prob']]\n",
        "plt.scatter(x= nonrap_df['misogyny_pred_prob'], y = nonrap_df['song_popularity'], color='blue', marker='o', label='Data Points')\n",
        "plt.plot(nonrap_df['misogyny_pred_prob'], regression_line, color='red', label='Regression Line')\n"
      ]
    },
    {
      "cell_type": "code",
      "execution_count": null,
      "metadata": {
        "colab": {
          "base_uri": "https://localhost:8080/"
        },
        "id": "jWLCXu5yUsJH",
        "outputId": "b400d79b-bd45-43f6-bfbb-469f57c0d830"
      },
      "outputs": [
        {
          "name": "stdout",
          "output_type": "stream",
          "text": [
            "Slope: -0.0035\n",
            "Intercept: 50.4588\n",
            "R-squared: 0.0000\n",
            "P-value: 0.9972\n",
            "Standard Error: 1.0229\n"
          ]
        }
      ],
      "source": [
        "print(f\"Slope: {slope:.4f}\")\n",
        "print(f\"Intercept: {intercept:.4f}\")\n",
        "print(f\"R-squared: {r_value**2:.4f}\")\n",
        "print(f\"P-value: {p_value:.4f}\")\n",
        "print(f\"Standard Error: {std_err:.4f}\")"
      ]
    },
    {
      "cell_type": "markdown",
      "metadata": {
        "id": "aBeN2EkvTH0A"
      },
      "source": [
        "Further predictions"
      ]
    },
    {
      "cell_type": "code",
      "execution_count": null,
      "metadata": {
        "id": "scGxgBnaEdUi"
      },
      "outputs": [],
      "source": [
        "# Use our model for actual predictions\n",
        "\n",
        "verse_pred = vec.transform (df['verse_preprocessed'])"
      ]
    },
    {
      "cell_type": "code",
      "execution_count": null,
      "metadata": {
        "id": "rJYl7SMaEOMC"
      },
      "outputs": [],
      "source": [
        "mis_lyrics_pred = clf.predict(verse_pred)\n",
        "mis_lyrics_pred_prob = clf.predict_proba(verse_pred)"
      ]
    },
    {
      "cell_type": "code",
      "execution_count": null,
      "metadata": {
        "colab": {
          "base_uri": "https://localhost:8080/"
        },
        "id": "VnDA_TRqGEUT",
        "outputId": "a0ffe18d-8c2d-4f59-b42a-3577fad61c7b"
      },
      "outputs": [
        {
          "data": {
            "text/plain": [
              "array(['Misogynistic', 'Misogynistic', 'Nonmisogynistic', ...,\n",
              "       'Misogynistic', 'Nonmisogynistic', 'Nonmisogynistic'], dtype=object)"
            ]
          },
          "execution_count": 116,
          "metadata": {},
          "output_type": "execute_result"
        }
      ],
      "source": [
        "mis_lyrics_pred"
      ]
    },
    {
      "cell_type": "code",
      "execution_count": null,
      "metadata": {
        "colab": {
          "base_uri": "https://localhost:8080/"
        },
        "id": "hctEJjn7Ogaa",
        "outputId": "24216ae6-f91b-48a6-eabe-71e725a80e34"
      },
      "outputs": [
        {
          "data": {
            "text/plain": [
              "array([[1.00000000e+00, 4.84089178e-16],\n",
              "       [8.51424406e-01, 1.48575594e-01],\n",
              "       [3.03167358e-02, 9.69683264e-01],\n",
              "       ...,\n",
              "       [9.07482458e-01, 9.25175419e-02],\n",
              "       [3.30732587e-04, 9.99669267e-01],\n",
              "       [5.46767814e-03, 9.94532322e-01]])"
            ]
          },
          "execution_count": 117,
          "metadata": {},
          "output_type": "execute_result"
        }
      ],
      "source": [
        "mis_lyrics_pred_prob"
      ]
    },
    {
      "cell_type": "code",
      "execution_count": null,
      "metadata": {
        "id": "WP1SOqxzHHwQ"
      },
      "outputs": [],
      "source": [
        "data = {\"lyrics\" : df['verse_preprocessed'],\n",
        "        \"misogyny\" : mis_lyrics_pred}\n",
        "df_pred = pd.DataFrame(data)"
      ]
    },
    {
      "cell_type": "code",
      "execution_count": null,
      "metadata": {
        "colab": {
          "base_uri": "https://localhost:8080/",
          "height": 762
        },
        "id": "EKZ-9xvYmYAg",
        "outputId": "ec0a837c-cde0-4552-d0b1-1bcd614c7436"
      },
      "outputs": [
        {
          "data": {
            "text/html": [
              "\n",
              "  <div id=\"df-cb9ffe01-dda9-468e-8dbb-e5165889027a\" class=\"colab-df-container\">\n",
              "    <div>\n",
              "<style scoped>\n",
              "    .dataframe tbody tr th:only-of-type {\n",
              "        vertical-align: middle;\n",
              "    }\n",
              "\n",
              "    .dataframe tbody tr th {\n",
              "        vertical-align: top;\n",
              "    }\n",
              "\n",
              "    .dataframe thead th {\n",
              "        text-align: right;\n",
              "    }\n",
              "</style>\n",
              "<table border=\"1\" class=\"dataframe\">\n",
              "  <thead>\n",
              "    <tr style=\"text-align: right;\">\n",
              "      <th></th>\n",
              "      <th>lyrics</th>\n",
              "      <th>misogyny</th>\n",
              "    </tr>\n",
              "  </thead>\n",
              "  <tbody>\n",
              "    <tr>\n",
              "      <th>0</th>\n",
              "      <td>chickens sink crack stove triple beam weight cut middle man tryna get white bitches snorting plate coke colombia riding round benz looking like trap star flipping raw day night tryna get money right naw ain't living rite fucking bitches night kick 'em next day everyday pay day hit half bring back two days living cali ocean condo got em open long dick stroke em send 'em husband fussing i'm fucking loving puffing heavenly rock star 's slim pants ripped jeans jeremy scott wings fucking heavily counting cream rolling beans disobedient trees tatted neck ear bitches want stare macking hoes pose hand draws henny pores pour hit blunt much dash pass hook coke white bitches coke white bitches coke white bitches coke white bitches coke white bitches coke white bitches coke white bitches coke white bitches</td>\n",
              "      <td>Misogynistic</td>\n",
              "    </tr>\n",
              "    <tr>\n",
              "      <th>1</th>\n",
              "      <td>see car bitch going fast gotta shorty, smash licks at? lets hit mossberg shotty saying get back</td>\n",
              "      <td>Misogynistic</td>\n",
              "    </tr>\n",
              "    <tr>\n",
              "      <th>2</th>\n",
              "      <td></td>\n",
              "      <td>Nonmisogynistic</td>\n",
              "    </tr>\n",
              "    <tr>\n",
              "      <th>3</th>\n",
              "      <td>damn! set 'dat bitch white bitch sniff coke look like kate moss smoking purple, randy moss shrimp, calamari tomato sauce never ever thinking santa claus mama workin' ass put new product drop next like penny hardaway got ball post hood like i'm feet tall hands nuts saying, \"fuck law!\" everything spit cut raw flow like pcp glass jar</td>\n",
              "      <td>Misogynistic</td>\n",
              "    </tr>\n",
              "    <tr>\n",
              "      <th>4</th>\n",
              "      <td>heard talking heard got jokes can't understand dick throat balls mouth hands coat need touching might go broke need fucking dope got tight, ain't acting right keep popping popping outside give reason scare tonight act like yo' ass got sense wanna tell itty bitty bitches need mind fucking business end meeting bottom temp itty bitty niggas need mind fucking bitches tell little wifey public connects. ? woah. woah. send bitch send bitch send bitch</td>\n",
              "      <td>Misogynistic</td>\n",
              "    </tr>\n",
              "    <tr>\n",
              "      <th>5</th>\n",
              "      <td>deniro, fetti, provolone, guap guap deniro, fetti, provolone, guap guap deniro, fetti, provolone, guap guap deniro, fetti, provolone, guap guap see money, get see money, get see money, chase see money, chase see money, get see money, get see money, chase see money, chase deniro, fetti, provolone, guap guap deniro, fetti, provolone, guap guap</td>\n",
              "      <td>Misogynistic</td>\n",
              "    </tr>\n",
              "    <tr>\n",
              "      <th>7</th>\n",
              "      <td>still trapping mall gold chain looking fraud spilled lean clothes fuck sucking dick night see pull car looking like million bucks million dollar baby feeling like i'm max b yacht i'm wavy feeling like i'm max b wavy bitch got crazy</td>\n",
              "      <td>Misogynistic</td>\n",
              "    </tr>\n",
              "    <tr>\n",
              "      <th>8</th>\n",
              "      <td>bet i'll tell bitch suck dick rub clit benzo white lookin' like bowl grits goddamn fans shows wylin' out, startin' mosh pits goddamn pourin' everyday, connected pharmacist whoo might pop another pill, might sip lean go! wu-tang forever, keepin' licks got cream uh future bright, see motherfuckin' gleam put city always put team whoa skyhook competition like i'm kareem mm twin , ? fuck niggas fronted fronted cause done done like turd shitted like turd shitted niggas want want it, want fuck bitch fuck bitch gold daytons gold daytons candy paint skrrrt i'm rollin' stank goddamn i'm sippin' lean goddamn i'm molly goddamn psychedelics goddamn goddamn like i'm john lennon much money need money counter many drugs i'm bout overdose ' much money need money counter many drugs i'm bout overdose thumbin' motherfuckin' damn hundreds thumbin' motherfuckin' damn hundreds much money need money counter many drugs i'm bout overdose</td>\n",
              "      <td>Misogynistic</td>\n",
              "    </tr>\n",
              "    <tr>\n",
              "      <th>9</th>\n",
              "      <td>much money need money counter many drugs i'm bout overdose much money need money counter many drugs i'm bout overdose thumbin' motherfuckin' damn hundreds thumbin' motherfuckin' damn hundreds much money need money counter many drugs i'm bout overdose ridin round slow...ridin round slow...ridin round slow...ridin ridin slow</td>\n",
              "      <td>Misogynistic</td>\n",
              "    </tr>\n",
              "    <tr>\n",
              "      <th>10</th>\n",
              "      <td>ridin round slow...ridin round slow...ridin round slow...ridin ridin slow</td>\n",
              "      <td>Nonmisogynistic</td>\n",
              "    </tr>\n",
              "  </tbody>\n",
              "</table>\n",
              "</div>\n",
              "    <div class=\"colab-df-buttons\">\n",
              "\n",
              "  <div class=\"colab-df-container\">\n",
              "    <button class=\"colab-df-convert\" onclick=\"convertToInteractive('df-cb9ffe01-dda9-468e-8dbb-e5165889027a')\"\n",
              "            title=\"Convert this dataframe to an interactive table.\"\n",
              "            style=\"display:none;\">\n",
              "\n",
              "  <svg xmlns=\"http://www.w3.org/2000/svg\" height=\"24px\" viewBox=\"0 -960 960 960\">\n",
              "    <path d=\"M120-120v-720h720v720H120Zm60-500h600v-160H180v160Zm220 220h160v-160H400v160Zm0 220h160v-160H400v160ZM180-400h160v-160H180v160Zm440 0h160v-160H620v160ZM180-180h160v-160H180v160Zm440 0h160v-160H620v160Z\"/>\n",
              "  </svg>\n",
              "    </button>\n",
              "\n",
              "  <style>\n",
              "    .colab-df-container {\n",
              "      display:flex;\n",
              "      gap: 12px;\n",
              "    }\n",
              "\n",
              "    .colab-df-convert {\n",
              "      background-color: #E8F0FE;\n",
              "      border: none;\n",
              "      border-radius: 50%;\n",
              "      cursor: pointer;\n",
              "      display: none;\n",
              "      fill: #1967D2;\n",
              "      height: 32px;\n",
              "      padding: 0 0 0 0;\n",
              "      width: 32px;\n",
              "    }\n",
              "\n",
              "    .colab-df-convert:hover {\n",
              "      background-color: #E2EBFA;\n",
              "      box-shadow: 0px 1px 2px rgba(60, 64, 67, 0.3), 0px 1px 3px 1px rgba(60, 64, 67, 0.15);\n",
              "      fill: #174EA6;\n",
              "    }\n",
              "\n",
              "    .colab-df-buttons div {\n",
              "      margin-bottom: 4px;\n",
              "    }\n",
              "\n",
              "    [theme=dark] .colab-df-convert {\n",
              "      background-color: #3B4455;\n",
              "      fill: #D2E3FC;\n",
              "    }\n",
              "\n",
              "    [theme=dark] .colab-df-convert:hover {\n",
              "      background-color: #434B5C;\n",
              "      box-shadow: 0px 1px 3px 1px rgba(0, 0, 0, 0.15);\n",
              "      filter: drop-shadow(0px 1px 2px rgba(0, 0, 0, 0.3));\n",
              "      fill: #FFFFFF;\n",
              "    }\n",
              "  </style>\n",
              "\n",
              "    <script>\n",
              "      const buttonEl =\n",
              "        document.querySelector('#df-cb9ffe01-dda9-468e-8dbb-e5165889027a button.colab-df-convert');\n",
              "      buttonEl.style.display =\n",
              "        google.colab.kernel.accessAllowed ? 'block' : 'none';\n",
              "\n",
              "      async function convertToInteractive(key) {\n",
              "        const element = document.querySelector('#df-cb9ffe01-dda9-468e-8dbb-e5165889027a');\n",
              "        const dataTable =\n",
              "          await google.colab.kernel.invokeFunction('convertToInteractive',\n",
              "                                                    [key], {});\n",
              "        if (!dataTable) return;\n",
              "\n",
              "        const docLinkHtml = 'Like what you see? Visit the ' +\n",
              "          '<a target=\"_blank\" href=https://colab.research.google.com/notebooks/data_table.ipynb>data table notebook</a>'\n",
              "          + ' to learn more about interactive tables.';\n",
              "        element.innerHTML = '';\n",
              "        dataTable['output_type'] = 'display_data';\n",
              "        await google.colab.output.renderOutput(dataTable, element);\n",
              "        const docLink = document.createElement('div');\n",
              "        docLink.innerHTML = docLinkHtml;\n",
              "        element.appendChild(docLink);\n",
              "      }\n",
              "    </script>\n",
              "  </div>\n",
              "\n",
              "\n",
              "<div id=\"df-66d2a5c7-00b8-4925-aa39-8816aa2ea77d\">\n",
              "  <button class=\"colab-df-quickchart\" onclick=\"quickchart('df-66d2a5c7-00b8-4925-aa39-8816aa2ea77d')\"\n",
              "            title=\"Suggest charts\"\n",
              "            style=\"display:none;\">\n",
              "\n",
              "<svg xmlns=\"http://www.w3.org/2000/svg\" height=\"24px\"viewBox=\"0 0 24 24\"\n",
              "     width=\"24px\">\n",
              "    <g>\n",
              "        <path d=\"M19 3H5c-1.1 0-2 .9-2 2v14c0 1.1.9 2 2 2h14c1.1 0 2-.9 2-2V5c0-1.1-.9-2-2-2zM9 17H7v-7h2v7zm4 0h-2V7h2v10zm4 0h-2v-4h2v4z\"/>\n",
              "    </g>\n",
              "</svg>\n",
              "  </button>\n",
              "\n",
              "<style>\n",
              "  .colab-df-quickchart {\n",
              "      --bg-color: #E8F0FE;\n",
              "      --fill-color: #1967D2;\n",
              "      --hover-bg-color: #E2EBFA;\n",
              "      --hover-fill-color: #174EA6;\n",
              "      --disabled-fill-color: #AAA;\n",
              "      --disabled-bg-color: #DDD;\n",
              "  }\n",
              "\n",
              "  [theme=dark] .colab-df-quickchart {\n",
              "      --bg-color: #3B4455;\n",
              "      --fill-color: #D2E3FC;\n",
              "      --hover-bg-color: #434B5C;\n",
              "      --hover-fill-color: #FFFFFF;\n",
              "      --disabled-bg-color: #3B4455;\n",
              "      --disabled-fill-color: #666;\n",
              "  }\n",
              "\n",
              "  .colab-df-quickchart {\n",
              "    background-color: var(--bg-color);\n",
              "    border: none;\n",
              "    border-radius: 50%;\n",
              "    cursor: pointer;\n",
              "    display: none;\n",
              "    fill: var(--fill-color);\n",
              "    height: 32px;\n",
              "    padding: 0;\n",
              "    width: 32px;\n",
              "  }\n",
              "\n",
              "  .colab-df-quickchart:hover {\n",
              "    background-color: var(--hover-bg-color);\n",
              "    box-shadow: 0 1px 2px rgba(60, 64, 67, 0.3), 0 1px 3px 1px rgba(60, 64, 67, 0.15);\n",
              "    fill: var(--button-hover-fill-color);\n",
              "  }\n",
              "\n",
              "  .colab-df-quickchart-complete:disabled,\n",
              "  .colab-df-quickchart-complete:disabled:hover {\n",
              "    background-color: var(--disabled-bg-color);\n",
              "    fill: var(--disabled-fill-color);\n",
              "    box-shadow: none;\n",
              "  }\n",
              "\n",
              "  .colab-df-spinner {\n",
              "    border: 2px solid var(--fill-color);\n",
              "    border-color: transparent;\n",
              "    border-bottom-color: var(--fill-color);\n",
              "    animation:\n",
              "      spin 1s steps(1) infinite;\n",
              "  }\n",
              "\n",
              "  @keyframes spin {\n",
              "    0% {\n",
              "      border-color: transparent;\n",
              "      border-bottom-color: var(--fill-color);\n",
              "      border-left-color: var(--fill-color);\n",
              "    }\n",
              "    20% {\n",
              "      border-color: transparent;\n",
              "      border-left-color: var(--fill-color);\n",
              "      border-top-color: var(--fill-color);\n",
              "    }\n",
              "    30% {\n",
              "      border-color: transparent;\n",
              "      border-left-color: var(--fill-color);\n",
              "      border-top-color: var(--fill-color);\n",
              "      border-right-color: var(--fill-color);\n",
              "    }\n",
              "    40% {\n",
              "      border-color: transparent;\n",
              "      border-right-color: var(--fill-color);\n",
              "      border-top-color: var(--fill-color);\n",
              "    }\n",
              "    60% {\n",
              "      border-color: transparent;\n",
              "      border-right-color: var(--fill-color);\n",
              "    }\n",
              "    80% {\n",
              "      border-color: transparent;\n",
              "      border-right-color: var(--fill-color);\n",
              "      border-bottom-color: var(--fill-color);\n",
              "    }\n",
              "    90% {\n",
              "      border-color: transparent;\n",
              "      border-bottom-color: var(--fill-color);\n",
              "    }\n",
              "  }\n",
              "</style>\n",
              "\n",
              "  <script>\n",
              "    async function quickchart(key) {\n",
              "      const quickchartButtonEl =\n",
              "        document.querySelector('#' + key + ' button');\n",
              "      quickchartButtonEl.disabled = true;  // To prevent multiple clicks.\n",
              "      quickchartButtonEl.classList.add('colab-df-spinner');\n",
              "      try {\n",
              "        const charts = await google.colab.kernel.invokeFunction(\n",
              "            'suggestCharts', [key], {});\n",
              "      } catch (error) {\n",
              "        console.error('Error during call to suggestCharts:', error);\n",
              "      }\n",
              "      quickchartButtonEl.classList.remove('colab-df-spinner');\n",
              "      quickchartButtonEl.classList.add('colab-df-quickchart-complete');\n",
              "    }\n",
              "    (() => {\n",
              "      let quickchartButtonEl =\n",
              "        document.querySelector('#df-66d2a5c7-00b8-4925-aa39-8816aa2ea77d button');\n",
              "      quickchartButtonEl.style.display =\n",
              "        google.colab.kernel.accessAllowed ? 'block' : 'none';\n",
              "    })();\n",
              "  </script>\n",
              "</div>\n",
              "    </div>\n",
              "  </div>\n"
            ],
            "text/plain": [
              "                                                                                                                                                                                                                                                                                                                                                                                                                                                                                                                                                                                                                                                                                                                                                                                                                                                                                                                                                           lyrics  \\\n",
              "0                                                                                                                           chickens sink crack stove triple beam weight cut middle man tryna get white bitches snorting plate coke colombia riding round benz looking like trap star flipping raw day night tryna get money right naw ain't living rite fucking bitches night kick 'em next day everyday pay day hit half bring back two days living cali ocean condo got em open long dick stroke em send 'em husband fussing i'm fucking loving puffing heavenly rock star 's slim pants ripped jeans jeremy scott wings fucking heavily counting cream rolling beans disobedient trees tatted neck ear bitches want stare macking hoes pose hand draws henny pores pour hit blunt much dash pass hook coke white bitches coke white bitches coke white bitches coke white bitches coke white bitches coke white bitches coke white bitches coke white bitches   \n",
              "1                                                                                                                                                                                                                                                                                                                                                                                                                                                                                                                                                                                                                                                                                                                                                                                                                                                                 see car bitch going fast gotta shorty, smash licks at? lets hit mossberg shotty saying get back   \n",
              "2                                                                                                                                                                                                                                                                                                                                                                                                                                                                                                                                                                                                                                                                                                                                                                                                                                                                                                                                                                   \n",
              "3                                                                                                                                                                                                                                                                                                                                                                                                                                                                                                                                                                                                                    damn! set 'dat bitch white bitch sniff coke look like kate moss smoking purple, randy moss shrimp, calamari tomato sauce never ever thinking santa claus mama workin' ass put new product drop next like penny hardaway got ball post hood like i'm feet tall hands nuts saying, \"fuck law!\" everything spit cut raw flow like pcp glass jar   \n",
              "4                                                                                                                                                                                                                                                                                                                                                                                                                                                                                                 heard talking heard got jokes can't understand dick throat balls mouth hands coat need touching might go broke need fucking dope got tight, ain't acting right keep popping popping outside give reason scare tonight act like yo' ass got sense wanna tell itty bitty bitches need mind fucking business end meeting bottom temp itty bitty niggas need mind fucking bitches tell little wifey public connects. ? woah. woah. send bitch send bitch send bitch   \n",
              "5                                                                                                                                                                                                                                                                                                                                                                                                                                                                                                                                                                                                         deniro, fetti, provolone, guap guap deniro, fetti, provolone, guap guap deniro, fetti, provolone, guap guap deniro, fetti, provolone, guap guap see money, get see money, get see money, chase see money, chase see money, get see money, get see money, chase see money, chase deniro, fetti, provolone, guap guap deniro, fetti, provolone, guap guap   \n",
              "7                                                                                                                                                                                                                                                                                                                                                                                                                                                                                                                                                                                                                                                                                                                         still trapping mall gold chain looking fraud spilled lean clothes fuck sucking dick night see pull car looking like million bucks million dollar baby feeling like i'm max b yacht i'm wavy feeling like i'm max b wavy bitch got crazy   \n",
              "8   bet i'll tell bitch suck dick rub clit benzo white lookin' like bowl grits goddamn fans shows wylin' out, startin' mosh pits goddamn pourin' everyday, connected pharmacist whoo might pop another pill, might sip lean go! wu-tang forever, keepin' licks got cream uh future bright, see motherfuckin' gleam put city always put team whoa skyhook competition like i'm kareem mm twin , ? fuck niggas fronted fronted cause done done like turd shitted like turd shitted niggas want want it, want fuck bitch fuck bitch gold daytons gold daytons candy paint skrrrt i'm rollin' stank goddamn i'm sippin' lean goddamn i'm molly goddamn psychedelics goddamn goddamn like i'm john lennon much money need money counter many drugs i'm bout overdose ' much money need money counter many drugs i'm bout overdose thumbin' motherfuckin' damn hundreds thumbin' motherfuckin' damn hundreds much money need money counter many drugs i'm bout overdose   \n",
              "9                                                                                                                                                                                                                                                                                                                                                                                                                                                                                                                                                                                                                            much money need money counter many drugs i'm bout overdose much money need money counter many drugs i'm bout overdose thumbin' motherfuckin' damn hundreds thumbin' motherfuckin' damn hundreds much money need money counter many drugs i'm bout overdose ridin round slow...ridin round slow...ridin round slow...ridin ridin slow   \n",
              "10                                                                                                                                                                                                                                                                                                                                                                                                                                                                                                                                                                                                                                                                                                                                                                                                                                                                                      ridin round slow...ridin round slow...ridin round slow...ridin ridin slow   \n",
              "\n",
              "           misogyny  \n",
              "0      Misogynistic  \n",
              "1      Misogynistic  \n",
              "2   Nonmisogynistic  \n",
              "3      Misogynistic  \n",
              "4      Misogynistic  \n",
              "5      Misogynistic  \n",
              "7      Misogynistic  \n",
              "8      Misogynistic  \n",
              "9      Misogynistic  \n",
              "10  Nonmisogynistic  "
            ]
          },
          "execution_count": 119,
          "metadata": {},
          "output_type": "execute_result"
        }
      ],
      "source": [
        "df_pred.head(10)"
      ]
    },
    {
      "cell_type": "code",
      "execution_count": null,
      "metadata": {
        "id": "9l31O1vEPDKq"
      },
      "outputs": [],
      "source": []
    },
    {
      "cell_type": "markdown",
      "metadata": {
        "id": "oaKCn6qFllUK"
      },
      "source": [
        "Cross Domain Comparison"
      ]
    },
    {
      "cell_type": "code",
      "execution_count": null,
      "metadata": {
        "id": "HhQPxo54t4ZK"
      },
      "outputs": [],
      "source": [
        "df_sample_2 = df.sample(n = 100, random_state = 10010)\n"
      ]
    },
    {
      "cell_type": "code",
      "execution_count": null,
      "metadata": {
        "colab": {
          "base_uri": "https://localhost:8080/",
          "height": 17
        },
        "id": "mUsiiyThuXv4",
        "outputId": "9e7c5775-6b0c-4754-f685-701d12c6d723"
      },
      "outputs": [
        {
          "data": {
            "application/javascript": "\n    async function download(id, filename, size) {\n      if (!google.colab.kernel.accessAllowed) {\n        return;\n      }\n      const div = document.createElement('div');\n      const label = document.createElement('label');\n      label.textContent = `Downloading \"${filename}\": `;\n      div.appendChild(label);\n      const progress = document.createElement('progress');\n      progress.max = size;\n      div.appendChild(progress);\n      document.body.appendChild(div);\n\n      const buffers = [];\n      let downloaded = 0;\n\n      const channel = await google.colab.kernel.comms.open(id);\n      // Send a message to notify the kernel that we're ready.\n      channel.send({})\n\n      for await (const message of channel.messages) {\n        // Send a message to notify the kernel that we're ready.\n        channel.send({})\n        if (message.buffers) {\n          for (const buffer of message.buffers) {\n            buffers.push(buffer);\n            downloaded += buffer.byteLength;\n            progress.value = downloaded;\n          }\n        }\n      }\n      const blob = new Blob(buffers, {type: 'application/binary'});\n      const a = document.createElement('a');\n      a.href = window.URL.createObjectURL(blob);\n      a.download = filename;\n      div.appendChild(a);\n      a.click();\n      div.remove();\n    }\n  ",
            "text/plain": [
              "<IPython.core.display.Javascript object>"
            ]
          },
          "metadata": {},
          "output_type": "display_data"
        },
        {
          "data": {
            "application/javascript": "download(\"download_82dab76b-1243-45e8-9254-54b8332b1829\", \"df_sample_2.csv\", 108010)",
            "text/plain": [
              "<IPython.core.display.Javascript object>"
            ]
          },
          "metadata": {},
          "output_type": "display_data"
        }
      ],
      "source": [
        "df_sample_2.to_csv('df_sample_2.csv', index=False)\n",
        "from google.colab import files\n",
        "files.download('df_sample_2.csv')"
      ]
    },
    {
      "cell_type": "code",
      "execution_count": null,
      "metadata": {
        "colab": {
          "base_uri": "https://localhost:8080/"
        },
        "id": "nJhz_a_5lsNX",
        "outputId": "251b869b-a29f-474c-d214-1b93b112cc06"
      },
      "outputs": [
        {
          "data": {
            "text/plain": [
              "(201, 5)"
            ]
          },
          "execution_count": 122,
          "metadata": {},
          "output_type": "execute_result"
        }
      ],
      "source": [
        "# sample 100 verses from `df` to make cross domain comparison\n",
        "\n",
        "df_sample = pd.read_csv(\"/content/drive/MyDrive/QTM340 Final Project/Misogynies/df_sample.csv\")\n",
        "df_sample.shape"
      ]
    },
    {
      "cell_type": "code",
      "execution_count": null,
      "metadata": {
        "colab": {
          "base_uri": "https://localhost:8080/"
        },
        "id": "aQmQ_XSRuz0g",
        "outputId": "2060dbbb-8302-48d7-8869-8944a4610eca"
      },
      "outputs": [
        {
          "data": {
            "text/plain": [
              "Index(['Unnamed: 0', 'rapper', 'verse', 'num_misogyny', 'misogyny_label'], dtype='object')"
            ]
          },
          "execution_count": 123,
          "metadata": {},
          "output_type": "execute_result"
        }
      ],
      "source": [
        "df_sample.columns"
      ]
    },
    {
      "cell_type": "code",
      "execution_count": null,
      "metadata": {
        "id": "dsefFqdXhj3g"
      },
      "outputs": [],
      "source": [
        "X_lyrics = vec.transform(df_sample['verse'])\n",
        "y_lyrics = np.array (df_sample['misogyny_label'])"
      ]
    },
    {
      "cell_type": "code",
      "execution_count": null,
      "metadata": {
        "id": "obNORjk8n2Nc"
      },
      "outputs": [],
      "source": [
        "test_size = 0.5\n",
        "X_train, X_test, y_train, y_test = train_test_split(X_lyrics, y_lyrics,\n",
        "                                                    test_size=test_size,\n",
        "                                                    random_state=0)"
      ]
    },
    {
      "cell_type": "code",
      "execution_count": null,
      "metadata": {
        "id": "ymxAHDx5mkPU"
      },
      "outputs": [],
      "source": [
        "clf2 = LogisticRegression(random_state=0).fit(X_train, y_train)"
      ]
    },
    {
      "cell_type": "code",
      "execution_count": null,
      "metadata": {
        "id": "4teKgtKeoAXs"
      },
      "outputs": [],
      "source": [
        "yhat = clf2.predict (X_test)"
      ]
    },
    {
      "cell_type": "code",
      "execution_count": null,
      "metadata": {
        "colab": {
          "base_uri": "https://localhost:8080/"
        },
        "id": "1PHHJfxjoIzT",
        "outputId": "cfebee55-1321-406c-9d45-8f74e61eb77b"
      },
      "outputs": [
        {
          "name": "stdout",
          "output_type": "stream",
          "text": [
            "                 precision    recall  f1-score   support\n",
            "\n",
            "   Misogynistic       0.70      0.53      0.60        36\n",
            "Nonmisogynistic       0.77      0.88      0.82        65\n",
            "\n",
            "       accuracy                           0.75       101\n",
            "      macro avg       0.74      0.70      0.71       101\n",
            "   weighted avg       0.75      0.75      0.74       101\n",
            "\n"
          ]
        }
      ],
      "source": [
        "print (classification_report (y_test, yhat))"
      ]
    },
    {
      "cell_type": "markdown",
      "metadata": {
        "id": "3GJilegscQ5j"
      },
      "source": [
        "4. If songs rated high on misogyny is actually misogynous\n",
        "\n",
        "\n"
      ]
    },
    {
      "cell_type": "code",
      "execution_count": null,
      "metadata": {
        "id": "q6FCPUmdn1Zm"
      },
      "outputs": [],
      "source": [
        "percentage_misogynistic_rap = (df_pred['misogyny'].value_counts().get('Misogynistic', 0) / len(df_pred['misogyny'])) * 100\n",
        "percentage_misogynistic_nonrap = (df_pred_nrap['misogyny'].value_counts().get('Misogynistic', 0) / len(df_pred_nrap['misogyny'])) * 100\n"
      ]
    },
    {
      "cell_type": "code",
      "execution_count": null,
      "metadata": {
        "colab": {
          "base_uri": "https://localhost:8080/"
        },
        "id": "fXNkhRu7obic",
        "outputId": "9f016399-2811-4fdf-9d73-a1ed5e887a49"
      },
      "outputs": [
        {
          "data": {
            "text/plain": [
              "13.554801163918526"
            ]
          },
          "execution_count": 130,
          "metadata": {},
          "output_type": "execute_result"
        }
      ],
      "source": [
        "percentage_misogynistic_nonrap"
      ]
    },
    {
      "cell_type": "code",
      "execution_count": null,
      "metadata": {
        "colab": {
          "base_uri": "https://localhost:8080/"
        },
        "id": "Z71Zif5Joc0d",
        "outputId": "1d37a16c-0505-4d77-c004-28aeb05ef610"
      },
      "outputs": [
        {
          "data": {
            "text/plain": [
              "34.01048492791612"
            ]
          },
          "execution_count": 131,
          "metadata": {},
          "output_type": "execute_result"
        }
      ],
      "source": [
        "percentage_misogynistic_rap"
      ]
    },
    {
      "cell_type": "code",
      "execution_count": null,
      "metadata": {
        "id": "xytL8P9rc4Hb"
      },
      "outputs": [],
      "source": [
        "df_pred_mis = df_pred[df_pred['misogyny']=='Misogynistic']"
      ]
    },
    {
      "cell_type": "code",
      "execution_count": null,
      "metadata": {
        "id": "Z7BTtdOqcWT5"
      },
      "outputs": [],
      "source": [
        "np.random.seed(10010)\n",
        "df_pred_mis_check = np.random.choice(df_pred_mis['lyrics'], size= 5, replace= False)"
      ]
    },
    {
      "cell_type": "code",
      "execution_count": null,
      "metadata": {
        "colab": {
          "base_uri": "https://localhost:8080/",
          "height": 53
        },
        "id": "mdGL0ap7dKxH",
        "outputId": "810fef02-897b-423d-a00b-c413ad514d9b"
      },
      "outputs": [
        {
          "data": {
            "application/vnd.google.colaboratory.intrinsic+json": {
              "type": "string"
            },
            "text/plain": [
              "\"y'all give fuck punk bitch stank cause breath always stank every time take drank 's downin', i'm drownin' let hit joint i'll clownin' everybody else\""
            ]
          },
          "execution_count": 134,
          "metadata": {},
          "output_type": "execute_result"
        }
      ],
      "source": [
        "df_pred_mis_check[0]"
      ]
    },
    {
      "cell_type": "markdown",
      "metadata": {
        "id": "nDII1_qWdlKO"
      },
      "source": [
        "y'all give fuck punk bitch stank cause breath always stank every time take drank 's downin', i'm drownin' let hit joint i'll clownin' everybody else"
      ]
    },
    {
      "cell_type": "code",
      "execution_count": null,
      "metadata": {
        "colab": {
          "base_uri": "https://localhost:8080/",
          "height": 105
        },
        "id": "7Er2pPBzdo3P",
        "outputId": "be6f889d-2cff-43fe-8a91-11f3e56a1614"
      },
      "outputs": [
        {
          "data": {
            "application/vnd.google.colaboratory.intrinsic+json": {
              "type": "string"
            },
            "text/plain": [
              "\"i've asked told things mind change still feel what's life fun? please, ashamed i've mine, yours, know.. know get like wish die real 'cause truth hurts lies heal can't sleep thinking lies still cry still, tears pillowcase big girls get little taste pushing away give space dealing heart break you, care keep thinking know tryna run that, say done face, girl, show ready, say ready baggage ain't heavy party's over, forget we'll change pace we'll go slow ever worry, ever hide seen mistakes look eyes\""
            ]
          },
          "execution_count": 135,
          "metadata": {},
          "output_type": "execute_result"
        }
      ],
      "source": [
        "df_pred_mis_check[1]"
      ]
    },
    {
      "cell_type": "code",
      "execution_count": null,
      "metadata": {
        "colab": {
          "base_uri": "https://localhost:8080/",
          "height": 139
        },
        "id": "AKNrTDBLdvcD",
        "outputId": "0ecb7be5-0a93-4c82-db97-0fd03b60ca53"
      },
      "outputs": [
        {
          "data": {
            "application/vnd.google.colaboratory.intrinsic+json": {
              "type": "string"
            },
            "text/plain": [
              "'cat eyes, nine lives, tan lines, thigh highs ride like drive by, i\\'m real niggas sci-fi that\\'s neither there, contemplatin short hair said tryna different like rest bitches that\\'s neither there, dick chair sexual warfare, loaded like software got many hoes i\\'m hoeing, one worth knowing yeah, dirt, that\\'s flowers grow ain\\'t tripping, tripping ain\\'t got shit me, keep sniffing look, girl, gimme brain, i\\'ll return favor hoes say i\\'ma dog, come chase \\'em? lick chaser, pick line wanted time, say, \"okay i\\'m honor\" wanting break since dolce gabbana ass like, \"come sit groceries counter\" drink tea, drink wine, call tijuana dying meet girl, want meet momma swear may go issey miyake, bond no. weed funky, i\\'m smelling fine, tunechi!'"
            ]
          },
          "execution_count": 136,
          "metadata": {},
          "output_type": "execute_result"
        }
      ],
      "source": [
        "df_pred_mis_check[2]"
      ]
    },
    {
      "cell_type": "code",
      "execution_count": null,
      "metadata": {
        "colab": {
          "base_uri": "https://localhost:8080/",
          "height": 139
        },
        "id": "727LcOPBePju",
        "outputId": "771fcc1f-9c49-4b0a-a62c-7302a1304879"
      },
      "outputs": [
        {
          "data": {
            "application/vnd.google.colaboratory.intrinsic+json": {
              "type": "string"
            },
            "text/plain": [
              "'must used finer things infatuated money brings seems hoes never change that\\'s left us exchange verse devin dude let holla \\'cha, b short, check got fucking bitch swallowed cum drunk piss stuck fist cock, budge move sucking fucking, mayne, loved bust , , , nuts mouth, come house know that\\'s bitch, tell nobody shit keeps cool, said pussy\\'s mine way rhyme, let fuck time i\\'m thinking keeping bitch side girl fine niggas, dreamed fucked lied i\\'m numero uno, one bitch me, chewing nuts like bologna click, licked dick like plop nut skeeted like thick white snot saw still hard said \"look got\" rubbed it, hugged, shoved cock tried tell stop, bitch listen guess dick that\\'s hard rock hoes missing return, used stolen credit card cases later get bone gives fuck faces'"
            ]
          },
          "execution_count": 137,
          "metadata": {},
          "output_type": "execute_result"
        }
      ],
      "source": [
        "df_pred_mis_check[3]"
      ]
    },
    {
      "cell_type": "code",
      "execution_count": null,
      "metadata": {
        "colab": {
          "base_uri": "https://localhost:8080/",
          "height": 105
        },
        "id": "CEa9XwydeRuT",
        "outputId": "3adf5190-5119-452c-d48f-d388bb9a9440"
      },
      "outputs": [
        {
          "data": {
            "application/vnd.google.colaboratory.intrinsic+json": {
              "type": "string"
            },
            "text/plain": [
              "\"hell nah, i'm waiting call told i'll back, break walls issues say comes seeing dad keep moving hard stay away stay touch girl, heart broke need crutch thought okay nights stayed ass got layed up, girl never gave us, tried take day day, whew tough know young gotta live life thought right time wife ya must confess, miss days laying chest confusing losing love, i'm saying god bless better, used move together together, new forever? eyes window soul open eyes bring cold dreams keep warm night baby keep 'em closed eyes window sneak night eyes see soul staring back mine\""
            ]
          },
          "execution_count": 138,
          "metadata": {},
          "output_type": "execute_result"
        }
      ],
      "source": [
        "df_pred_mis_check[4]"
      ]
    },
    {
      "cell_type": "code",
      "execution_count": null,
      "metadata": {
        "id": "F9nqH5I2mLAw"
      },
      "outputs": [],
      "source": [
        "df_pred_mis_nrap = df_pred_nrap[df_pred_nrap['misogyny']=='Misogynistic']\n",
        "np.random.seed(10010)\n",
        "df_pred_mis_check_nrap = np.random.choice(df_pred_mis_nrap['lyrics'], size= 10, replace= False)"
      ]
    },
    {
      "cell_type": "code",
      "execution_count": null,
      "metadata": {
        "colab": {
          "base_uri": "https://localhost:8080/",
          "height": 70
        },
        "id": "gtjbEr4Xm17o",
        "outputId": "ac9e6031-cb6a-4b11-a3db-d30662da8c0f"
      },
      "outputs": [
        {
          "data": {
            "application/vnd.google.colaboratory.intrinsic+json": {
              "type": "string"
            },
            "text/plain": [
              "\"Go Tell it on The Mountain Over The Hills and Everywhere Go Tell it on The Mountain That Jesus Christ is Born  I Want you to go Tell them he's a healer I Want you to go Tell them he's our Savior and Master  Oh, go tell it Tell them he's a deliverer Tell it, go tell it That Jesus Christ is born Oh, go tell it Tell it, go tell it  That Jesus Christ, is born\""
            ]
          },
          "execution_count": 140,
          "metadata": {},
          "output_type": "execute_result"
        }
      ],
      "source": [
        "df_pred_mis_check_nrap[0]"
      ]
    },
    {
      "cell_type": "code",
      "execution_count": null,
      "metadata": {
        "colab": {
          "base_uri": "https://localhost:8080/",
          "height": 174
        },
        "id": "GCRXaPhem4k7",
        "outputId": "1227f4b9-bf4b-4210-e674-132bc65f4424"
      },
      "outputs": [
        {
          "data": {
            "application/vnd.google.colaboratory.intrinsic+json": {
              "type": "string"
            },
            "text/plain": [
              "\"I'm thirty-something Going on thirteen Still a sponge to everything Saucer eyes Why, yeah, I still believe And a sparkle in my steps Smiling with my teeth They say that I might lose My midas touch They also say I may become irrelevant  But who the fuck are they anyway? I don't care what they say  I won't act my age Time is just an invention that is made No, I won't act my age It's just my reflection that is out of date 'cause it's all in your attitude It's all in your point of view I won't act my age Just need a little bit of peter pan And some imagination No, I won't act my age  So, I recommend that you lose your mind It was the only thing That was keeping me behind They say curb your curiosity They also say prepare To amend your dreams  But who the fuck are they anyway? I don't care what they say  'cause I won't act my age Time is just an invention that is made No, I won't act my age It's just my reflection that is out of date 'cause it's all in your attitude It's all in your point of view I won't act my age (c'mon) Just need a little bit of peter pan And some imagination No, I won't act my age  How old would you be? yeah How old would you really be If you didn't know, Yeah, how old you really were? How old would you be? yeah How old would you really be If you didn't know Know, how old you really were? Hey!  I won't act my age Time is just an invention that is made No, I won't act my age It's just my reflection that is out of date 'cause it's all in your attitude It's all in your point of view I won't act my age Just need a little bit of peter pan And some imagination No, I won't act my age  I won't act my age Ooh, yeah, ooh Ooh, yeah, ooh I won't act my age\""
            ]
          },
          "execution_count": 141,
          "metadata": {},
          "output_type": "execute_result"
        }
      ],
      "source": [
        "df_pred_mis_check_nrap[1]"
      ]
    },
    {
      "cell_type": "code",
      "execution_count": null,
      "metadata": {
        "colab": {
          "base_uri": "https://localhost:8080/",
          "height": 174
        },
        "id": "LZJY2QLpm4_d",
        "outputId": "561b7f17-c748-4368-8486-d63d51f1fd94"
      },
      "outputs": [
        {
          "data": {
            "application/vnd.google.colaboratory.intrinsic+json": {
              "type": "string"
            },
            "text/plain": [
              "\"You know I love women,  Mujere loca Mujere rica Mujere linda Mujere latina...  Mujere, girls, a mi me encanta la Mujere, girls, en la manana la Mujere, girl, y por la noche la Mujeres (girls [x4]) let me break it down for you Pero ten cuidado (capitulo uno) Si tu esta ?? (eh, tiger woods) Y ma que nada si esta casado (eso no llame a ti en manera?) Ella te deja, y majinate embarcado Cacho plantado y sin ello...  Ensa dio support (capitulo dos) Le tiengo mido del child support (a yai yai) You better pay that child support (that's right) Si no te llevan par el court Ay mi madre no le digas eso es un mala palabra...  Esa bariga (capitulo tres) De quien sera esa bariga (ay mi madre) Esa bariga no es mia (eso no es mio) Porque me hice surjuria Y no es hablando de el bombita, yo funcione sin pastillas...  Mujere, girls, a mi me encanta la Mujere, girls, en la manana la Mujere, girl, y por la noche la Mujeres Girls Girls Girls Girls  A la mujeres (capitulo cuarto) Le encanta acer ser los unias (si con los korean esos) Y acer ser el pelo (ma que nada con la dominicana) Y si tu no tiene dinero (ay yai yai) ay papito preparate...  Ellas se encantan (capitulo cinco)  Le encantan ser el amor (ahi si) Y acer su locuras (jajaja ya tu sabes) Y tien cuidado si no duras Porque todos los cosas pone dura de verda o digo suave?  Pastillas (capitulo seis) Pastillas ante con septivas (el birth control pill) Que no te metas a mentira (deja la muela chica) Porque entonces esta ?? Christina diciendo que no es tu hija, And you are the father...  Mujere, girls, a mi me encanta la Mujere, girls, en la manana la Mujere, girl, y por la noche la Mujeres Girls Girls Girls Girls  Mujeres bien loca Mujeres bien rica Mujeres bien linda Mujeres latina  Mujere, girls, a mi me encanta la Mujere, girls, en la manana la Mujere, girl, y por la noche la Mujeres Girls Girls Girls Girls  Pero tien cuidado  Tu sabes que la, mujeres son Una de la cosas mas porredosas del mundo, Son una de la cosas mas, lindas del mundo. Pero mas que nada son Una de las cosas mas peligrosas del mundo, So tien cuidado.  Y como dicen, no te metas con nadia, Pa que nadia te lo meta  Jajajaja  Dale...\""
            ]
          },
          "execution_count": 142,
          "metadata": {},
          "output_type": "execute_result"
        }
      ],
      "source": [
        "df_pred_mis_check_nrap[2]"
      ]
    },
    {
      "cell_type": "code",
      "execution_count": null,
      "metadata": {
        "colab": {
          "base_uri": "https://localhost:8080/",
          "height": 174
        },
        "id": "hIubriMRm5Sv",
        "outputId": "96c6f9a3-b159-401f-dd92-f0a756ad6fbd"
      },
      "outputs": [
        {
          "data": {
            "application/vnd.google.colaboratory.intrinsic+json": {
              "type": "string"
            },
            "text/plain": [
              "'Early morning, she wakes up Knock! Knock! Knock! On the door It\\'s time for makeup, perfect smile It\\'s you they\\'re all waiting for They go  \"Isn\\'t she lovely this Hollywood girl? \" And they say  She\\'s so lucky, she\\'s a star But she cry, cry, cries In her lonely heart, thinking If there\\'s nothing missing in my life Then, why do these tears come at night?  Lost in an imanage, in a dream But there\\'s no one there to wake her up And the world is spinning And she keeps on winning But tell me what happens when it stops? They go  \"Isn\\'t she lovely this Hollywood girl? \" And they say  She\\'s so lucky, she\\'s a star But she cry, cry, cries In her lonely heart, thinking If there\\'s nothing missing in my life Then, why do these tears come at night?  \"Best actress, and the winner is Lucky! \" \"I\\'m Roger Johnson for Pop News Standing outside the Arena waiting for Lucky Oh, my God, here she comes! \"  Isn\\'t she lucky this Hollywood girl? She is so lucky, but why does she cry? If there\\'s nothing missing in her life Why do tears come at night?  And they say She\\'s so lucky, she\\'s a star But she cry, cry, cries In her lonely heart, thinking If there\\'s nothing missing in my life Then why do these tears come at night?  She\\'s so lucky But she cry, cry, cries In her lonely heart, thinking If there\\'s nothing missing in my life Then why do these tears come at night?'"
            ]
          },
          "execution_count": 143,
          "metadata": {},
          "output_type": "execute_result"
        }
      ],
      "source": [
        "df_pred_mis_check_nrap[3]"
      ]
    },
    {
      "cell_type": "code",
      "execution_count": null,
      "metadata": {
        "colab": {
          "base_uri": "https://localhost:8080/",
          "height": 174
        },
        "id": "ndABhrprm5oF",
        "outputId": "47074d46-80c2-4eba-c60d-59fd2334c0e5"
      },
      "outputs": [
        {
          "data": {
            "application/vnd.google.colaboratory.intrinsic+json": {
              "type": "string"
            },
            "text/plain": [
              "\"Whenever I was frightened Or if I ever felt alone I turned to the night sky And a star I call my own  Somewhere I could run to Just across the milky way If you like I could take you It's just a light year and a day  We can sail away tonight On a sea of pure moonlight We can navigate the stars Bring us back home  In a place so far away We'll be young, that's how we'll stay Every wish is a command When we find ourselves in never Neverland  Through all my make believe There's some reality In your reflection There's much more than you see  All that you hope for You hope for today Is the love someone gives you In an unconditional way  We can sail away tonight On a sea of pure moonlight We can navigate the stars To bring us back home  In a place so far away We'll be young, that's how we'll stay Every wish is a command When we find ourselves in never Neverland  Picture a land you never have seen Life is eternal and evergreen Future of happiness all in your hands All in this place I created That I call Neverland  We can sail away tonight On a sea of pure moonlight We can navigate the stars To bring us back home  In a place so far away We'll be young, that's how we'll stay And with your hand in my hand I am closer now to finding Neverland  And with your hand in my hand I am closer now to finding Neverland\""
            ]
          },
          "execution_count": 144,
          "metadata": {},
          "output_type": "execute_result"
        }
      ],
      "source": [
        "df_pred_mis_check_nrap[4]"
      ]
    },
    {
      "cell_type": "code",
      "execution_count": null,
      "metadata": {
        "colab": {
          "base_uri": "https://localhost:8080/",
          "height": 174
        },
        "id": "s7aGBuaHcJGp",
        "outputId": "00ddb63c-c22d-4176-8bf4-f692021b0f50"
      },
      "outputs": [
        {
          "data": {
            "application/vnd.google.colaboratory.intrinsic+json": {
              "type": "string"
            },
            "text/plain": [
              "'Summer rain taps at my window West wind soft as a sweet dream My love warm as the sunshine Sittin\\' here by me, She\\'s here by me  She stepped out of the rainbow Golden hair shinin\\' like moon glow Warm lips soft as a soul Sitting here by me, yeah She\\'s here by me  All summer long we spent dancin\\' in the sand And the jukebox kept on playin\\' \"Sgt. Pepper\\'s Lonely Hearts Club Band\"  We sailed into the sunset Drifting home caught by a gulf stream Never gave a thought for tomorrow Just let tomorrow be, now Let tomorrow be  Instrumental interlude  She wants to live in the Rockies She says that\\'s where we\\'ll find peace Settle down, raise up a fam\\'ly To call our own, yeah We\\'ll have a home  All summer long we spent groovin\\' in the sand Everybody kept on playin\\' \"Sgt. Pepper\\'s Lonely Hearts Club Band\"  The snow drifts by my window North wind blowin\\' like thunder Our love\\'s burnin\\' like fire And she\\'s here by me, yeah She\\'s here with me Let tomorrow be'"
            ]
          },
          "execution_count": 151,
          "metadata": {},
          "output_type": "execute_result"
        }
      ],
      "source": [
        "df_pred_mis_check_nrap[9]"
      ]
    }
  ],
  "metadata": {
    "colab": {
      "provenance": []
    },
    "kernelspec": {
      "display_name": "Python 3",
      "name": "python3"
    },
    "language_info": {
      "name": "python"
    }
  },
  "nbformat": 4,
  "nbformat_minor": 0
}
